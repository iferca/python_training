{
 "cells": [
  {
   "cell_type": "markdown",
   "id": "6bd62e80",
   "metadata": {},
   "source": [
    "# Conventional Programming vs Machine Learning\n",
    "\n",
    "In conventional programming the task is to code algorithm that take certain **input** and generates the desired **output**. These algorithms are the necesary rules and logic to achieve such a conversion. \n",
    "\n",
    "In the case of Machine Learning is different. We might have a list of **input** data and the desired **output**, but we don't necesary know the algorithms, rules and logic capable of achieving the required transformation. \n",
    "\n",
    "The task in this case is to create a `model` that can take the inputs, the expected result for each individual input value and can **learn** from them the necesary algorithms to apply to generate the desired values.\n",
    "\n",
    "## Let's start with the simplest possible example\n",
    "\n",
    "Imagine you need to convert temperature values in Celsius to its corresponding Fahrenheit values. The formula to achieve that is the followong:\n",
    "\n",
    "```python\n",
    "fahrenheit = celsius * 1.8 + 32\n",
    "```\n",
    "\n",
    "Since this is a simple problem to solve we wouldn't use Machine Learning but at the same time is a good candidate to understand how the process works.\n",
    "\n",
    "Using conventional programming a function like this could be the right solution: \n",
    "\n",
    "```python\n",
    "def cel_to_far(celsius):\n",
    "    return celsius * 1.8 + 32\n",
    "```\n",
    "\n",
    "Let's assume we don't know all this, and all we have is a list of temperture values in Celsius and the corresponding values in Fahrenheit.\n",
    "\n",
    "To solve this problem we need the following: \n",
    "1. Data in celsius and the corresponding values in Fahrenheit\n",
    "2. A neural network for our model\n",
    "3. Train the model\n",
    "4. Evaluate the results of the model\n",
    "5. Use the model to do inference\n",
    "\n",
    "### Neural network :: just what we need for this example\n",
    "\n",
    "A neural network is made up of Layers. Each Layer can contain one or more nwurons. The simplest neural network should have at least an input layer, where the input data will be entered and and output layer to... yes, output the resulting data of the network.\n",
    "\n",
    "More complex networks will have more intermediate layers, also known as hidden layers.\n",
    "\n",
    "Neurons from one layer connect to neurons on other Layers using connections. Each connection has a numeric value known as `Weight` assigned, you can think on it as how important is this connection compared to others. In addition to that, each neuron (except the ones in the input layer) has a numeric value known as `Bias`. \n",
    "\n",
    "### Learn how to predict Fahrenheit from Celsius\n",
    "\n",
    "To solve our problem we will use a two layer, one neuron in each layer. These are the Input layer with one nuron to capture the input value in celsius and the Output layer to produce the calculated value in Fahrenheit. \n",
    "\n",
    "The way this network work is as follow: \n",
    "\n",
    "Given a value to the input layer neuron representing the temperature in celsius, this value is *passed* to a connected network by multiplying it by the `weigh` in the connection between the neurons; this value is then added with the `bias`; since our network only have two layers, that will our result. \n",
    "\n",
    "So let's assume we have 15 C, a weight of 1.8 and a bias of 4.5, the network will calculate this way:\n",
    "\n",
    "```\n",
    "15 * 1.8 = 27 + 4.5 = 31.5\n",
    "```\n",
    "\n",
    "In this example the value should be 59 but was 31.5, so not even close. The network needs to adjust the weights and the bias. At the begining of the training process these are initializes randomly and an optimization process is used to change them accordingly.\n",
    "\n",
    "Let's use `tensorflow` and `keras` to create our model."
   ]
  },
  {
   "cell_type": "code",
   "execution_count": 22,
   "id": "e8eef752",
   "metadata": {},
   "outputs": [],
   "source": [
    "import tensorflow as tf\n",
    "import numpy as np"
   ]
  },
  {
   "cell_type": "markdown",
   "id": "a34db2fd",
   "metadata": {},
   "source": [
    "Let's now create two NumPy arrays with the date we will use to train the model"
   ]
  },
  {
   "cell_type": "code",
   "execution_count": 2,
   "id": "0cfbb17e",
   "metadata": {},
   "outputs": [],
   "source": [
    "celsius = np.array([-40, -10, 0, 8, 15, 22, 38, 70, 12, -50], dtype=float)\n",
    "fahrenheit = np.array([-40, 14, 32, 46.4, 59, 71.6, 100.4, 158, 53.6, -58], dtype=float)"
   ]
  },
  {
   "cell_type": "markdown",
   "id": "4b577822",
   "metadata": {},
   "source": [
    "Using Keras framework will help write very little code to create the network. \n",
    "\n",
    "The following line creates the output layer as a `Dense` layer with one neuron (`units=1`) and specify there is an input layer that will be auto-registered for us with one neuron (`input_shape=1`):"
   ]
  },
  {
   "cell_type": "code",
   "execution_count": 3,
   "id": "0a49d20e",
   "metadata": {},
   "outputs": [],
   "source": [
    "output_layer = tf.keras.layers.Dense(units=1, input_shape=[1])"
   ]
  },
  {
   "cell_type": "markdown",
   "id": "060d4b46",
   "metadata": {},
   "source": [
    "Up to this point these layers are useless, we need a Keras model so we can pass the layers and be able to do something useful with them. There are many types of models, in this case let's use a `Sequential` model:"
   ]
  },
  {
   "cell_type": "code",
   "execution_count": 23,
   "id": "d06a503f",
   "metadata": {},
   "outputs": [],
   "source": [
    "model = tf.keras.Sequential([output_layer])"
   ]
  },
  {
   "cell_type": "markdown",
   "id": "e792dff3",
   "metadata": {},
   "source": [
    "With the model ready with the network, the next step is to `compile` the model, this prepares the model to be trained. "
   ]
  },
  {
   "cell_type": "code",
   "execution_count": 5,
   "id": "219dc350",
   "metadata": {},
   "outputs": [],
   "source": [
    "model.compile(\n",
    "    optimizer=tf.keras.optimizers.Adam(0.1),\n",
    "    loss='mean_squared_error'\n",
    ")"
   ]
  },
  {
   "cell_type": "markdown",
   "id": "20a9eefe",
   "metadata": {},
   "source": [
    "In this case two properties of the model were specified, the `Optimizer` and the `Loss function`. \n",
    "\n",
    "As mentioned before the optimzer is the mechanism the model will use to adjust the weight and the bias. In this case `Adam` is an optimizer allows an efficient adjustment of the values in a way that the model will always learn, improving with each iteration of the training rather than getting worse at predicting. The value of `0.1` is the learning rate the optimizer will use to adjust the values: if the rate is too small the model could learn very slowly it too hight, maybe the adjustments are not granular enough to achieve the desired accuracy.\n",
    "\n",
    "The loss function used is *Mean squared error*, this function considers a small amount of big error is worse than a large amount of small errors.\n",
    "\n",
    "With the model ready and compiled, it is time to train the model. To do that let's use the `fit()` method from the model and pass it the training data, this is: the temperature values in celsius and the expected values in Fahrenheit and how many times the dataset should be attempted: `epoch`. One attempt means going over all the training data. Let's start with 1000 to give it time to optimize itself. "
   ]
  },
  {
   "cell_type": "code",
   "execution_count": 7,
   "id": "2febe95c",
   "metadata": {},
   "outputs": [
    {
     "name": "stdout",
     "output_type": "stream",
     "text": [
      "CPU times: user 1.93 s, sys: 74.4 ms, total: 2.01 s\n",
      "Wall time: 1.64 s\n"
     ]
    }
   ],
   "source": [
    "%%time\n",
    "hist = model.fit(celsius, fahrenheit, epochs=1000, verbose=False)"
   ]
  },
  {
   "cell_type": "markdown",
   "id": "5eb1a9e0",
   "metadata": {},
   "source": [
    "Before predicting, let's check the results of the loss function so we can see the quality of the results in the network on each epoch."
   ]
  },
  {
   "cell_type": "code",
   "execution_count": 8,
   "id": "6199b437",
   "metadata": {},
   "outputs": [
    {
     "data": {
      "text/plain": [
       "[<matplotlib.lines.Line2D at 0x7f63cc466140>]"
      ]
     },
     "execution_count": 8,
     "metadata": {},
     "output_type": "execute_result"
    },
    {
     "data": {
      "image/png": "[encoded data removed]",
      "text/plain": [
       "<Figure size 640x480 with 1 Axes>"
      ]
     },
     "metadata": {},
     "output_type": "display_data"
    }
   ],
   "source": [
    "import matplotlib.pyplot as plt\n",
    "\n",
    "plt.xlabel('Epoch No.')\n",
    "plt.ylabel('Loss')\n",
    "plt.plot(hist.history[\"loss\"])"
   ]
  },
  {
   "cell_type": "markdown",
   "id": "ad700bbe",
   "metadata": {},
   "source": [
    "This plot shows that after epoch 500 the model was already trained and didn't improve much after that.\n",
    "\n",
    "Let's use our trained model to make a prediction and for that let's use a value that was not used during the training: 100 C"
   ]
  },
  {
   "cell_type": "code",
   "execution_count": 9,
   "id": "f0d9be7c",
   "metadata": {},
   "outputs": [
    {
     "name": "stdout",
     "output_type": "stream",
     "text": [
      "1/1 [==============================] - 0s 55ms/step\n"
     ]
    },
    {
     "data": {
      "text/plain": [
       "array([[211.9832]], dtype=float32)"
      ]
     },
     "execution_count": 9,
     "metadata": {},
     "output_type": "execute_result"
    }
   ],
   "source": [
    "model.predict([100.0])"
   ]
  },
  {
   "cell_type": "code",
   "execution_count": 10,
   "id": "8cd4d374",
   "metadata": {},
   "outputs": [
    {
     "data": {
      "text/plain": [
       "[array([[1.8002286]], dtype=float32), array([31.960344], dtype=float32)]"
      ]
     },
     "execution_count": 10,
     "metadata": {},
     "output_type": "execute_result"
    }
   ],
   "source": [
    "output_layer.get_weights()"
   ]
  },
  {
   "cell_type": "markdown",
   "id": "a8f38f87",
   "metadata": {},
   "source": [
    "In this very simple example the operation performed by the network is identical to the operation that's required, that's a lineal equation with the form `y = mx + n`. You can notice how the model adjusted the weight to a value very close to **1.8** and the bias to a value very close to **32**. \n",
    "\n",
    "Let now see what happens with a more complex network with 4 layers and 3 neurons each. "
   ]
  },
  {
   "cell_type": "code",
   "execution_count": 11,
   "id": "d183dd5f",
   "metadata": {},
   "outputs": [],
   "source": [
    "hid1 = tf.keras.layers.Dense(units=3, input_shape=[1])\n",
    "hid2 = tf.keras.layers.Dense(units=3)\n",
    "output_layer = tf.keras.layers.Dense(units=1)\n",
    "model = tf.keras.Sequential([hid1, hid2, output_layer])"
   ]
  },
  {
   "cell_type": "code",
   "execution_count": 12,
   "id": "29154cb2",
   "metadata": {},
   "outputs": [],
   "source": [
    "model.compile(\n",
    "    optimizer=tf.keras.optimizers.Adam(0.1),\n",
    "    loss='mean_squared_error'\n",
    ")"
   ]
  },
  {
   "cell_type": "code",
   "execution_count": 13,
   "id": "99d800ba",
   "metadata": {},
   "outputs": [
    {
     "name": "stdout",
     "output_type": "stream",
     "text": [
      "CPU times: user 2.26 s, sys: 92.5 ms, total: 2.35 s\n",
      "Wall time: 1.88 s\n"
     ]
    }
   ],
   "source": [
    "%%time\n",
    "hist = model.fit(celsius, fahrenheit, epochs=1000, verbose=False)"
   ]
  },
  {
   "cell_type": "code",
   "execution_count": 19,
   "id": "0fa67380",
   "metadata": {},
   "outputs": [
    {
     "data": {
      "text/plain": [
       "[<matplotlib.lines.Line2D at 0x7f63c470ff10>]"
      ]
     },
     "execution_count": 19,
     "metadata": {},
     "output_type": "execute_result"
    },
    {
     "data": {
      "image/png": "[encoded data removed]",
      "text/plain": [
       "<Figure size 640x480 with 1 Axes>"
      ]
     },
     "metadata": {},
     "output_type": "display_data"
    }
   ],
   "source": [
    "plt.xlabel('Epoch No.')\n",
    "plt.ylabel('Loss')\n",
    "plt.plot(hist.history[\"loss\"])"
   ]
  },
  {
   "cell_type": "code",
   "execution_count": 21,
   "id": "f790d633",
   "metadata": {},
   "outputs": [
    {
     "name": "stdout",
     "output_type": "stream",
     "text": [
      "1/1 [==============================] - 0s 45ms/step\n"
     ]
    },
    {
     "data": {
      "text/plain": [
       "array([[212.00002]], dtype=float32)"
      ]
     },
     "execution_count": 21,
     "metadata": {},
     "output_type": "execute_result"
    }
   ],
   "source": [
    "model.predict([100])"
   ]
  },
  {
   "cell_type": "code",
   "execution_count": 16,
   "id": "748f1655",
   "metadata": {},
   "outputs": [
    {
     "data": {
      "text/plain": [
       "[array([[0.2756527 , 0.79879   , 0.20020683]], dtype=float32),\n",
       " array([ 3.6853726,  4.552748 , -3.2256324], dtype=float32)]"
      ]
     },
     "execution_count": 16,
     "metadata": {},
     "output_type": "execute_result"
    }
   ],
   "source": [
    "hid1.get_weights()"
   ]
  },
  {
   "cell_type": "code",
   "execution_count": 17,
   "id": "ae092a90",
   "metadata": {},
   "outputs": [
    {
     "data": {
      "text/plain": [
       "[array([[-0.28219354,  0.6845533 , -1.092392  ],\n",
       "        [ 1.0515317 ,  1.478518  , -1.1889555 ],\n",
       "        [-0.46293578, -0.42875427,  1.1091552 ]], dtype=float32),\n",
       " array([ 4.240599,  2.017174, -4.71937 ], dtype=float32)]"
      ]
     },
     "execution_count": 17,
     "metadata": {},
     "output_type": "execute_result"
    }
   ],
   "source": [
    "hid2.get_weights()"
   ]
  },
  {
   "cell_type": "code",
   "execution_count": 18,
   "id": "a3f55892",
   "metadata": {},
   "outputs": [
    {
     "data": {
      "text/plain": [
       "[array([[ 0.49935699],\n",
       "        [ 0.20227781],\n",
       "        [-1.1722434 ]], dtype=float32),\n",
       " array([3.9149], dtype=float32)]"
      ]
     },
     "execution_count": 18,
     "metadata": {},
     "output_type": "execute_result"
    }
   ],
   "source": [
    "output_layer.get_weights()"
   ]
  }
 ],
 "metadata": {
  "kernelspec": {
   "display_name": "Python 3 (ipykernel)",
   "language": "python",
   "name": "python3"
  },
  "language_info": {
   "codemirror_mode": {
    "name": "ipython",
    "version": 3
   },
   "file_extension": ".py",
   "mimetype": "text/x-python",
   "name": "python",
   "nbconvert_exporter": "python",
   "pygments_lexer": "ipython3",
   "version": "3.10.6"
  }
 },
 "nbformat": 4,
 "nbformat_minor": 5
}
