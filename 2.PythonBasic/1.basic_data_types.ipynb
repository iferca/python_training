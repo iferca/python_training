{
 "cells": [
  {
   "cell_type": "markdown",
   "id": "a52cdae3",
   "metadata": {},
   "source": [
    "# Data Model\n",
    "\n",
    "All data in Python is represented by objects, even code. Every object has an identity, a type and a value. \n",
    "\n",
    "\n",
    "## Identity\n",
    "\n",
    "Once created, the object's identity never changes. Two objects are the `same` object if they have the same identity. The `is` operator compares the identity of two objects; the `id()` function returns an integer representing its identity"
   ]
  },
  {
   "cell_type": "code",
   "execution_count": 17,
   "id": "be50ffc5",
   "metadata": {},
   "outputs": [
    {
     "data": {
      "text/plain": [
       "139955308554544"
      ]
     },
     "execution_count": 17,
     "metadata": {},
     "output_type": "execute_result"
    }
   ],
   "source": [
    "id(1)"
   ]
  },
  {
   "cell_type": "code",
   "execution_count": 20,
   "id": "f8127694",
   "metadata": {},
   "outputs": [
    {
     "data": {
      "text/plain": [
       "139955308554544"
      ]
     },
     "execution_count": 20,
     "metadata": {},
     "output_type": "execute_result"
    }
   ],
   "source": [
    "y = 1\n",
    "id(y)"
   ]
  },
  {
   "cell_type": "code",
   "execution_count": 21,
   "id": "7cfd5e8c",
   "metadata": {},
   "outputs": [
    {
     "data": {
      "text/plain": [
       "True"
      ]
     },
     "execution_count": 21,
     "metadata": {},
     "output_type": "execute_result"
    }
   ],
   "source": [
    "x = 1\n",
    "y = 1\n",
    "x is y"
   ]
  },
  {
   "cell_type": "markdown",
   "id": "77426b34",
   "metadata": {},
   "source": [
    "## Type\n",
    "\n",
    "An object's type determines the operations that the object supports (e.g., \"does it has a length?\") and also define possible values for objects of that type. The `type()` function can be used to retrieve object's type. Just like identity, an object's type is also unchangeable.\n",
    "An object's data type is set when a value is assigned to the object, this is called `initialize` the object. No object can be created `uninitialized`."
   ]
  },
  {
   "cell_type": "code",
   "execution_count": 22,
   "id": "28e9c8f9",
   "metadata": {},
   "outputs": [
    {
     "data": {
      "text/plain": [
       "int"
      ]
     },
     "execution_count": 22,
     "metadata": {},
     "output_type": "execute_result"
    }
   ],
   "source": [
    "type(x)"
   ]
  },
  {
   "cell_type": "code",
   "execution_count": 23,
   "id": "3325853a",
   "metadata": {},
   "outputs": [
    {
     "data": {
      "text/plain": [
       "type"
      ]
     },
     "execution_count": 23,
     "metadata": {},
     "output_type": "execute_result"
    }
   ],
   "source": [
    "type_of_x = type(x)\n",
    "type(type_of_x)"
   ]
  },
  {
   "cell_type": "markdown",
   "id": "a2dfef16",
   "metadata": {},
   "source": [
    "## Value\n",
    "\n",
    "The value of some objects can change. Objects whose value can change are said to be [mutable](https://docs.python.org/3.11/glossary.html#term-mutable); objects whose value is unchangeable once they are created are called [immutable](https://docs.python.org/3.11/glossary.html#term-immutable)."
   ]
  },
  {
   "cell_type": "code",
   "execution_count": 1,
   "id": "c1308052",
   "metadata": {},
   "outputs": [
    {
     "data": {
      "text/plain": [
       "140342323177776"
      ]
     },
     "execution_count": 1,
     "metadata": {},
     "output_type": "execute_result"
    }
   ],
   "source": [
    "a = 1\n",
    "id(a)"
   ]
  },
  {
   "cell_type": "code",
   "execution_count": 2,
   "id": "fdb00c86",
   "metadata": {},
   "outputs": [
    {
     "data": {
      "text/plain": [
       "140342313052720"
      ]
     },
     "execution_count": 2,
     "metadata": {},
     "output_type": "execute_result"
    }
   ],
   "source": [
    "a = \"1\"\n",
    "id(a)"
   ]
  },
  {
   "cell_type": "code",
   "execution_count": 46,
   "id": "a1c89d9f",
   "metadata": {},
   "outputs": [
    {
     "ename": "NameError",
     "evalue": "name 'z' is not defined",
     "output_type": "error",
     "traceback": [
      "\u001B[0;31m---------------------------------------------------------------------------\u001B[0m",
      "\u001B[0;31mNameError\u001B[0m                                 Traceback (most recent call last)",
      "\u001B[0;32m/tmp/ipykernel_80921/3803779405.py\u001B[0m in \u001B[0;36m<module>\u001B[0;34m\u001B[0m\n\u001B[1;32m      1\u001B[0m \u001B[0;31m# try to access an undefined variable rises an error\u001B[0m\u001B[0;34m\u001B[0m\u001B[0;34m\u001B[0m\u001B[0m\n\u001B[0;32m----> 2\u001B[0;31m \u001B[0mz\u001B[0m\u001B[0;34m\u001B[0m\u001B[0;34m\u001B[0m\u001B[0m\n\u001B[0m",
      "\u001B[0;31mNameError\u001B[0m: name 'z' is not defined"
     ]
    }
   ],
   "source": [
    "# try to access an undefined variable rises an error\n",
    "z"
   ]
  },
  {
   "cell_type": "markdown",
   "id": "f35e72d6",
   "metadata": {},
   "source": [
    "Objects that needs to be created before its value is known can be assigned with `None`. This is possible yet usually considered a bad practice."
   ]
  },
  {
   "cell_type": "code",
   "execution_count": 47,
   "id": "fc4938a6",
   "metadata": {},
   "outputs": [
    {
     "data": {
      "text/plain": [
       "NoneType"
      ]
     },
     "execution_count": 47,
     "metadata": {},
     "output_type": "execute_result"
    }
   ],
   "source": [
    "n = None\n",
    "type(n)"
   ]
  },
  {
   "cell_type": "code",
   "execution_count": 48,
   "id": "713ca157",
   "metadata": {},
   "outputs": [
    {
     "data": {
      "text/plain": [
       "NoneType"
      ]
     },
     "execution_count": 48,
     "metadata": {},
     "output_type": "execute_result"
    }
   ],
   "source": [
    "type(None)"
   ]
  },
  {
   "cell_type": "markdown",
   "id": "a82dcc71",
   "metadata": {},
   "source": [
    "# Built-in Data Types\n",
    "\n",
    "## Numbers\n",
    "\n",
    "There are three distinct numeric types: `integers`, `floating point numbers`, and `complex` numbers. In addition, `Booleans` are a subtype of integers.\n",
    "Python supports other types of numbers, such as [Decimal](https://docs.python.org/3.10/library/decimal.html#decimal.Decimal) and [Fraction](https://docs.python.org/3.10/library/fractions.html#fractions.Fraction)."
   ]
  },
  {
   "cell_type": "code",
   "execution_count": 30,
   "id": "0610405e",
   "metadata": {
    "scrolled": true
   },
   "outputs": [
    {
     "data": {
      "text/plain": [
       "4"
      ]
     },
     "execution_count": 30,
     "metadata": {},
     "output_type": "execute_result"
    }
   ],
   "source": [
    "2 + 2"
   ]
  },
  {
   "cell_type": "code",
   "execution_count": 31,
   "id": "46c60927",
   "metadata": {},
   "outputs": [
    {
     "data": {
      "text/plain": [
       "20"
      ]
     },
     "execution_count": 31,
     "metadata": {},
     "output_type": "execute_result"
    }
   ],
   "source": [
    "50 - 5*6"
   ]
  },
  {
   "cell_type": "code",
   "execution_count": 32,
   "id": "afb18ee4",
   "metadata": {},
   "outputs": [
    {
     "data": {
      "text/plain": [
       "5.0"
      ]
     },
     "execution_count": 32,
     "metadata": {},
     "output_type": "execute_result"
    }
   ],
   "source": [
    "(50 - 5*6)/4"
   ]
  },
  {
   "cell_type": "code",
   "execution_count": 33,
   "id": "a5831c37",
   "metadata": {},
   "outputs": [
    {
     "data": {
      "text/plain": [
       "float"
      ]
     },
     "execution_count": 33,
     "metadata": {},
     "output_type": "execute_result"
    }
   ],
   "source": [
    "type(5.0)"
   ]
  },
  {
   "cell_type": "code",
   "execution_count": 35,
   "id": "65298708",
   "metadata": {},
   "outputs": [
    {
     "data": {
      "text/plain": [
       "5.666666666666667"
      ]
     },
     "execution_count": 35,
     "metadata": {},
     "output_type": "execute_result"
    }
   ],
   "source": [
    "# classic division returns a float\n",
    "17 / 3"
   ]
  },
  {
   "cell_type": "code",
   "execution_count": 36,
   "id": "2d1ed1b1",
   "metadata": {},
   "outputs": [
    {
     "data": {
      "text/plain": [
       "5"
      ]
     },
     "execution_count": 36,
     "metadata": {},
     "output_type": "execute_result"
    }
   ],
   "source": [
    "# floor division discards the fractional part\n",
    "17 // 3"
   ]
  },
  {
   "cell_type": "code",
   "execution_count": 39,
   "id": "6f657a75",
   "metadata": {},
   "outputs": [
    {
     "data": {
      "text/plain": [
       "2"
      ]
     },
     "execution_count": 39,
     "metadata": {},
     "output_type": "execute_result"
    }
   ],
   "source": [
    "# the % operator returns the reminder of the division\n",
    "17 % 3"
   ]
  },
  {
   "cell_type": "code",
   "execution_count": 40,
   "id": "eb5ff932",
   "metadata": {},
   "outputs": [
    {
     "data": {
      "text/plain": [
       "17"
      ]
     },
     "execution_count": 40,
     "metadata": {},
     "output_type": "execute_result"
    }
   ],
   "source": [
    "# floored quotient * divisor + remainder\n",
    "5 * 3 + 2"
   ]
  },
  {
   "cell_type": "code",
   "execution_count": 21,
   "id": "8e79c1a8",
   "metadata": {},
   "outputs": [
    {
     "data": {
      "text/plain": [
       "(5, 2)"
      ]
     },
     "execution_count": 21,
     "metadata": {},
     "output_type": "execute_result"
    }
   ],
   "source": [
    "# divmod(x, y) calculates the pair (x // y, x % y)\n",
    "divmod(17, 3)"
   ]
  },
  {
   "cell_type": "markdown",
   "id": "c8d2a8a8",
   "metadata": {},
   "source": [
    "With Python, is possible to use the `**` operator to calculate powers:"
   ]
  },
  {
   "cell_type": "code",
   "execution_count": 41,
   "id": "a9056050",
   "metadata": {},
   "outputs": [
    {
     "data": {
      "text/plain": [
       "25"
      ]
     },
     "execution_count": 41,
     "metadata": {},
     "output_type": "execute_result"
    }
   ],
   "source": [
    "# 5 squared\n",
    "5 ** 2"
   ]
  },
  {
   "cell_type": "code",
   "execution_count": 42,
   "id": "bff1980f",
   "metadata": {},
   "outputs": [
    {
     "data": {
      "text/plain": [
       "128"
      ]
     },
     "execution_count": 42,
     "metadata": {},
     "output_type": "execute_result"
    }
   ],
   "source": [
    "# 2 to the power of 7\n",
    "2 ** 7"
   ]
  },
  {
   "cell_type": "code",
   "execution_count": 20,
   "id": "3a2f3eee",
   "metadata": {},
   "outputs": [
    {
     "data": {
      "text/plain": [
       "128"
      ]
     },
     "execution_count": 20,
     "metadata": {},
     "output_type": "execute_result"
    }
   ],
   "source": [
    "# pow(x, y) calculates x to the power of y. x ** y\n",
    "pow(2, 7)"
   ]
  },
  {
   "cell_type": "markdown",
   "id": "a8d8c4a1",
   "metadata": {},
   "source": [
    "The equal sign `=` is used to assign a value to a variable:"
   ]
  },
  {
   "cell_type": "code",
   "execution_count": 43,
   "id": "3c3b8daa",
   "metadata": {},
   "outputs": [
    {
     "data": {
      "text/plain": [
       "900"
      ]
     },
     "execution_count": 43,
     "metadata": {},
     "output_type": "execute_result"
    }
   ],
   "source": [
    "width = 20\n",
    "height = 45\n",
    "width * height"
   ]
  },
  {
   "cell_type": "markdown",
   "id": "c1a552da",
   "metadata": {},
   "source": [
    "There is full support for floating point; operators with mixed type operands convert the integer operand to floating point:"
   ]
  },
  {
   "cell_type": "code",
   "execution_count": 4,
   "id": "19cc1719",
   "metadata": {},
   "outputs": [
    {
     "data": {
      "text/plain": [
       "14.0"
      ]
     },
     "execution_count": 4,
     "metadata": {},
     "output_type": "execute_result"
    }
   ],
   "source": [
    "4 * 3.75 - 1"
   ]
  },
  {
   "cell_type": "code",
   "execution_count": 17,
   "id": "b94e9103",
   "metadata": {},
   "outputs": [
    {
     "data": {
      "text/plain": [
       "2.0"
      ]
     },
     "execution_count": 17,
     "metadata": {},
     "output_type": "execute_result"
    }
   ],
   "source": [
    "# `abs(x) function calculates the absolute value or magnitude of x\n",
    "abs(-10/5)"
   ]
  },
  {
   "cell_type": "markdown",
   "id": "aadc87a4",
   "metadata": {},
   "source": [
    "Numerical objects can be initialized using desired type constructor function:"
   ]
  },
  {
   "cell_type": "code",
   "execution_count": 18,
   "id": "5aa6f9ba",
   "metadata": {},
   "outputs": [
    {
     "data": {
      "text/plain": [
       "(int, int)"
      ]
     },
     "execution_count": 18,
     "metadata": {},
     "output_type": "execute_result"
    }
   ],
   "source": [
    "x = 20\n",
    "y = int(20)\n",
    "type(x), type(y)"
   ]
  },
  {
   "cell_type": "code",
   "execution_count": 19,
   "id": "86b3f653",
   "metadata": {},
   "outputs": [
    {
     "data": {
      "text/plain": [
       "2"
      ]
     },
     "execution_count": 19,
     "metadata": {},
     "output_type": "execute_result"
    }
   ],
   "source": [
    "# object construction can be used to convert between data types\n",
    "int(2.0)"
   ]
  },
  {
   "cell_type": "code",
   "execution_count": 14,
   "id": "c825ca4f",
   "metadata": {},
   "outputs": [
    {
     "data": {
      "text/plain": [
       "(float, float)"
      ]
     },
     "execution_count": 14,
     "metadata": {},
     "output_type": "execute_result"
    }
   ],
   "source": [
    "x = 20.0\n",
    "y = float(20.0)\n",
    "type(x), type(y)"
   ]
  },
  {
   "cell_type": "code",
   "execution_count": 21,
   "id": "589c9dfb",
   "metadata": {},
   "outputs": [
    {
     "data": {
      "text/plain": [
       "(True, True, False)"
      ]
     },
     "execution_count": 21,
     "metadata": {},
     "output_type": "execute_result"
    }
   ],
   "source": [
    "2 < 5, 2 <= 5, 2 == 5"
   ]
  },
  {
   "cell_type": "code",
   "execution_count": 23,
   "id": "c909d0ff",
   "metadata": {},
   "outputs": [
    {
     "ename": "ZeroDivisionError",
     "evalue": "division by zero",
     "output_type": "error",
     "traceback": [
      "\u001B[0;31m---------------------------------------------------------------------------\u001B[0m",
      "\u001B[0;31mZeroDivisionError\u001B[0m                         Traceback (most recent call last)",
      "\u001B[0;32m/tmp/ipykernel_424832/2354412189.py\u001B[0m in \u001B[0;36m<module>\u001B[0;34m\u001B[0m\n\u001B[0;32m----> 1\u001B[0;31m \u001B[0;36m1\u001B[0m\u001B[0;34m/\u001B[0m\u001B[0;36m0\u001B[0m\u001B[0;34m\u001B[0m\u001B[0;34m\u001B[0m\u001B[0m\n\u001B[0m",
      "\u001B[0;31mZeroDivisionError\u001B[0m: division by zero"
     ]
    }
   ],
   "source": [
    "1/0"
   ]
  },
  {
   "cell_type": "code",
   "execution_count": 30,
   "id": "c46ca677",
   "metadata": {},
   "outputs": [
    {
     "data": {
      "text/plain": [
       "inf"
      ]
     },
     "execution_count": 30,
     "metadata": {},
     "output_type": "execute_result"
    }
   ],
   "source": [
    "infinity = float('inf')\n",
    "infinity"
   ]
  },
  {
   "cell_type": "code",
   "execution_count": 31,
   "id": "fb2b8b09",
   "metadata": {},
   "outputs": [
    {
     "data": {
      "text/plain": [
       "float"
      ]
     },
     "execution_count": 31,
     "metadata": {},
     "output_type": "execute_result"
    }
   ],
   "source": [
    "type(infinity)"
   ]
  },
  {
   "cell_type": "code",
   "execution_count": 32,
   "id": "1689190d",
   "metadata": {},
   "outputs": [
    {
     "data": {
      "text/plain": [
       "inf"
      ]
     },
     "execution_count": 32,
     "metadata": {},
     "output_type": "execute_result"
    }
   ],
   "source": [
    "infinity + 1"
   ]
  },
  {
   "cell_type": "markdown",
   "id": "01bf132d",
   "metadata": {},
   "source": [
    "## Booleans\n",
    "\n",
    "Python `bool` type is used to represent objects that can only take either `True` or `False` constant values.  \n",
    "These are the Boolean operations ordered by ascending priority. \n",
    "Given the Boolean objects `x` and `y`:\n",
    "\n",
    "| Operation | Result | Notes |\n",
    "| :- | :- | :- |\n",
    "| x `or` y | x if x is true, else y | (1) |\n",
    "| x `and` y | x if x is false, else y | (2) |\n",
    "| `not` x | `True` if x is false, else `False` | (3) |\n",
    "\n",
    "Notes:\n",
    "\n",
    "1. This is a short-circuit operator, so it only evaluates the second argument if the first one is false.\n",
    "\n",
    "2. This is a short-circuit operator, so it only evaluates the second argument if the first one is true.\n",
    "\n",
    "3. not has a lower priority than non-Boolean operators, so not a == b is interpreted as not (a == b), and a == not b is a syntax error."
   ]
  },
  {
   "cell_type": "code",
   "execution_count": 64,
   "id": "7f86ea3c",
   "metadata": {},
   "outputs": [],
   "source": [
    "x = True\n",
    "y = False"
   ]
  },
  {
   "cell_type": "code",
   "execution_count": 65,
   "id": "22e8f167",
   "metadata": {},
   "outputs": [
    {
     "data": {
      "text/plain": [
       "True"
      ]
     },
     "execution_count": 65,
     "metadata": {},
     "output_type": "execute_result"
    }
   ],
   "source": [
    "x or y"
   ]
  },
  {
   "cell_type": "code",
   "execution_count": 66,
   "id": "a7d80772",
   "metadata": {},
   "outputs": [
    {
     "data": {
      "text/plain": [
       "False"
      ]
     },
     "execution_count": 66,
     "metadata": {},
     "output_type": "execute_result"
    }
   ],
   "source": [
    "x and y"
   ]
  },
  {
   "cell_type": "code",
   "execution_count": 67,
   "id": "786d1b8f",
   "metadata": {},
   "outputs": [
    {
     "data": {
      "text/plain": [
       "False"
      ]
     },
     "execution_count": 67,
     "metadata": {},
     "output_type": "execute_result"
    }
   ],
   "source": [
    "not x"
   ]
  },
  {
   "cell_type": "markdown",
   "id": "f897c58c",
   "metadata": {},
   "source": [
    "## Strings\n",
    "\n",
    "Besides numbers, Python can also manipulate strings, which can be expressed in several ways. They can be enclosed in single quotes `'...'` or double quotes `\"...\"` with the same result. `\\` can be used to escape quotes.\n",
    "Python strings cannot be changed -they are immutable."
   ]
  },
  {
   "cell_type": "code",
   "execution_count": 22,
   "id": "b8a1fdb2",
   "metadata": {},
   "outputs": [
    {
     "data": {
      "text/plain": [
       "'spam eggs'"
      ]
     },
     "execution_count": 22,
     "metadata": {},
     "output_type": "execute_result"
    }
   ],
   "source": [
    "'spam eggs'"
   ]
  },
  {
   "cell_type": "code",
   "execution_count": 23,
   "id": "fe1616d4",
   "metadata": {},
   "outputs": [
    {
     "data": {
      "text/plain": [
       "\"doesn't\""
      ]
     },
     "execution_count": 23,
     "metadata": {},
     "output_type": "execute_result"
    }
   ],
   "source": [
    "'doesn\\'t'"
   ]
  },
  {
   "cell_type": "code",
   "execution_count": 25,
   "id": "0e70161e",
   "metadata": {},
   "outputs": [
    {
     "data": {
      "text/plain": [
       "\"doesn't\""
      ]
     },
     "execution_count": 25,
     "metadata": {},
     "output_type": "execute_result"
    }
   ],
   "source": [
    "\"doesn't\""
   ]
  },
  {
   "cell_type": "code",
   "execution_count": 26,
   "id": "d50b5a85",
   "metadata": {},
   "outputs": [
    {
     "data": {
      "text/plain": [
       "'\"Isn\\'t\", they said'"
      ]
     },
     "execution_count": 26,
     "metadata": {},
     "output_type": "execute_result"
    }
   ],
   "source": [
    "'\"Isn\\'t\", they said'"
   ]
  },
  {
   "cell_type": "code",
   "execution_count": 32,
   "id": "8a1d8bb2",
   "metadata": {},
   "outputs": [
    {
     "name": "stdout",
     "output_type": "stream",
     "text": [
      "First line.\n",
      "\tSecond line\n"
     ]
    }
   ],
   "source": [
    "# \\n -> new line\n",
    "# \\t -> tab\n",
    "s = 'First line.\\n\\tSecond line'\n",
    "print(s)"
   ]
  },
  {
   "cell_type": "markdown",
   "id": "e21a12f5",
   "metadata": {},
   "source": [
    "If you don’t want characters prefaced by `\\` to be interpreted as special characters, you can use `raw strings` by adding an `r` before the first quote.\n",
    "There is one subtle aspect to raw strings: a raw string may not end in an odd number of `\\` characters; see the [FAQ entry](https://docs.python.org/3.10/faq/programming.html#faq-programming-raw-string-backslash) for more information and workarounds."
   ]
  },
  {
   "cell_type": "code",
   "execution_count": 33,
   "id": "1d7df98d",
   "metadata": {},
   "outputs": [
    {
     "name": "stdout",
     "output_type": "stream",
     "text": [
      "C:\\some\n",
      "ame\n"
     ]
    }
   ],
   "source": [
    "print('C:\\some\\name')"
   ]
  },
  {
   "cell_type": "code",
   "execution_count": 34,
   "id": "8bccc5e3",
   "metadata": {},
   "outputs": [
    {
     "name": "stdout",
     "output_type": "stream",
     "text": [
      "C:\\some\\name\n"
     ]
    }
   ],
   "source": [
    "print(r'C:\\some\\name')"
   ]
  },
  {
   "cell_type": "markdown",
   "id": "60305cbf",
   "metadata": {},
   "source": [
    "String literals can span multiple lines. One way is using triple-quotes: `\"\"\"...\"\"\"` or `'''...'''`. End of lines are automatically included in the string, but it’s possible to prevent this by adding a \\ at the end of the line (note that the initial newline is not included)"
   ]
  },
  {
   "cell_type": "code",
   "execution_count": 2,
   "id": "ec95515f",
   "metadata": {},
   "outputs": [
    {
     "name": "stdout",
     "output_type": "stream",
     "text": [
      "Usage: thingy [OPTIONS]\n",
      "     -h                        Display this usage message\n",
      "     -H hostname               Hostname to connect to\n",
      "\n"
     ]
    }
   ],
   "source": [
    "print(\"\"\"\\\n",
    "Usage: thingy [OPTIONS]\n",
    "     -h                        Display this usage message\n",
    "     -H hostname               Hostname to connect to\n",
    "\"\"\")"
   ]
  },
  {
   "cell_type": "markdown",
   "id": "9da31db2",
   "metadata": {},
   "source": [
    "The built-in function `len(x)` returns the length of the string `x`:"
   ]
  },
  {
   "cell_type": "code",
   "execution_count": 60,
   "id": "67d06ffe",
   "metadata": {},
   "outputs": [
    {
     "data": {
      "text/plain": [
       "34"
      ]
     },
     "execution_count": 60,
     "metadata": {},
     "output_type": "execute_result"
    }
   ],
   "source": [
    "s = 'supercalifragilisticexpialidocious'\n",
    "\n",
    "len(s)"
   ]
  },
  {
   "cell_type": "markdown",
   "id": "db82cd9b",
   "metadata": {},
   "source": [
    "String objects can also be created using the `str(x)`. This is useful to retrieve objects represented as a string."
   ]
  },
  {
   "cell_type": "code",
   "execution_count": 1,
   "id": "9062619d",
   "metadata": {},
   "outputs": [
    {
     "data": {
      "text/plain": [
       "'1'"
      ]
     },
     "execution_count": 1,
     "metadata": {},
     "output_type": "execute_result"
    }
   ],
   "source": [
    "str(1)"
   ]
  },
  {
   "cell_type": "markdown",
   "id": "4d3521a0",
   "metadata": {},
   "source": [
    "Strings can be concatenated (glued together) with the `+` operator, and repeated with the `*` operator:"
   ]
  },
  {
   "cell_type": "code",
   "execution_count": 38,
   "id": "0fbf5076",
   "metadata": {},
   "outputs": [
    {
     "data": {
      "text/plain": [
       "'unununium'"
      ]
     },
     "execution_count": 38,
     "metadata": {},
     "output_type": "execute_result"
    }
   ],
   "source": [
    "# 3 times 'un', followed by 'ium'\n",
    "\n",
    "3 * 'un' + 'ium'"
   ]
  },
  {
   "cell_type": "markdown",
   "id": "41f84ef2",
   "metadata": {},
   "source": [
    "Two or more string literals (i.e. the ones enclosed between quotes) next to each other are automatically concatenated. This feature is particularly useful when you want to break long strings:"
   ]
  },
  {
   "cell_type": "code",
   "execution_count": 44,
   "id": "7b889529",
   "metadata": {},
   "outputs": [
    {
     "data": {
      "text/plain": [
       "'Python'"
      ]
     },
     "execution_count": 44,
     "metadata": {},
     "output_type": "execute_result"
    }
   ],
   "source": [
    "'Py' 'thon'"
   ]
  },
  {
   "cell_type": "code",
   "execution_count": 43,
   "id": "80d18cf8",
   "metadata": {},
   "outputs": [
    {
     "data": {
      "text/plain": [
       "'Put several strings within parentheses to have them joined together.'"
      ]
     },
     "execution_count": 43,
     "metadata": {},
     "output_type": "execute_result"
    }
   ],
   "source": [
    "text = ('Put several strings within parentheses '\n",
    "        'to have them joined together.')\n",
    "text"
   ]
  },
  {
   "cell_type": "markdown",
   "id": "cced7f5c",
   "metadata": {},
   "source": [
    "This only works with two literals though, not with variables or expressions. If you want to concatenate variables or a variable and a literal, use `+`."
   ]
  },
  {
   "cell_type": "code",
   "execution_count": 45,
   "id": "2ac164e5",
   "metadata": {},
   "outputs": [
    {
     "ename": "SyntaxError",
     "evalue": "invalid syntax (2247375812.py, line 2)",
     "output_type": "error",
     "traceback": [
      "\u001B[0;36m  File \u001B[0;32m\"/tmp/ipykernel_107426/2247375812.py\"\u001B[0;36m, line \u001B[0;32m2\u001B[0m\n\u001B[0;31m    prefix 'thon'\u001B[0m\n\u001B[0m           ^\u001B[0m\n\u001B[0;31mSyntaxError\u001B[0m\u001B[0;31m:\u001B[0m invalid syntax\n"
     ]
    }
   ],
   "source": [
    "prefix = 'Py'\n",
    "prefix 'thon'"
   ]
  },
  {
   "cell_type": "markdown",
   "id": "3c6b0f33",
   "metadata": {},
   "source": [
    "Strings can be indexed (subscripted), with the first character having index 0. \n",
    "There is no separate character type; a character is simply a string of size one.\n",
    "Individual charactes can be indexed with positive numbers starting from the left and with negative numbers starting from the right. Note that since -0 is the same as 0, negative indices start from -1.\n",
    "\n",
    "```\n",
    " +---+---+---+---+---+---+\n",
    " | P | y | t | h | o | n |\n",
    " +---+---+---+---+---+---+\n",
    " 0   1   2   3   4   5   \n",
    "-6  -5  -4  -3  -2  -1\n",
    "```"
   ]
  },
  {
   "cell_type": "code",
   "execution_count": 8,
   "id": "74a0dd1e",
   "metadata": {},
   "outputs": [],
   "source": [
    "word = 'Python'"
   ]
  },
  {
   "cell_type": "code",
   "execution_count": 49,
   "id": "9d73d070",
   "metadata": {},
   "outputs": [
    {
     "data": {
      "text/plain": [
       "('P', 'P')"
      ]
     },
     "execution_count": 49,
     "metadata": {},
     "output_type": "execute_result"
    }
   ],
   "source": [
    "word[0], word[-6]"
   ]
  },
  {
   "cell_type": "code",
   "execution_count": 52,
   "id": "af1003c8",
   "metadata": {},
   "outputs": [
    {
     "data": {
      "text/plain": [
       "('n', 'n')"
      ]
     },
     "execution_count": 52,
     "metadata": {},
     "output_type": "execute_result"
    }
   ],
   "source": [
    "word[5], word[-1]"
   ]
  },
  {
   "cell_type": "markdown",
   "id": "94d250b0",
   "metadata": {},
   "source": [
    "In addition to indexing, slicing is also supported. While indexing is used to obtain individual characters, slicing allows you to obtain substring. Slices can be created, given a string object `a`, a slice is defined as `a[start:stop]` if any start or both are not provided, then the string's start or end is assumed:"
   ]
  },
  {
   "cell_type": "code",
   "execution_count": 11,
   "id": "9ddf3e06",
   "metadata": {},
   "outputs": [
    {
     "data": {
      "text/plain": [
       "'Py'"
      ]
     },
     "execution_count": 11,
     "metadata": {},
     "output_type": "execute_result"
    }
   ],
   "source": [
    "word[:2]"
   ]
  },
  {
   "cell_type": "code",
   "execution_count": 54,
   "id": "03501765",
   "metadata": {},
   "outputs": [
    {
     "data": {
      "text/plain": [
       "'on'"
      ]
     },
     "execution_count": 54,
     "metadata": {},
     "output_type": "execute_result"
    }
   ],
   "source": [
    "# characters from position 4 (included) to the end\n",
    "word[4:]"
   ]
  },
  {
   "cell_type": "code",
   "execution_count": 13,
   "id": "7b17cbf5",
   "metadata": {},
   "outputs": [
    {
     "data": {
      "text/plain": [
       "'Python'"
      ]
     },
     "execution_count": 13,
     "metadata": {},
     "output_type": "execute_result"
    }
   ],
   "source": [
    "word[:]"
   ]
  },
  {
   "cell_type": "markdown",
   "id": "826ec930",
   "metadata": {},
   "source": [
    "Note how the start is always included, and the end always excluded. This makes sure that `s[:i] + s[i:]` is always equal to `s`:"
   ]
  },
  {
   "cell_type": "code",
   "execution_count": 55,
   "id": "7ad24869",
   "metadata": {},
   "outputs": [
    {
     "data": {
      "text/plain": [
       "'Python'"
      ]
     },
     "execution_count": 55,
     "metadata": {},
     "output_type": "execute_result"
    }
   ],
   "source": [
    "word[:2] + word[2:]"
   ]
  },
  {
   "cell_type": "code",
   "execution_count": 56,
   "id": "a106084e",
   "metadata": {},
   "outputs": [
    {
     "data": {
      "text/plain": [
       "'Python'"
      ]
     },
     "execution_count": 56,
     "metadata": {},
     "output_type": "execute_result"
    }
   ],
   "source": [
    "word[:4] + word[4:]"
   ]
  },
  {
   "cell_type": "markdown",
   "id": "e8d7744b",
   "metadata": {},
   "source": [
    "Attempting to use an index that is too large will result in an error:"
   ]
  },
  {
   "cell_type": "code",
   "execution_count": 57,
   "id": "b3ac6b53",
   "metadata": {},
   "outputs": [
    {
     "ename": "IndexError",
     "evalue": "string index out of range",
     "output_type": "error",
     "traceback": [
      "\u001B[0;31m---------------------------------------------------------------------------\u001B[0m",
      "\u001B[0;31mIndexError\u001B[0m                                Traceback (most recent call last)",
      "\u001B[0;32m/tmp/ipykernel_107426/1308383204.py\u001B[0m in \u001B[0;36m<module>\u001B[0;34m\u001B[0m\n\u001B[0;32m----> 1\u001B[0;31m \u001B[0mword\u001B[0m\u001B[0;34m[\u001B[0m\u001B[0;36m42\u001B[0m\u001B[0;34m]\u001B[0m\u001B[0;34m\u001B[0m\u001B[0;34m\u001B[0m\u001B[0m\n\u001B[0m",
      "\u001B[0;31mIndexError\u001B[0m: string index out of range"
     ]
    }
   ],
   "source": [
    "word[42]"
   ]
  },
  {
   "cell_type": "markdown",
   "id": "d4d46992",
   "metadata": {},
   "source": [
    "However, out of range slice indexes are handled gracefully when used for slicing:"
   ]
  },
  {
   "cell_type": "code",
   "execution_count": 58,
   "id": "6944b24e",
   "metadata": {},
   "outputs": [
    {
     "data": {
      "text/plain": [
       "'on'"
      ]
     },
     "execution_count": 58,
     "metadata": {},
     "output_type": "execute_result"
    }
   ],
   "source": [
    "word[4:42]"
   ]
  },
  {
   "cell_type": "code",
   "execution_count": 61,
   "id": "f1ed3a87",
   "metadata": {},
   "outputs": [
    {
     "data": {
      "text/plain": [
       "''"
      ]
     },
     "execution_count": 61,
     "metadata": {},
     "output_type": "execute_result"
    }
   ],
   "source": [
    "word[42:]"
   ]
  },
  {
   "cell_type": "markdown",
   "id": "1d96b0d7",
   "metadata": {},
   "source": [
    "There is also the step value, which can be used, when not provided, as in the previous examples, then 1 us assumed:"
   ]
  },
  {
   "cell_type": "code",
   "execution_count": 14,
   "id": "280171cc",
   "metadata": {},
   "outputs": [
    {
     "data": {
      "text/plain": [
       "'Python'"
      ]
     },
     "execution_count": 14,
     "metadata": {},
     "output_type": "execute_result"
    }
   ],
   "source": [
    "word[::1]"
   ]
  },
  {
   "cell_type": "code",
   "execution_count": 15,
   "id": "f9112805",
   "metadata": {},
   "outputs": [
    {
     "data": {
      "text/plain": [
       "'Python'"
      ]
     },
     "execution_count": 15,
     "metadata": {},
     "output_type": "execute_result"
    }
   ],
   "source": [
    "word[::]"
   ]
  },
  {
   "cell_type": "code",
   "execution_count": 16,
   "id": "4a94da81",
   "metadata": {},
   "outputs": [
    {
     "data": {
      "text/plain": [
       "'Pto'"
      ]
     },
     "execution_count": 16,
     "metadata": {},
     "output_type": "execute_result"
    }
   ],
   "source": [
    "word[::2]"
   ]
  },
  {
   "cell_type": "markdown",
   "id": "400a86c4",
   "metadata": {},
   "source": [
    "Step parameter can also be negative:"
   ]
  },
  {
   "cell_type": "code",
   "execution_count": 17,
   "id": "c34448a6",
   "metadata": {},
   "outputs": [
    {
     "data": {
      "text/plain": [
       "'nohtyP'"
      ]
     },
     "execution_count": 17,
     "metadata": {},
     "output_type": "execute_result"
    }
   ],
   "source": [
    "word[::-1]"
   ]
  },
  {
   "cell_type": "code",
   "execution_count": 19,
   "id": "cf108d8c",
   "metadata": {},
   "outputs": [
    {
     "data": {
      "text/plain": [
       "('kayak', 'kayak', True)"
      ]
     },
     "execution_count": 19,
     "metadata": {},
     "output_type": "execute_result"
    }
   ],
   "source": [
    "s = \"kayak\"\n",
    "s, s[::-1], s == s[::-1]"
   ]
  },
  {
   "cell_type": "markdown",
   "id": "ba1a6bc0",
   "metadata": {},
   "source": [
    "Since strings in Python are immutable, assigning to an indexed position in the string results in an error:"
   ]
  },
  {
   "cell_type": "code",
   "execution_count": 62,
   "id": "3cf3881e",
   "metadata": {},
   "outputs": [
    {
     "ename": "TypeError",
     "evalue": "'str' object does not support item assignment",
     "output_type": "error",
     "traceback": [
      "\u001B[0;31m---------------------------------------------------------------------------\u001B[0m",
      "\u001B[0;31mTypeError\u001B[0m                                 Traceback (most recent call last)",
      "\u001B[0;32m/tmp/ipykernel_107426/2664689217.py\u001B[0m in \u001B[0;36m<module>\u001B[0;34m\u001B[0m\n\u001B[0;32m----> 1\u001B[0;31m \u001B[0mword\u001B[0m\u001B[0;34m[\u001B[0m\u001B[0;36m0\u001B[0m\u001B[0;34m]\u001B[0m \u001B[0;34m=\u001B[0m \u001B[0;34m'J'\u001B[0m\u001B[0;34m\u001B[0m\u001B[0;34m\u001B[0m\u001B[0m\n\u001B[0m",
      "\u001B[0;31mTypeError\u001B[0m: 'str' object does not support item assignment"
     ]
    }
   ],
   "source": [
    "word[0] = 'J'"
   ]
  },
  {
   "cell_type": "markdown",
   "id": "1f4a9e6b",
   "metadata": {},
   "source": [
    "If different string is needed, a new one shall be created:"
   ]
  },
  {
   "cell_type": "code",
   "execution_count": 63,
   "id": "12ed3128",
   "metadata": {},
   "outputs": [
    {
     "data": {
      "text/plain": [
       "'Jython'"
      ]
     },
     "execution_count": 63,
     "metadata": {},
     "output_type": "execute_result"
    }
   ],
   "source": [
    "'J' + word[1:]"
   ]
  }
 ],
 "metadata": {
  "kernelspec": {
   "display_name": "Python 3 (ipykernel)",
   "language": "python",
   "name": "python3"
  },
  "language_info": {
   "codemirror_mode": {
    "name": "ipython",
    "version": 3
   },
   "file_extension": ".py",
   "mimetype": "text/x-python",
   "name": "python",
   "nbconvert_exporter": "python",
   "pygments_lexer": "ipython3",
   "version": "3.10.6"
  }
 },
 "nbformat": 4,
 "nbformat_minor": 5
}
