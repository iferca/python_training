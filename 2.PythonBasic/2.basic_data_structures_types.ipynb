{
 "cells": [
  {
   "cell_type": "markdown",
   "id": "b45d7bad",
   "metadata": {},
   "source": [
    "# Sequesce types\n",
    "\n",
    "Python knows a number of compound data types used to group together other values. There are three basic sequence types: `range`, `tuples`, and `lists` objects. Out of those, lists are mutable sequences while tuples and ranges are immutable sequences.\n",
    "Additional sequence types tailored for processing of binary and text strings (str) also exist.\n",
    "\n",
    "Sequences are `iterable` objects. This is: an object capable of returning its members one at a time.\n",
    "\n",
    "## Common Sequence Operations\n",
    "\n",
    "The operations in the following table are supported by most sequence types, both mutable and immutable.\n",
    "\n",
    "| Operation | Result |\n",
    "|:-|:-|\n",
    "| x `in` s |True if an item of s is equal to x, else False      | \n",
    "| x not in s |False if an item of s is equal to x, else True      |\n",
    "| s + t |the concatenation of s and t                        |\n",
    "| s * n or n * s |equivalent to adding s to itself n times|\n",
    "| s[1] |ith item of s, origin 0|\n",
    "| s[i:j]|slice of s from i to j |\n",
    "| s[i:j:k] |slice of s from i to j with step k|\n",
    "| len(s)|length of s |\n",
    "| min(s)|smallest item of s |\n",
    "| max(s)|largest item of s |\n",
    "| s.index(x[, i[, j]]) | index of the first occurrence of x in s (at or after index i and before index j) |\n",
    "| s.count(x) | total number of occurrences of x in s |"
   ]
  },
  {
   "cell_type": "markdown",
   "id": "3f25f51b",
   "metadata": {},
   "source": [
    "## Ranges\n",
    "\n",
    "The range type represents an immutable sequence of numbers. Ranges can be created using the range construction function:\n",
    "\n",
    "* range(stop)\n",
    "* range(start, stop[, step])\n",
    "\n",
    "Some sequence types (such as range) only support item sequences that follow specific patterns, and hence don’t support sequence concatenation or repetition."
   ]
  },
  {
   "cell_type": "code",
   "execution_count": 8,
   "id": "260fc1a3",
   "metadata": {},
   "outputs": [
    {
     "data": {
      "text/plain": [
       "(0, 1, 2, 3, 4)"
      ]
     },
     "execution_count": 8,
     "metadata": {},
     "output_type": "execute_result"
    }
   ],
   "source": [
    "zero_to_4 = range(5)\n",
    "zero_to_4[0], zero_to_4[1], zero_to_4[2], zero_to_4[3], zero_to_4[4]"
   ]
  },
  {
   "cell_type": "code",
   "execution_count": 20,
   "id": "2fb3625c",
   "metadata": {},
   "outputs": [
    {
     "data": {
      "text/plain": [
       "1"
      ]
     },
     "execution_count": 20,
     "metadata": {},
     "output_type": "execute_result"
    }
   ],
   "source": [
    "min(r)"
   ]
  },
  {
   "cell_type": "code",
   "execution_count": 21,
   "id": "912ac5af",
   "metadata": {},
   "outputs": [
    {
     "data": {
      "text/plain": [
       "3"
      ]
     },
     "execution_count": 21,
     "metadata": {},
     "output_type": "execute_result"
    }
   ],
   "source": [
    "max(r)"
   ]
  },
  {
   "cell_type": "code",
   "execution_count": 17,
   "id": "05b15c39",
   "metadata": {},
   "outputs": [
    {
     "data": {
      "text/plain": [
       "False"
      ]
     },
     "execution_count": 17,
     "metadata": {},
     "output_type": "execute_result"
    }
   ],
   "source": [
    "r = range(1, 5, 2)\n",
    "2 in r"
   ]
  },
  {
   "cell_type": "code",
   "execution_count": 10,
   "id": "783aec7b",
   "metadata": {},
   "outputs": [
    {
     "data": {
      "text/plain": [
       "(1, 3)"
      ]
     },
     "execution_count": 10,
     "metadata": {},
     "output_type": "execute_result"
    }
   ],
   "source": [
    "r[0], r[1]"
   ]
  },
  {
   "cell_type": "markdown",
   "id": "99792dcc",
   "metadata": {},
   "source": [
    "## Tuples\n",
    "\n",
    "Tuples are immutable sequences that can be constructed in a number of ways:\n",
    "\n",
    "* Using a pair of parentheses to denote the empty tuple: ()\n",
    "\n",
    "* Using a trailing comma for a singleton tuple: a, or (a,)\n",
    "\n",
    "* Separating items with commas: a, b, c or (a, b, c)\n",
    "\n",
    "* Using the tuple() built-in: tuple() or tuple(iterable)\n",
    "\n",
    "Elements in a tuple can be of any type."
   ]
  },
  {
   "cell_type": "code",
   "execution_count": 88,
   "id": "13e23fbc",
   "metadata": {},
   "outputs": [
    {
     "data": {
      "text/plain": [
       "(1, 2, 3, 'a')"
      ]
     },
     "execution_count": 88,
     "metadata": {},
     "output_type": "execute_result"
    }
   ],
   "source": [
    "t = 1, 2, 3, 'a'\n",
    "t"
   ]
  },
  {
   "cell_type": "code",
   "execution_count": 90,
   "id": "789ac260",
   "metadata": {},
   "outputs": [
    {
     "data": {
      "text/plain": [
       "(1, 2, 3, 'a')"
      ]
     },
     "execution_count": 90,
     "metadata": {},
     "output_type": "execute_result"
    }
   ],
   "source": [
    "a, b, c, d = t\n",
    "a, b, c, d"
   ]
  },
  {
   "cell_type": "code",
   "execution_count": 13,
   "id": "2ffded17",
   "metadata": {},
   "outputs": [
    {
     "data": {
      "text/plain": [
       "(1, 2, 3, 'a')"
      ]
     },
     "execution_count": 13,
     "metadata": {},
     "output_type": "execute_result"
    }
   ],
   "source": [
    "t[::]"
   ]
  },
  {
   "cell_type": "code",
   "execution_count": 14,
   "id": "003e9de2",
   "metadata": {},
   "outputs": [
    {
     "data": {
      "text/plain": [
       "(1, 3)"
      ]
     },
     "execution_count": 14,
     "metadata": {},
     "output_type": "execute_result"
    }
   ],
   "source": [
    "# create a tuple from an iterable (a range)\n",
    "tuple(r)"
   ]
  },
  {
   "cell_type": "code",
   "execution_count": 5,
   "id": "091ec4dc",
   "metadata": {},
   "outputs": [
    {
     "data": {
      "text/plain": [
       "(1, 2, 3, 'a')"
      ]
     },
     "execution_count": 5,
     "metadata": {},
     "output_type": "execute_result"
    }
   ],
   "source": [
    "t = (1, 2) + (3, 'a')\n",
    "t"
   ]
  },
  {
   "cell_type": "markdown",
   "id": "a52ce07e",
   "metadata": {},
   "source": [
    "Even when lists and tuples can contain values of different data types, this comes with a price and should be used with caution, see the next example:"
   ]
  },
  {
   "cell_type": "code",
   "execution_count": 6,
   "id": "5167a598",
   "metadata": {},
   "outputs": [
    {
     "ename": "TypeError",
     "evalue": "'<' not supported between instances of 'str' and 'int'",
     "output_type": "error",
     "traceback": [
      "\u001B[0;31m---------------------------------------------------------------------------\u001B[0m",
      "\u001B[0;31mTypeError\u001B[0m                                 Traceback (most recent call last)",
      "\u001B[0;32m/tmp/ipykernel_177123/750506380.py\u001B[0m in \u001B[0;36m<module>\u001B[0;34m\u001B[0m\n\u001B[1;32m      1\u001B[0m \u001B[0;31m# determining the minimum value implies comparing elements, str and int are not comparable\u001B[0m\u001B[0;34m\u001B[0m\u001B[0;34m\u001B[0m\u001B[0m\n\u001B[0;32m----> 2\u001B[0;31m \u001B[0mmin\u001B[0m\u001B[0;34m(\u001B[0m\u001B[0mt\u001B[0m\u001B[0;34m)\u001B[0m\u001B[0;34m\u001B[0m\u001B[0;34m\u001B[0m\u001B[0m\n\u001B[0m",
      "\u001B[0;31mTypeError\u001B[0m: '<' not supported between instances of 'str' and 'int'"
     ]
    }
   ],
   "source": [
    "# determining the minimum value implies comparing elements, str and int are not comparable, hence the error\n",
    "min(t)"
   ]
  },
  {
   "cell_type": "markdown",
   "id": "f7c2ff1a",
   "metadata": {},
   "source": [
    "## Lists\n",
    "\n",
    "Lists may be constructed in several ways. \n",
    "\n",
    "\n",
    "* Using a pair of square brackets to denote the empty list: []\n",
    "\n",
    "* Using square brackets, separating items with commas: [a], [a, b, c]\n",
    "\n",
    "* Using a list comprehension: [x for x in iterable]\n",
    "\n",
    "* Using the type constructor: list() or list(iterable)\n",
    "\n",
    "\n",
    "Elements in a list can be of any type."
   ]
  },
  {
   "cell_type": "code",
   "execution_count": 11,
   "id": "1f4b69a4",
   "metadata": {},
   "outputs": [
    {
     "data": {
      "text/plain": [
       "[1, 2, 3, 'a']"
      ]
     },
     "execution_count": 11,
     "metadata": {},
     "output_type": "execute_result"
    }
   ],
   "source": [
    "l = [1, 2, 3, 'a']\n",
    "l"
   ]
  },
  {
   "cell_type": "code",
   "execution_count": 13,
   "id": "eca4f07b",
   "metadata": {},
   "outputs": [
    {
     "data": {
      "text/plain": [
       "[3, 'a']"
      ]
     },
     "execution_count": 13,
     "metadata": {},
     "output_type": "execute_result"
    }
   ],
   "source": [
    "l[2:]"
   ]
  },
  {
   "cell_type": "markdown",
   "id": "583a7b9f",
   "metadata": {},
   "source": [
    "### List comprenhension\n",
    "\n",
    "List comprehension offers a shorter syntax when you want to create a new list based on the values of an existing list.\n",
    "The syntax is as follows:\n",
    "\n",
    "`newlist = [expression for item in iterable if condition]`"
   ]
  },
  {
   "cell_type": "code",
   "execution_count": 7,
   "id": "91f1c6b2",
   "metadata": {},
   "outputs": [
    {
     "data": {
      "text/plain": [
       "['apple', 'banana', 'mango']"
      ]
     },
     "execution_count": 7,
     "metadata": {},
     "output_type": "execute_result"
    }
   ],
   "source": [
    "# given a list of fruits \n",
    "fruits = [\"apple\", \"banana\", \"cherry\", \"kiwi\", \"mango\"]\n",
    "\n",
    "# create a new list with the ones that contains 'a' in its name\n",
    "a_fruits = [f for f in fruits if 'a' in f]\n",
    "\n",
    "a_fruits"
   ]
  },
  {
   "cell_type": "code",
   "execution_count": 28,
   "id": "f5237540",
   "metadata": {},
   "outputs": [
    {
     "data": {
      "text/plain": [
       "[0, 4, 16, 36, 64]"
      ]
     },
     "execution_count": 28,
     "metadata": {},
     "output_type": "execute_result"
    }
   ],
   "source": [
    "#given a list of numbers\n",
    "ns = [0, 1, 2, 3, 4, 5, 6, 7, 8, 9]\n",
    "\n",
    "# create a list containing even numbers in ns to the power of 2\n",
    "evens_powered = [n**2 for n in ns if n % 2 == 0]\n",
    "\n",
    "evens_powered"
   ]
  },
  {
   "cell_type": "markdown",
   "id": "2f18f7a8",
   "metadata": {},
   "source": [
    "## Mutable sequence operations\n",
    "\n",
    "The operations in the following table are defined on mutable sequence types.\n",
    "\n",
    "| Operation | Result |\n",
    "|:-|:-|\n",
    "| s[i] = x | item i of s is replaced by x | \n",
    "| s[i:j] = t | slice of s from i to j is replaced by the contents of the iterable t |\n",
    "| del s[i:j] | same as s[i:j] = [] | \n",
    "| s[i:j:k] = t | the elements of s[i:j:k] are replaced by those of t |\n",
    "| del s[i:j:k] | removes the elements of s[i:j:k] from the list |\n",
    "| s.append(x) | appends x to the end of the sequence (same as s[len(s):len(s)] = [x]) |\n",
    "| s.clear() | removes all items from s (same as del s[:]) |\n",
    "| s.copy() | creates a shallow copy of s (same as s[:]) |\n",
    "| s.extend(t) or s += t | extends s with the contents of t (for the most part the same as s[len(s):len(s)] = t) |\n",
    "| s \\*= n | updates s with its contents repeated n times |\n",
    "| s.insert(i, x) | inserts x into s at the index given by i (same as s[i:i] = [x]) |\n",
    "| s.pop() or s.pop(i) | retrieves the item at i and also removes it from s |\n",
    "| s.remove(x) | remove the first item from s where s[i] is equal to x |\n",
    "| s.reverse() | reverses the items of s in place |"
   ]
  },
  {
   "cell_type": "code",
   "execution_count": 34,
   "id": "6e3ee378",
   "metadata": {},
   "outputs": [
    {
     "data": {
      "text/plain": [
       "[[], [], []]"
      ]
     },
     "execution_count": 34,
     "metadata": {},
     "output_type": "execute_result"
    }
   ],
   "source": [
    "lists = [[]] * 3\n",
    "lists"
   ]
  },
  {
   "cell_type": "markdown",
   "id": "3da86e81",
   "metadata": {},
   "source": [
    "Note that items in the sequence s are not copied; they are referenced multiple times. Consider:"
   ]
  },
  {
   "cell_type": "code",
   "execution_count": 35,
   "id": "89c753d7",
   "metadata": {},
   "outputs": [
    {
     "data": {
      "text/plain": [
       "[[3], [3], [3]]"
      ]
     },
     "execution_count": 35,
     "metadata": {},
     "output_type": "execute_result"
    }
   ],
   "source": [
    "lists[0].append(3)\n",
    "lists"
   ]
  },
  {
   "cell_type": "markdown",
   "id": "a276ada3",
   "metadata": {},
   "source": [
    "What has happened is that `[[]]` is a one-element list containing an empty list, so all three elements of `[[]] * 3` are references to this single empty list. Modifying any of the elements of lists modifies this single list. You can create a list of different lists this way:"
   ]
  },
  {
   "cell_type": "code",
   "execution_count": 37,
   "id": "d7f8f99f",
   "metadata": {},
   "outputs": [
    {
     "data": {
      "text/plain": [
       "[[3], [5], [7]]"
      ]
     },
     "execution_count": 37,
     "metadata": {},
     "output_type": "execute_result"
    }
   ],
   "source": [
    "lists = [[] for i in range(3)]\n",
    "lists[0].append(3)\n",
    "lists[1].append(5)\n",
    "lists[2].append(7)\n",
    "lists"
   ]
  },
  {
   "cell_type": "code",
   "execution_count": 38,
   "id": "4e532ec0",
   "metadata": {},
   "outputs": [
    {
     "data": {
      "text/plain": [
       "[[3], [5], [7], [9], [11]]"
      ]
     },
     "execution_count": 38,
     "metadata": {},
     "output_type": "execute_result"
    }
   ],
   "source": [
    "lists += [[9], [11]]\n",
    "lists"
   ]
  },
  {
   "cell_type": "markdown",
   "id": "8ece7997",
   "metadata": {},
   "source": [
    "Given a list with the numbers from 1 to 10, modify list so that the odd numbers are the replaces to its power of 2"
   ]
  },
  {
   "cell_type": "code",
   "execution_count": 41,
   "id": "fa57baef",
   "metadata": {},
   "outputs": [
    {
     "data": {
      "text/plain": [
       "[1, 2, 3, 4, 5, 6, 7, 8, 9, 10]"
      ]
     },
     "execution_count": 41,
     "metadata": {},
     "output_type": "execute_result"
    }
   ],
   "source": [
    "# l = [1, 2, 3, 4, 5, 6, 7, 8, 9, 10]\n",
    "l = [i for i in range(1, 11)]\n",
    "l"
   ]
  },
  {
   "cell_type": "code",
   "execution_count": 43,
   "id": "39b16776",
   "metadata": {},
   "outputs": [
    {
     "data": {
      "text/plain": [
       "[1, 3, 5, 7, 9]"
      ]
     },
     "execution_count": 43,
     "metadata": {},
     "output_type": "execute_result"
    }
   ],
   "source": [
    "l[::2]"
   ]
  },
  {
   "cell_type": "code",
   "execution_count": 44,
   "id": "5df5d8a1",
   "metadata": {},
   "outputs": [
    {
     "data": {
      "text/plain": [
       "[1, 2, 9, 4, 25, 6, 49, 8, 81, 10]"
      ]
     },
     "execution_count": 44,
     "metadata": {},
     "output_type": "execute_result"
    }
   ],
   "source": [
    "l[::2] = [i**2 for i in l if i % 2 != 0]\n",
    "l"
   ]
  },
  {
   "cell_type": "code",
   "execution_count": 31,
   "id": "ab034181",
   "metadata": {},
   "outputs": [
    {
     "data": {
      "text/plain": [
       "(140469323930688, 140469323681600)"
      ]
     },
     "execution_count": 31,
     "metadata": {},
     "output_type": "execute_result"
    }
   ],
   "source": [
    "id(l), id(l[::-1])"
   ]
  },
  {
   "cell_type": "code",
   "execution_count": 34,
   "id": "8880da97",
   "metadata": {},
   "outputs": [
    {
     "data": {
      "text/plain": [
       "[1, 2, 3, 4, 5, 6, 7, 8, 9, 10]"
      ]
     },
     "execution_count": 34,
     "metadata": {},
     "output_type": "execute_result"
    }
   ],
   "source": [
    "l = [9, 7, 1, 3, 5, 10, 2, 8, 4, 6]\n",
    "l.sort()\n",
    "l"
   ]
  },
  {
   "cell_type": "code",
   "execution_count": 154,
   "id": "011b1347",
   "metadata": {},
   "outputs": [
    {
     "data": {
      "text/plain": [
       "[1, 2, 3, 4, 5, 6, 7, 8, 9, 10]"
      ]
     },
     "execution_count": 154,
     "metadata": {},
     "output_type": "execute_result"
    }
   ],
   "source": [
    "l = [9, 7, 1, 3, 5, 10, 2, 8, 4, 6]\n",
    "sorted(l)"
   ]
  },
  {
   "cell_type": "code",
   "execution_count": 155,
   "id": "146d0263",
   "metadata": {},
   "outputs": [
    {
     "data": {
      "text/plain": [
       "[9, 7, 1, 3, 5, 10, 2, 8, 4, 6]"
      ]
     },
     "execution_count": 155,
     "metadata": {},
     "output_type": "execute_result"
    }
   ],
   "source": [
    "l"
   ]
  },
  {
   "cell_type": "code",
   "execution_count": 77,
   "id": "23d3b7f6",
   "metadata": {},
   "outputs": [],
   "source": [
    "fruits = [\"apple\", \"mango\", \"papaya\", \"pineapple\", \"kiwi\"]"
   ]
  },
  {
   "cell_type": "code",
   "execution_count": 79,
   "id": "13799732",
   "metadata": {},
   "outputs": [
    {
     "data": {
      "text/plain": [
       "['APPLE', 'MANGO', 'PAPAYA', 'PINEAPPLE', 'KIWI']"
      ]
     },
     "execution_count": 79,
     "metadata": {},
     "output_type": "execute_result"
    }
   ],
   "source": [
    "[f.upper() for f in fruits]"
   ]
  },
  {
   "cell_type": "code",
   "execution_count": 81,
   "id": "cf0aa125",
   "metadata": {},
   "outputs": [
    {
     "data": {
      "text/plain": [
       "['Apple', 'Mango', 'Papaya', 'Pineapple', 'Kiwi']"
      ]
     },
     "execution_count": 81,
     "metadata": {},
     "output_type": "execute_result"
    }
   ],
   "source": [
    "[f[0].upper() + f[1:] for f in fruits]"
   ]
  },
  {
   "cell_type": "code",
   "execution_count": 106,
   "id": "476ecda6",
   "metadata": {},
   "outputs": [
    {
     "data": {
      "text/plain": [
       "[(0, 'Apple'), (1, 'Mango'), (2, 'Papaya'), (3, 'Pineapple'), (4, 'Kiwi')]"
      ]
     },
     "execution_count": 106,
     "metadata": {},
     "output_type": "execute_result"
    }
   ],
   "source": [
    "list(enumerate([f[0].upper() + f[1:] for f in fruits]))"
   ]
  },
  {
   "cell_type": "code",
   "execution_count": 123,
   "id": "155a24d2",
   "metadata": {},
   "outputs": [
    {
     "data": {
      "text/plain": [
       "[('apple', '3'),\n",
       " ('mango', '8'),\n",
       " ('papaya', '7.5'),\n",
       " ('pineapple', '6'),\n",
       " ('kiwi', '4.5')]"
      ]
     },
     "execution_count": 123,
     "metadata": {},
     "output_type": "execute_result"
    }
   ],
   "source": [
    "fruit_prices = (\"3\", \"8\", \"7.5\", \"6\", \"4.5\")\n",
    "list(zip(fruits, fruit_prices))"
   ]
  },
  {
   "cell_type": "markdown",
   "id": "179170bc",
   "metadata": {},
   "source": [
    "## Sets\n",
    "\n",
    "Python also includes a data type for sets. A set is an unordered collection with no duplicate elements. Basic uses include membership testing and eliminating duplicate entries. Set objects also support mathematical operations like union, intersection, difference, and symmetric difference.\n",
    "\n",
    "Sets can be created by several means:\n",
    "\n",
    "* Use a comma-separated list of elements within braces: {'jack', 'sjoerd'}\n",
    "\n",
    "* Use a set comprehension: {c for c in 'abracadabra' if c not in 'abc'}\n",
    "\n",
    "* Use the type constructor: set(), set('foobar'), set(['a', 'b', 'foo'])\n",
    "\n",
    "\n",
    "| Operation | Result |\n",
    "|:-|:-|\n",
    "| s.issubset(other) or  set <= other | Test whether every element in the set is in other. |\n",
    "|  set < other | Test whether the set is a proper subset of other, that is, set <= other and set != other. |\n",
    "|  issuperset(other) or set >= other | Test whether every element in other is in the set. | \n",
    "|  set > other | Test whether the set is a proper superset of other, that is, set >= other and set != other. |\n",
    "|  union(\\*others) or set \\| other \\| ... | Return a new set with elements from the set and all others. |\n",
    "|  intersection(\\*others) or set & other & ... | Return a new set with elements common to the set and all others. |\n",
    "|  difference(\\*others) or set - other - ... | Return a new set with elements in the set that are not in the others. |\n",
    "|  symmetric_difference(other) or set ^ other | Return a new set with elements in either the set or other but not both. |\n",
    "|  update(\\*others) or set \\|= other \\| ... | Update the set, adding elements from all others. |\n",
    "|  intersection_update(\\*others) or set &= other & ... | Update the set, keeping only elements found in it and all others. |\n",
    "| difference_update(\\*others) or set -= other \\| ... | Update the set, removing elements found in others. |\n",
    "|  symmetric_difference_update(other) or set ^= other | Update the set, keeping only elements found in either set, but not in both. |"
   ]
  },
  {
   "cell_type": "code",
   "execution_count": 58,
   "id": "6c85d675",
   "metadata": {},
   "outputs": [
    {
     "data": {
      "text/plain": [
       "{'d', 'r'}"
      ]
     },
     "execution_count": 58,
     "metadata": {},
     "output_type": "execute_result"
    }
   ],
   "source": [
    "{c for c in 'abracadabra' if c not in 'abc'}"
   ]
  },
  {
   "cell_type": "markdown",
   "id": "d66d2f5a",
   "metadata": {},
   "source": [
    "Not recommended subtitute of the above example, included just to ilustrate converting list to sets to avoid duplicity:"
   ]
  },
  {
   "cell_type": "code",
   "execution_count": 63,
   "id": "58c491cd",
   "metadata": {},
   "outputs": [
    {
     "data": {
      "text/plain": [
       "['r', 'd', 'r']"
      ]
     },
     "execution_count": 63,
     "metadata": {},
     "output_type": "execute_result"
    }
   ],
   "source": [
    "[c for c in 'abracadabra' if c not in 'abc']"
   ]
  },
  {
   "cell_type": "code",
   "execution_count": 64,
   "id": "04c98216",
   "metadata": {},
   "outputs": [
    {
     "data": {
      "text/plain": [
       "{'d', 'r'}"
      ]
     },
     "execution_count": 64,
     "metadata": {},
     "output_type": "execute_result"
    }
   ],
   "source": [
    "set([c for c in 'abracadabra' if c not in 'abc'])"
   ]
  },
  {
   "cell_type": "code",
   "execution_count": 72,
   "id": "d7ae05e5",
   "metadata": {},
   "outputs": [],
   "source": [
    "odds = {1, 3, 5, 7, 9}\n",
    "naturals = {0, 9, 7, 1, 3, 5, 10, 2, 8, 4, 6}"
   ]
  },
  {
   "cell_type": "code",
   "execution_count": 73,
   "id": "e6c10dab",
   "metadata": {},
   "outputs": [
    {
     "data": {
      "text/plain": [
       "(True, True)"
      ]
     },
     "execution_count": 73,
     "metadata": {},
     "output_type": "execute_result"
    }
   ],
   "source": [
    "odds <= naturals, odds.issubset(naturals)"
   ]
  },
  {
   "cell_type": "code",
   "execution_count": 74,
   "id": "3006fbc1",
   "metadata": {},
   "outputs": [
    {
     "data": {
      "text/plain": [
       "(True, True)"
      ]
     },
     "execution_count": 74,
     "metadata": {},
     "output_type": "execute_result"
    }
   ],
   "source": [
    "naturals >= odds, naturals.issuperset(odds)"
   ]
  },
  {
   "cell_type": "code",
   "execution_count": 75,
   "id": "72483221",
   "metadata": {},
   "outputs": [
    {
     "data": {
      "text/plain": [
       "({0, 1, 2, 3, 4, 5, 6, 7, 8, 9, 10},\n",
       " {0, 1, 2, 3, 4, 5, 6, 7, 8, 9, 10},\n",
       " {0, 1, 2, 3, 4, 5, 6, 7, 8, 9, 10})"
      ]
     },
     "execution_count": 75,
     "metadata": {},
     "output_type": "execute_result"
    }
   ],
   "source": [
    "odds | naturals, odds.union(naturals), naturals.union(odds)"
   ]
  },
  {
   "cell_type": "code",
   "execution_count": 76,
   "id": "0b45bca1",
   "metadata": {},
   "outputs": [
    {
     "data": {
      "text/plain": [
       "{1, 3, 5, 7, 9}"
      ]
     },
     "execution_count": 76,
     "metadata": {},
     "output_type": "execute_result"
    }
   ],
   "source": [
    "odds & naturals"
   ]
  },
  {
   "cell_type": "code",
   "execution_count": 158,
   "id": "99eaf049",
   "metadata": {},
   "outputs": [
    {
     "data": {
      "text/plain": [
       "{0, 1, 2, 3, 4, 5, 6, 7, 8, 9, 10}"
      ]
     },
     "execution_count": 158,
     "metadata": {},
     "output_type": "execute_result"
    }
   ],
   "source": [
    "set(sorted(naturals))"
   ]
  },
  {
   "cell_type": "markdown",
   "id": "06cb117e",
   "metadata": {},
   "source": [
    "## Dictionaries\n",
    "\n",
    "Another useful data type built into Python is the dictionary. Dictionaries are sometimes found in other languages as \"Maps\", \"associative memories\" or \"associative arrays\". Unlike sequences, which are indexed by a range of numbers, dictionaries are indexed by keys, which can be any immutable type; strings and numbers can always be keys. Tuples can be used as keys if they contain only strings, numbers, or tuples; if a tuple contains any mutable object either directly or indirectly, it cannot be used as a key. You can’t use lists as keys, since lists can be modified in place using index assignments, slice assignments, or methods like append() and extend().\n",
    "\n",
    "It is best to think of a dictionary as a set of `key: value` pairs, with the requirement that the keys are unique (within one dictionary). \n",
    "\n",
    "Dictionaries can be created by several means:\n",
    "\n",
    "* A pair of braces creates an empty dictionary: {}\n",
    "\n",
    "* Use a comma-separated list of key: value pairs within braces: {'jack': 4098, 'sjoerd': 4127} or {4098: 'jack', 4127: 'sjoerd'}\n",
    "\n",
    "* Use a dict comprehension: {}, {x: x ** 2 for x in range(10)}\n",
    "\n",
    "* Use the type constructor: dict(), dict([('foo', 100), ('bar', 200)]), dict(foo=100, bar=200)"
   ]
  },
  {
   "cell_type": "code",
   "execution_count": 139,
   "id": "f069c0ca",
   "metadata": {},
   "outputs": [
    {
     "data": {
      "text/plain": [
       "True"
      ]
     },
     "execution_count": 139,
     "metadata": {},
     "output_type": "execute_result"
    }
   ],
   "source": [
    "a = dict(one=1, two=2, three=3)\n",
    "\n",
    "b = {'one': 1, 'two': 2, 'three': 3}\n",
    "\n",
    "c = dict(zip(['one', 'two', 'three'], [1, 2, 3]))\n",
    "\n",
    "d = dict([('two', 2), ('one', 1), ('three', 3)])\n",
    "\n",
    "e = dict({'three': 3, 'one': 1, 'two': 2})\n",
    "\n",
    "f = dict({'one': 1, 'three': 3}, two=2)\n",
    "\n",
    "a == b == c == d == e == f"
   ]
  },
  {
   "cell_type": "markdown",
   "id": "89f4bb4a",
   "metadata": {},
   "source": [
    "Retrieving a list of all the values in a dictionary:"
   ]
  },
  {
   "cell_type": "code",
   "execution_count": 140,
   "id": "6af688b2",
   "metadata": {},
   "outputs": [
    {
     "data": {
      "text/plain": [
       "['one', 'two', 'three']"
      ]
     },
     "execution_count": 140,
     "metadata": {},
     "output_type": "execute_result"
    }
   ],
   "source": [
    "list(a)"
   ]
  },
  {
   "cell_type": "code",
   "execution_count": 141,
   "id": "c4c4ca0d",
   "metadata": {},
   "outputs": [
    {
     "data": {
      "text/plain": [
       "3"
      ]
     },
     "execution_count": 141,
     "metadata": {},
     "output_type": "execute_result"
    }
   ],
   "source": [
    "len(a)"
   ]
  },
  {
   "cell_type": "markdown",
   "id": "097aa93b",
   "metadata": {},
   "source": [
    "Accessing a value using its key:"
   ]
  },
  {
   "cell_type": "code",
   "execution_count": 142,
   "id": "7fb8b3bc",
   "metadata": {},
   "outputs": [
    {
     "data": {
      "text/plain": [
       "(1, 1)"
      ]
     },
     "execution_count": 142,
     "metadata": {},
     "output_type": "execute_result"
    }
   ],
   "source": [
    "a['one'], a.get('one')"
   ]
  },
  {
   "cell_type": "markdown",
   "id": "7a9ac8cb",
   "metadata": {},
   "source": [
    "Checking if a dictionary contains a key:"
   ]
  },
  {
   "cell_type": "code",
   "execution_count": 143,
   "id": "0f0c0555",
   "metadata": {},
   "outputs": [
    {
     "data": {
      "text/plain": [
       "True"
      ]
     },
     "execution_count": 143,
     "metadata": {},
     "output_type": "execute_result"
    }
   ],
   "source": [
    "'one' in a"
   ]
  },
  {
   "cell_type": "markdown",
   "id": "181075c8",
   "metadata": {},
   "source": [
    "Associate in a dictionary each number form 1 to 10 as a key with its power of 2 as value:"
   ]
  },
  {
   "cell_type": "code",
   "execution_count": 144,
   "id": "c772a6db",
   "metadata": {},
   "outputs": [
    {
     "data": {
      "text/plain": [
       "{0: 0, 1: 1, 2: 4, 3: 9, 4: 16, 5: 25, 6: 36, 7: 49, 8: 64, 9: 81, 10: 100}"
      ]
     },
     "execution_count": 144,
     "metadata": {},
     "output_type": "execute_result"
    }
   ],
   "source": [
    "{x: x**2 for x in range(0, 11)}"
   ]
  },
  {
   "cell_type": "code",
   "execution_count": 145,
   "id": "eb1208a8",
   "metadata": {},
   "outputs": [
    {
     "data": {
      "text/plain": [
       "{'apple': '3', 'mango': '8', 'papaya': '7.5', 'pineapple': '6', 'kiwi': '4.5'}"
      ]
     },
     "execution_count": 145,
     "metadata": {},
     "output_type": "execute_result"
    }
   ],
   "source": [
    "dict(zip(fruits, fruit_prices))"
   ]
  },
  {
   "cell_type": "markdown",
   "id": "65b59a25",
   "metadata": {},
   "source": [
    "Dictionaries are mutables, assigning to an unexisting key will add that key:value pair:"
   ]
  },
  {
   "cell_type": "code",
   "execution_count": 149,
   "id": "dc556e4a",
   "metadata": {},
   "outputs": [
    {
     "data": {
      "text/plain": [
       "{'one': 'uno', 'two': 2, 'three': 3, 'four': 4}"
      ]
     },
     "execution_count": 149,
     "metadata": {},
     "output_type": "execute_result"
    }
   ],
   "source": [
    "a['one'] = 'uno'\n",
    "a['four'] = 4\n",
    "a"
   ]
  },
  {
   "cell_type": "code",
   "execution_count": 150,
   "id": "6dbc1bc4",
   "metadata": {},
   "outputs": [
    {
     "data": {
      "text/plain": [
       "{'one': 'uno', 'two': 2, 'three': 3}"
      ]
     },
     "execution_count": 150,
     "metadata": {},
     "output_type": "execute_result"
    }
   ],
   "source": [
    "del a['four']\n",
    "a"
   ]
  },
  {
   "cell_type": "markdown",
   "id": "49a27cca",
   "metadata": {},
   "source": [
    "Iterator over dict keys:"
   ]
  },
  {
   "cell_type": "code",
   "execution_count": 161,
   "id": "99a652c2",
   "metadata": {},
   "outputs": [
    {
     "data": {
      "text/plain": [
       "dict_keys(['one', 'two', 'three'])"
      ]
     },
     "execution_count": 161,
     "metadata": {},
     "output_type": "execute_result"
    }
   ],
   "source": [
    "b.keys()"
   ]
  },
  {
   "cell_type": "markdown",
   "id": "a24a548c",
   "metadata": {},
   "source": [
    "Iterator over dict values:"
   ]
  },
  {
   "cell_type": "code",
   "execution_count": 162,
   "id": "69ef805c",
   "metadata": {},
   "outputs": [
    {
     "data": {
      "text/plain": [
       "dict_values([1, 2, 3])"
      ]
     },
     "execution_count": 162,
     "metadata": {},
     "output_type": "execute_result"
    }
   ],
   "source": [
    "b.values()"
   ]
  },
  {
   "cell_type": "markdown",
   "id": "80a27ee5",
   "metadata": {},
   "source": [
    "Iterator over dict pairs or items:"
   ]
  },
  {
   "cell_type": "code",
   "execution_count": 163,
   "id": "d8198043",
   "metadata": {},
   "outputs": [
    {
     "data": {
      "text/plain": [
       "dict_items([('one', 1), ('two', 2), ('three', 3)])"
      ]
     },
     "execution_count": 163,
     "metadata": {},
     "output_type": "execute_result"
    }
   ],
   "source": [
    "b.items()"
   ]
  },
  {
   "cell_type": "markdown",
   "id": "93e97542",
   "metadata": {},
   "source": []
  }
 ],
 "metadata": {
  "kernelspec": {
   "display_name": "Python 3 (ipykernel)",
   "language": "python",
   "name": "python3"
  },
  "language_info": {
   "codemirror_mode": {
    "name": "ipython",
    "version": 3
   },
   "file_extension": ".py",
   "mimetype": "text/x-python",
   "name": "python",
   "nbconvert_exporter": "python",
   "pygments_lexer": "ipython3",
   "version": "3.10.6"
  }
 },
 "nbformat": 4,
 "nbformat_minor": 5
}
