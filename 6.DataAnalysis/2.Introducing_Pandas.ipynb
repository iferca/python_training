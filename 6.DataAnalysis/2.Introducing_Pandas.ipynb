{
 "cells": [
  {
   "cell_type": "markdown",
   "metadata": {
    "colab_type": "text",
    "id": "cKoF1Nfq04mc"
   },
   "source": [
    "# Introducing Pandas\n",
    "\n",
    "At the very basic level, Pandas objects can be thought of as enhanced versions of NumPy structured arrays in which the rows and columns are identified with labels rather than simple integer indices.\n",
    "As we will see during the course of this chapter, Pandas provides a host of useful tools, methods, and functionality on top of the basic data structures, but nearly everything that follows will require an understanding of what these structures are.\n",
    "Thus, before going any further, let's introduce these three fundamental Pandas data structures: the ``Series``, ``DataFrame``, and ``Index``.\n",
    "\n",
    "Let's start our code sessions with the standard NumPy and Pandas imports:"
   ]
  },
  {
   "cell_type": "code",
   "execution_count": 2,
   "metadata": {
    "colab": {},
    "colab_type": "code",
    "id": "fTPf3hvv04me"
   },
   "outputs": [],
   "source": [
    "import numpy as np\n",
    "import pandas as pd"
   ]
  },
  {
   "cell_type": "markdown",
   "metadata": {
    "colab_type": "text",
    "id": "HpwXJ-pb04mj"
   },
   "source": [
    "## The Pandas Series Object\n",
    "\n",
    "A Pandas ``Series`` is a one-dimensional array of indexed data.\n",
    "It can be created from a list or array as follows:"
   ]
  },
  {
   "cell_type": "code",
   "execution_count": 3,
   "metadata": {
    "colab": {},
    "colab_type": "code",
    "id": "7BkPuIEc04mk",
    "outputId": "51f4a9d7-ed04-475a-9e0d-6eac250f78fb"
   },
   "outputs": [
    {
     "data": {
      "text/plain": [
       "0    0.25\n",
       "1    0.50\n",
       "2    0.75\n",
       "3    1.00\n",
       "dtype: float64"
      ]
     },
     "execution_count": 3,
     "metadata": {},
     "output_type": "execute_result"
    }
   ],
   "source": [
    "data = pd.Series([0.25, 0.5, 0.75, 1.0])\n",
    "data"
   ]
  },
  {
   "cell_type": "markdown",
   "metadata": {
    "colab_type": "text",
    "id": "LgXK1i4d04ms"
   },
   "source": [
    "As we see in the output, the ``Series`` wraps both a sequence of values and a sequence of indices, which we can access with the ``values`` and ``index`` attributes.\n",
    "The ``values`` are simply a familiar NumPy array:"
   ]
  },
  {
   "cell_type": "code",
   "execution_count": 3,
   "metadata": {
    "colab": {},
    "colab_type": "code",
    "id": "HPqvTLq104ms",
    "outputId": "1987a3d6-e7c5-4219-e27b-c6f172928e0a"
   },
   "outputs": [
    {
     "data": {
      "text/plain": [
       "array([0.25, 0.5 , 0.75, 1.  ])"
      ]
     },
     "execution_count": 3,
     "metadata": {},
     "output_type": "execute_result"
    }
   ],
   "source": [
    "data.values"
   ]
  },
  {
   "cell_type": "markdown",
   "metadata": {
    "colab_type": "text",
    "id": "1yZ0Rjcw04mw"
   },
   "source": [
    "The ``index`` is an array-like object of type ``pd.Index``, which we'll discuss in more detail momentarily."
   ]
  },
  {
   "cell_type": "code",
   "execution_count": 4,
   "metadata": {
    "colab": {},
    "colab_type": "code",
    "id": "6V-uzike04mx",
    "outputId": "2583e621-cc16-40b9-ff8d-2d350874c4d5"
   },
   "outputs": [
    {
     "data": {
      "text/plain": [
       "RangeIndex(start=0, stop=4, step=1)"
      ]
     },
     "execution_count": 4,
     "metadata": {},
     "output_type": "execute_result"
    }
   ],
   "source": [
    "data.index"
   ]
  },
  {
   "cell_type": "markdown",
   "metadata": {
    "colab_type": "text",
    "id": "4qyHBGlX04m0"
   },
   "source": [
    "Like with a NumPy array, data can be accessed by the associated index via the familiar Python square-bracket notation:"
   ]
  },
  {
   "cell_type": "code",
   "execution_count": 5,
   "metadata": {
    "colab": {},
    "colab_type": "code",
    "id": "JTn5iIKe04m1",
    "outputId": "3dcf0073-ee82-4587-f250-0a3e47ac4fa2"
   },
   "outputs": [
    {
     "data": {
      "text/plain": [
       "0.5"
      ]
     },
     "execution_count": 5,
     "metadata": {},
     "output_type": "execute_result"
    }
   ],
   "source": [
    "data[1]"
   ]
  },
  {
   "cell_type": "code",
   "execution_count": 6,
   "metadata": {
    "colab": {},
    "colab_type": "code",
    "id": "Lt_4i3iJ04m5",
    "outputId": "b52a7cd3-1924-4ee4-c5f3-95210683effd"
   },
   "outputs": [
    {
     "data": {
      "text/plain": [
       "1    0.50\n",
       "2    0.75\n",
       "dtype: float64"
      ]
     },
     "execution_count": 6,
     "metadata": {},
     "output_type": "execute_result"
    }
   ],
   "source": [
    "data[1:3]"
   ]
  },
  {
   "cell_type": "markdown",
   "metadata": {
    "colab_type": "text",
    "id": "AhbbeNv904m9"
   },
   "source": [
    "As will be shown next, though, the Pandas `Series` is much more general and flexible than the one-dimensional NumPy array that it emulates.\n",
    "\n",
    "### `Series` as generalized NumPy array\n",
    "\n",
    "From what have been shown so far, it may look like the `Series` object is basically interchangeable with a one-dimensional NumPy array.\n",
    "\n",
    "The essential difference is the presence of the index: while the Numpy Array has an **implicitly defined** integer index used to access the values, the Pandas ``Series`` has an **explicitly defined** index associated with the values.\n",
    "\n",
    "This explicit index definition gives the `Series` object additional capabilities. For example, the index doesn't need not be an integer, but can consist of values of any desired type.\n",
    "\n",
    "For example, if we wish, we can use strings as an index:"
   ]
  },
  {
   "cell_type": "code",
   "execution_count": 4,
   "metadata": {
    "colab": {},
    "colab_type": "code",
    "id": "bS--8cy704nF",
    "outputId": "988c8300-72d3-4f38-b5ad-2857a638fe18"
   },
   "outputs": [
    {
     "data": {
      "text/plain": [
       "a    0.25\n",
       "b    0.50\n",
       "c    0.75\n",
       "d    1.00\n",
       "dtype: float64"
      ]
     },
     "execution_count": 4,
     "metadata": {},
     "output_type": "execute_result"
    }
   ],
   "source": [
    "data = pd.Series([0.25, 0.5, 0.75, 1.0],\n",
    "                 index=['a', 'b', 'c', 'd'])\n",
    "data"
   ]
  },
  {
   "cell_type": "markdown",
   "metadata": {
    "colab_type": "text",
    "id": "WIoRX6-T04nM"
   },
   "source": [
    "And the item access works as expected:"
   ]
  },
  {
   "cell_type": "code",
   "execution_count": 5,
   "metadata": {
    "colab": {},
    "colab_type": "code",
    "id": "hrfsTH8z04nN",
    "outputId": "2573ff56-aac7-453d-f9de-228feefe0355"
   },
   "outputs": [
    {
     "data": {
      "text/plain": [
       "0.5"
      ]
     },
     "execution_count": 5,
     "metadata": {},
     "output_type": "execute_result"
    }
   ],
   "source": [
    "data['b']"
   ]
  },
  {
   "cell_type": "markdown",
   "metadata": {
    "colab_type": "text",
    "id": "eKLWXFAd04nP"
   },
   "source": [
    "Non-contiguous or non-sequential indices can be used too:"
   ]
  },
  {
   "cell_type": "code",
   "execution_count": 0,
   "metadata": {
    "colab": {},
    "colab_type": "code",
    "id": "Frno043-04nQ",
    "outputId": "79b91306-e2c8-4d8d-a778-74292424d9a1"
   },
   "outputs": [
    {
     "data": {
      "text/plain": [
       "2    0.25\n",
       "5    0.50\n",
       "3    0.75\n",
       "7    1.00\n",
       "dtype: float64"
      ]
     },
     "execution_count": 9,
     "metadata": {
      "tags": []
     },
     "output_type": "execute_result"
    }
   ],
   "source": [
    "data = pd.Series([0.25, 0.5, 0.75, 1.0],\n",
    "                 index=[2, 5, 3, 7])\n",
    "data"
   ]
  },
  {
   "cell_type": "code",
   "execution_count": 0,
   "metadata": {
    "colab": {},
    "colab_type": "code",
    "id": "SyV1M6EC04nU",
    "outputId": "66433150-a8ca-4d65-f2c3-643f8e87730c"
   },
   "outputs": [
    {
     "data": {
      "text/plain": [
       "0.5"
      ]
     },
     "execution_count": 10,
     "metadata": {
      "tags": []
     },
     "output_type": "execute_result"
    }
   ],
   "source": [
    "data[5]"
   ]
  },
  {
   "cell_type": "markdown",
   "metadata": {
    "colab_type": "text",
    "id": "3gYua-_f04nY"
   },
   "source": [
    "### Series as specialized dictionary\n",
    "\n",
    "In this way, you can think of a Pandas ``Series`` a bit like a specialization of a Python dictionary.\n",
    "A dictionary is a structure that maps arbitrary keys to a set of arbitrary values, and a ``Series`` is a structure which maps typed keys to a set of typed values.\n",
    "This typing is important: just as the type-specific compiled code behind a NumPy array makes it more efficient than a Python list for certain operations, the type information of a Pandas ``Series`` makes it much more efficient than Python dictionaries for certain operations.\n",
    "\n",
    "The ``Series``-as-dictionary analogy can be made even more clear by constructing a ``Series`` object directly from a Python dictionary:"
   ]
  },
  {
   "cell_type": "code",
   "execution_count": 6,
   "metadata": {
    "colab": {},
    "colab_type": "code",
    "id": "At0rjeIG04nZ",
    "outputId": "02a09dd7-5726-4ef9-9947-877bdf7e30f0"
   },
   "outputs": [
    {
     "data": {
      "text/plain": [
       "California    38332521\n",
       "Texas         26448193\n",
       "New York      19651127\n",
       "Florida       19552860\n",
       "Illinois      12882135\n",
       "dtype: int64"
      ]
     },
     "execution_count": 6,
     "metadata": {},
     "output_type": "execute_result"
    }
   ],
   "source": [
    "population_dict = {'California': 38332521,\n",
    "                   'Texas': 26448193,\n",
    "                   'New York': 19651127,\n",
    "                   'Florida': 19552860,\n",
    "                   'Illinois': 12882135}\n",
    "population = pd.Series(population_dict)\n",
    "population"
   ]
  },
  {
   "cell_type": "markdown",
   "metadata": {
    "colab_type": "text",
    "id": "hNlWX4Mp04ne"
   },
   "source": [
    "By default, a ``Series`` will be created where the index is drawn from the sorted keys.\n",
    "From here, typical dictionary-style item access can be performed:"
   ]
  },
  {
   "cell_type": "code",
   "execution_count": 7,
   "metadata": {
    "colab": {},
    "colab_type": "code",
    "id": "jOLmBlhi04nf",
    "outputId": "29d2337c-fcec-43b3-a9dd-70b218328bab"
   },
   "outputs": [
    {
     "data": {
      "text/plain": [
       "38332521"
      ]
     },
     "execution_count": 7,
     "metadata": {},
     "output_type": "execute_result"
    }
   ],
   "source": [
    "population['California']"
   ]
  },
  {
   "cell_type": "markdown",
   "metadata": {
    "colab_type": "text",
    "id": "eRPs9tbg04ni"
   },
   "source": [
    "Unlike a dictionary, though, the ``Series`` also supports array-style operations such as slicing:"
   ]
  },
  {
   "cell_type": "code",
   "execution_count": 12,
   "metadata": {
    "colab": {},
    "colab_type": "code",
    "id": "GjSaS70V04nj",
    "outputId": "b27aad9c-2240-4ffb-ebce-cf0690d7d53d"
   },
   "outputs": [
    {
     "data": {
      "text/plain": [
       "California    38332521\n",
       "Texas         26448193\n",
       "New York      19651127\n",
       "Florida       19552860\n",
       "Illinois      12882135\n",
       "dtype: int64"
      ]
     },
     "execution_count": 12,
     "metadata": {},
     "output_type": "execute_result"
    }
   ],
   "source": [
    "population['California':'Illinois']"
   ]
  },
  {
   "cell_type": "markdown",
   "metadata": {
    "colab_type": "text",
    "id": "tTpOJ4xR04nn"
   },
   "source": [
    "### Constructing Series objects\n",
    "\n",
    "Few ways of constructing a Pandas `Series` from scratch have been shown already; all of them are some version of the following:\n",
    "\n",
    "```python\n",
    ">>> pd.Series(data, index=index)\n",
    "```\n",
    "\n",
    "where ``index`` is an optional argument, and ``data`` can be one of many entities.\n",
    "\n",
    "For example, ``data`` can be a list or NumPy array, in which case ``index`` defaults to an integer sequence:"
   ]
  },
  {
   "cell_type": "code",
   "execution_count": 13,
   "metadata": {
    "colab": {},
    "colab_type": "code",
    "id": "fRyIcNsS04no",
    "outputId": "e6ac3724-5857-4064-fb93-8ad226617d94"
   },
   "outputs": [
    {
     "data": {
      "text/plain": [
       "0    2\n",
       "1    4\n",
       "2    6\n",
       "dtype: int64"
      ]
     },
     "execution_count": 13,
     "metadata": {},
     "output_type": "execute_result"
    }
   ],
   "source": [
    "pd.Series([2, 4, 6])"
   ]
  },
  {
   "cell_type": "markdown",
   "metadata": {
    "colab_type": "text",
    "id": "Fg0GV-mO04ns"
   },
   "source": [
    "``data`` can be a scalar, which is repeated to fill the specified index:"
   ]
  },
  {
   "cell_type": "code",
   "execution_count": 14,
   "metadata": {
    "colab": {},
    "colab_type": "code",
    "id": "bTljPmZB04nt",
    "outputId": "744e4e97-0c40-4509-94e9-cca93d03cdd7"
   },
   "outputs": [
    {
     "data": {
      "text/plain": [
       "100    5\n",
       "200    5\n",
       "300    5\n",
       "dtype: int64"
      ]
     },
     "execution_count": 14,
     "metadata": {},
     "output_type": "execute_result"
    }
   ],
   "source": [
    "pd.Series(5, index=[100, 200, 300])"
   ]
  },
  {
   "cell_type": "markdown",
   "metadata": {
    "colab_type": "text",
    "id": "nYhtvg7u04nz"
   },
   "source": [
    "``data`` can be a dictionary, in which ``index`` defaults to the sorted dictionary keys:"
   ]
  },
  {
   "cell_type": "code",
   "execution_count": 15,
   "metadata": {
    "colab": {},
    "colab_type": "code",
    "id": "xkNP92m804n1",
    "outputId": "92a79cdd-3705-482c-cf3a-1c40426de1f1"
   },
   "outputs": [
    {
     "data": {
      "text/plain": [
       "2    a\n",
       "1    b\n",
       "3    c\n",
       "dtype: object"
      ]
     },
     "execution_count": 15,
     "metadata": {},
     "output_type": "execute_result"
    }
   ],
   "source": [
    "pd.Series({2:'a', 1:'b', 3:'c'})"
   ]
  },
  {
   "cell_type": "markdown",
   "metadata": {
    "colab_type": "text",
    "id": "tk3gXSXA04n4"
   },
   "source": [
    "In each case, the index can be explicitly set if a different result is preferred:"
   ]
  },
  {
   "cell_type": "code",
   "execution_count": 16,
   "metadata": {
    "colab": {},
    "colab_type": "code",
    "id": "zVy1BT1W04n5",
    "outputId": "3e8bb444-fd3d-476b-e77a-93c6db13216a"
   },
   "outputs": [
    {
     "data": {
      "text/plain": [
       "3    c\n",
       "2    a\n",
       "dtype: object"
      ]
     },
     "execution_count": 16,
     "metadata": {},
     "output_type": "execute_result"
    }
   ],
   "source": [
    "pd.Series({2:'a', 1:'b', 3:'c'}, index=[3, 2])"
   ]
  },
  {
   "cell_type": "markdown",
   "metadata": {
    "colab_type": "text",
    "id": "eOpRDtUM04n9"
   },
   "source": [
    "Notice that in this case, the ``Series`` is populated only with the explicitly identified keys."
   ]
  },
  {
   "cell_type": "markdown",
   "metadata": {
    "colab_type": "text",
    "id": "HWT-scfC04oB"
   },
   "source": [
    "## The Pandas DataFrame Object\n",
    "\n",
    "There is another fundamental structure in Pandas is the `DataFrame`.\n",
    "\n",
    "Like the `Series` object discussed in the previous section, the `DataFrame` can be thought of either as a generalization of a NumPy array, or as a specialization of a Python dictionary.\n",
    "\n",
    "Let's now take a look at each of these perspectives."
   ]
  },
  {
   "cell_type": "markdown",
   "metadata": {
    "colab_type": "text",
    "id": "PrEbhOje04oC"
   },
   "source": [
    "### DataFrame as a generalized NumPy array\n",
    "If a ``Series`` is an analog of a one-dimensional array with flexible indices, a ``DataFrame`` is an analog of a two-dimensional array with both flexible row indices and flexible column names.\n",
    "Just as you might think of a two-dimensional array as an ordered sequence of aligned one-dimensional columns, you can think of a ``DataFrame`` as a sequence of aligned ``Series`` objects.\n",
    "Here, by \"aligned\" we mean that they share the same index.\n",
    "\n",
    "To demonstrate this, let's first construct a new ``Series`` listing the area of each of the five states discussed in the previous section:"
   ]
  },
  {
   "cell_type": "code",
   "execution_count": 17,
   "metadata": {
    "colab": {},
    "colab_type": "code",
    "id": "uDLcW3cJ04oE",
    "outputId": "4ef7a67b-e744-41f0-ed14-8a68f0cbdc15"
   },
   "outputs": [
    {
     "data": {
      "text/plain": [
       "California    423967\n",
       "Texas         695662\n",
       "New York      141297\n",
       "Florida       170312\n",
       "Illinois      149995\n",
       "dtype: int64"
      ]
     },
     "execution_count": 17,
     "metadata": {},
     "output_type": "execute_result"
    }
   ],
   "source": [
    "area_dict = {'California': 423967, 'Texas': 695662, 'New York': 141297,\n",
    "             'Florida': 170312, 'Illinois': 149995}\n",
    "area = pd.Series(area_dict)\n",
    "area"
   ]
  },
  {
   "cell_type": "markdown",
   "metadata": {
    "colab_type": "text",
    "id": "zezh7cH404oK"
   },
   "source": [
    "Now that let's have this along with the ``population`` Series from before, we can use a dictionary to construct a single two-dimensional object containing this information:"
   ]
  },
  {
   "cell_type": "code",
   "execution_count": 18,
   "metadata": {
    "colab": {},
    "colab_type": "code",
    "id": "8ADUdAn804oL",
    "outputId": "41850b49-8713-4a65-aeb0-ed06b8c9101f"
   },
   "outputs": [
    {
     "data": {
      "text/html": [
       "<div>\n",
       "<style scoped>\n",
       "    .dataframe tbody tr th:only-of-type {\n",
       "        vertical-align: middle;\n",
       "    }\n",
       "\n",
       "    .dataframe tbody tr th {\n",
       "        vertical-align: top;\n",
       "    }\n",
       "\n",
       "    .dataframe thead th {\n",
       "        text-align: right;\n",
       "    }\n",
       "</style>\n",
       "<table border=\"1\" class=\"dataframe\">\n",
       "  <thead>\n",
       "    <tr style=\"text-align: right;\">\n",
       "      <th></th>\n",
       "      <th>population</th>\n",
       "      <th>area</th>\n",
       "    </tr>\n",
       "  </thead>\n",
       "  <tbody>\n",
       "    <tr>\n",
       "      <th>California</th>\n",
       "      <td>38332521</td>\n",
       "      <td>423967</td>\n",
       "    </tr>\n",
       "    <tr>\n",
       "      <th>Texas</th>\n",
       "      <td>26448193</td>\n",
       "      <td>695662</td>\n",
       "    </tr>\n",
       "    <tr>\n",
       "      <th>New York</th>\n",
       "      <td>19651127</td>\n",
       "      <td>141297</td>\n",
       "    </tr>\n",
       "    <tr>\n",
       "      <th>Florida</th>\n",
       "      <td>19552860</td>\n",
       "      <td>170312</td>\n",
       "    </tr>\n",
       "    <tr>\n",
       "      <th>Illinois</th>\n",
       "      <td>12882135</td>\n",
       "      <td>149995</td>\n",
       "    </tr>\n",
       "  </tbody>\n",
       "</table>\n",
       "</div>"
      ],
      "text/plain": [
       "            population    area\n",
       "California    38332521  423967\n",
       "Texas         26448193  695662\n",
       "New York      19651127  141297\n",
       "Florida       19552860  170312\n",
       "Illinois      12882135  149995"
      ]
     },
     "execution_count": 18,
     "metadata": {},
     "output_type": "execute_result"
    }
   ],
   "source": [
    "states = pd.DataFrame({'population': population,\n",
    "                       'area': area})\n",
    "states"
   ]
  },
  {
   "cell_type": "markdown",
   "metadata": {
    "colab_type": "text",
    "id": "sc2hCJO-04oO"
   },
   "source": [
    "Like the ``Series`` object, the ``DataFrame`` has an ``index`` attribute that gives access to the index labels:"
   ]
  },
  {
   "cell_type": "code",
   "execution_count": 19,
   "metadata": {
    "colab": {},
    "colab_type": "code",
    "id": "wAD3o_iu04oP",
    "outputId": "d2310811-2f3b-412b-e9f1-09e1f1b15f79"
   },
   "outputs": [
    {
     "data": {
      "text/plain": [
       "Index(['California', 'Texas', 'New York', 'Florida', 'Illinois'], dtype='object')"
      ]
     },
     "execution_count": 19,
     "metadata": {},
     "output_type": "execute_result"
    }
   ],
   "source": [
    "states.index"
   ]
  },
  {
   "cell_type": "markdown",
   "metadata": {
    "colab_type": "text",
    "id": "BYey7pPg04oS"
   },
   "source": [
    "Additionally, the ``DataFrame`` has a ``columns`` attribute, which is an ``Index`` object holding the column labels:"
   ]
  },
  {
   "cell_type": "code",
   "execution_count": 20,
   "metadata": {
    "colab": {},
    "colab_type": "code",
    "id": "cWeYJC_y04oT",
    "outputId": "d1a10802-44b2-47a8-97d3-feef6638a4d6"
   },
   "outputs": [
    {
     "data": {
      "text/plain": [
       "Index(['population', 'area'], dtype='object')"
      ]
     },
     "execution_count": 20,
     "metadata": {},
     "output_type": "execute_result"
    }
   ],
   "source": [
    "states.columns"
   ]
  },
  {
   "cell_type": "markdown",
   "metadata": {
    "colab_type": "text",
    "id": "hL8ShfqS04oV"
   },
   "source": [
    "Thus the ``DataFrame`` can be thought of as a generalization of a two-dimensional NumPy array, where both the rows and columns have a generalized index for accessing the data."
   ]
  },
  {
   "cell_type": "markdown",
   "metadata": {
    "colab_type": "text",
    "id": "ImGtTDkl04oW"
   },
   "source": [
    "### DataFrame as specialized dictionary\n",
    "\n",
    "Similarly, we can also think of a ``DataFrame`` as a specialization of a dictionary.\n",
    "Where a dictionary maps a key to a value, a ``DataFrame`` maps a column name to a ``Series`` of column data.\n",
    "For example, asking for the ``'area'`` attribute returns the ``Series`` object containing the areas we saw earlier:"
   ]
  },
  {
   "cell_type": "code",
   "execution_count": 21,
   "metadata": {
    "colab": {},
    "colab_type": "code",
    "id": "J2mMAJwn04oX",
    "outputId": "3ba7f2a4-60cd-44ec-c94f-d1828f73e115"
   },
   "outputs": [
    {
     "data": {
      "text/plain": [
       "California    423967\n",
       "Texas         695662\n",
       "New York      141297\n",
       "Florida       170312\n",
       "Illinois      149995\n",
       "Name: area, dtype: int64"
      ]
     },
     "execution_count": 21,
     "metadata": {},
     "output_type": "execute_result"
    }
   ],
   "source": [
    "states['area']"
   ]
  },
  {
   "cell_type": "markdown",
   "metadata": {
    "colab_type": "text",
    "id": "yuqRqSQY04od"
   },
   "source": [
    "Notice the potential point of confusion here: in a two-dimesnional NumPy array, `data[0]` will return the first *row*. For a `DataFrame`, `data['col0']` will return the first *column*.\n",
    "Because of this, it is probably better to think about `DataFrame`s as generalized dictionaries rather than generalized arrays, though both ways of looking at the situation can be useful.\n",
    "\n",
    "### Constructing DataFrame objects\n",
    "\n",
    "A Pandas `DataFrame` can be constructed in a variety of ways.\n",
    "Here we'll give several examples.\n",
    "\n",
    "#### From a single Series object\n",
    "\n",
    "A `DataFrame` is a collection of `Series` objects, and a single-column `DataFrame` can be constructed from a single `Series`:"
   ]
  },
  {
   "cell_type": "code",
   "execution_count": 23,
   "metadata": {
    "colab": {},
    "colab_type": "code",
    "id": "h591m8SS04of",
    "outputId": "178db629-6048-4ee5-fe6b-c857ef739cc0"
   },
   "outputs": [
    {
     "data": {
      "text/html": [
       "<div>\n",
       "<style scoped>\n",
       "    .dataframe tbody tr th:only-of-type {\n",
       "        vertical-align: middle;\n",
       "    }\n",
       "\n",
       "    .dataframe tbody tr th {\n",
       "        vertical-align: top;\n",
       "    }\n",
       "\n",
       "    .dataframe thead th {\n",
       "        text-align: right;\n",
       "    }\n",
       "</style>\n",
       "<table border=\"1\" class=\"dataframe\">\n",
       "  <thead>\n",
       "    <tr style=\"text-align: right;\">\n",
       "      <th></th>\n",
       "      <th>population</th>\n",
       "    </tr>\n",
       "  </thead>\n",
       "  <tbody>\n",
       "    <tr>\n",
       "      <th>California</th>\n",
       "      <td>38332521</td>\n",
       "    </tr>\n",
       "    <tr>\n",
       "      <th>Texas</th>\n",
       "      <td>26448193</td>\n",
       "    </tr>\n",
       "    <tr>\n",
       "      <th>New York</th>\n",
       "      <td>19651127</td>\n",
       "    </tr>\n",
       "    <tr>\n",
       "      <th>Florida</th>\n",
       "      <td>19552860</td>\n",
       "    </tr>\n",
       "    <tr>\n",
       "      <th>Illinois</th>\n",
       "      <td>12882135</td>\n",
       "    </tr>\n",
       "  </tbody>\n",
       "</table>\n",
       "</div>"
      ],
      "text/plain": [
       "            population\n",
       "California    38332521\n",
       "Texas         26448193\n",
       "New York      19651127\n",
       "Florida       19552860\n",
       "Illinois      12882135"
      ]
     },
     "execution_count": 23,
     "metadata": {},
     "output_type": "execute_result"
    }
   ],
   "source": [
    "pd.DataFrame(population, columns=['population'])"
   ]
  },
  {
   "cell_type": "markdown",
   "metadata": {
    "colab_type": "text",
    "id": "sgX_p_lk04ok"
   },
   "source": [
    "#### From a list of dicts\n",
    "\n",
    "Any list of dictionaries can be made into a ``DataFrame``.\n",
    "We'll use a simple list comprehension to create some data:"
   ]
  },
  {
   "cell_type": "code",
   "execution_count": 24,
   "metadata": {
    "colab": {},
    "colab_type": "code",
    "id": "p_xsW7em04om",
    "outputId": "4f63dcf4-c1c6-43d5-b67d-402ad534db95"
   },
   "outputs": [
    {
     "data": {
      "text/html": [
       "<div>\n",
       "<style scoped>\n",
       "    .dataframe tbody tr th:only-of-type {\n",
       "        vertical-align: middle;\n",
       "    }\n",
       "\n",
       "    .dataframe tbody tr th {\n",
       "        vertical-align: top;\n",
       "    }\n",
       "\n",
       "    .dataframe thead th {\n",
       "        text-align: right;\n",
       "    }\n",
       "</style>\n",
       "<table border=\"1\" class=\"dataframe\">\n",
       "  <thead>\n",
       "    <tr style=\"text-align: right;\">\n",
       "      <th></th>\n",
       "      <th>a</th>\n",
       "      <th>b</th>\n",
       "    </tr>\n",
       "  </thead>\n",
       "  <tbody>\n",
       "    <tr>\n",
       "      <th>0</th>\n",
       "      <td>0</td>\n",
       "      <td>0</td>\n",
       "    </tr>\n",
       "    <tr>\n",
       "      <th>1</th>\n",
       "      <td>1</td>\n",
       "      <td>2</td>\n",
       "    </tr>\n",
       "    <tr>\n",
       "      <th>2</th>\n",
       "      <td>2</td>\n",
       "      <td>4</td>\n",
       "    </tr>\n",
       "  </tbody>\n",
       "</table>\n",
       "</div>"
      ],
      "text/plain": [
       "   a  b\n",
       "0  0  0\n",
       "1  1  2\n",
       "2  2  4"
      ]
     },
     "execution_count": 24,
     "metadata": {},
     "output_type": "execute_result"
    }
   ],
   "source": [
    "data = [{'a': i, 'b': 2 * i}\n",
    "        for i in range(3)]\n",
    "pd.DataFrame(data)"
   ]
  },
  {
   "cell_type": "markdown",
   "metadata": {
    "colab_type": "text",
    "id": "iqcwwDCn04op"
   },
   "source": [
    "Even if some keys in the dictionary are missing, Pandas will fill them in with `NaN` (i.e., \"not a number\") values:"
   ]
  },
  {
   "cell_type": "code",
   "execution_count": 0,
   "metadata": {
    "colab": {},
    "colab_type": "code",
    "id": "956Tt5Nv04op",
    "outputId": "6bd274e0-6428-4fba-a37c-3ec87e466f6d"
   },
   "outputs": [
    {
     "data": {
      "text/html": [
       "<div>\n",
       "<table border=\"1\" class=\"dataframe\">\n",
       "  <thead>\n",
       "    <tr style=\"text-align: right;\">\n",
       "      <th></th>\n",
       "      <th>a</th>\n",
       "      <th>b</th>\n",
       "      <th>c</th>\n",
       "    </tr>\n",
       "  </thead>\n",
       "  <tbody>\n",
       "    <tr>\n",
       "      <th>0</th>\n",
       "      <td>1.0</td>\n",
       "      <td>2</td>\n",
       "      <td>NaN</td>\n",
       "    </tr>\n",
       "    <tr>\n",
       "      <th>1</th>\n",
       "      <td>NaN</td>\n",
       "      <td>3</td>\n",
       "      <td>4.0</td>\n",
       "    </tr>\n",
       "  </tbody>\n",
       "</table>\n",
       "</div>"
      ],
      "text/plain": [
       "     a  b    c\n",
       "0  1.0  2  NaN\n",
       "1  NaN  3  4.0"
      ]
     },
     "execution_count": 25,
     "metadata": {
      "tags": []
     },
     "output_type": "execute_result"
    }
   ],
   "source": [
    "pd.DataFrame([{'a': 1, 'b': 2}, {'b': 3, 'c': 4}])"
   ]
  },
  {
   "cell_type": "markdown",
   "metadata": {
    "colab_type": "text",
    "id": "PbqHt0a004ot"
   },
   "source": [
    "#### From a dictionary of Series objects\n",
    "\n",
    "As we saw before, a ``DataFrame`` can be constructed from a dictionary of ``Series`` objects as well:"
   ]
  },
  {
   "cell_type": "code",
   "execution_count": 0,
   "metadata": {
    "colab": {},
    "colab_type": "code",
    "id": "52dxESWU04ov",
    "outputId": "86452eaf-0068-4f87-e21f-95a13c0ec926"
   },
   "outputs": [
    {
     "data": {
      "text/html": [
       "<div>\n",
       "<table border=\"1\" class=\"dataframe\">\n",
       "  <thead>\n",
       "    <tr style=\"text-align: right;\">\n",
       "      <th></th>\n",
       "      <th>area</th>\n",
       "      <th>population</th>\n",
       "    </tr>\n",
       "  </thead>\n",
       "  <tbody>\n",
       "    <tr>\n",
       "      <th>California</th>\n",
       "      <td>423967</td>\n",
       "      <td>38332521</td>\n",
       "    </tr>\n",
       "    <tr>\n",
       "      <th>Florida</th>\n",
       "      <td>170312</td>\n",
       "      <td>19552860</td>\n",
       "    </tr>\n",
       "    <tr>\n",
       "      <th>Illinois</th>\n",
       "      <td>149995</td>\n",
       "      <td>12882135</td>\n",
       "    </tr>\n",
       "    <tr>\n",
       "      <th>New York</th>\n",
       "      <td>141297</td>\n",
       "      <td>19651127</td>\n",
       "    </tr>\n",
       "    <tr>\n",
       "      <th>Texas</th>\n",
       "      <td>695662</td>\n",
       "      <td>26448193</td>\n",
       "    </tr>\n",
       "  </tbody>\n",
       "</table>\n",
       "</div>"
      ],
      "text/plain": [
       "              area  population\n",
       "California  423967    38332521\n",
       "Florida     170312    19552860\n",
       "Illinois    149995    12882135\n",
       "New York    141297    19651127\n",
       "Texas       695662    26448193"
      ]
     },
     "execution_count": 26,
     "metadata": {
      "tags": []
     },
     "output_type": "execute_result"
    }
   ],
   "source": [
    "pd.DataFrame({'population': population,\n",
    "              'area': area})"
   ]
  },
  {
   "cell_type": "markdown",
   "metadata": {
    "colab_type": "text",
    "id": "-XxGVsMv04oy"
   },
   "source": [
    "#### From a two-dimensional NumPy array\n",
    "\n",
    "Given a two-dimensional array of data, we can create a ``DataFrame`` with any specified column and index names.\n",
    "If omitted, an integer index will be used for each:"
   ]
  },
  {
   "cell_type": "code",
   "execution_count": 0,
   "metadata": {
    "colab": {},
    "colab_type": "code",
    "id": "yVmzn2j804o0",
    "outputId": "daf5e6bd-2f3a-443d-de6c-accd09b75f5b"
   },
   "outputs": [
    {
     "data": {
      "text/html": [
       "<div>\n",
       "<table border=\"1\" class=\"dataframe\">\n",
       "  <thead>\n",
       "    <tr style=\"text-align: right;\">\n",
       "      <th></th>\n",
       "      <th>foo</th>\n",
       "      <th>bar</th>\n",
       "    </tr>\n",
       "  </thead>\n",
       "  <tbody>\n",
       "    <tr>\n",
       "      <th>a</th>\n",
       "      <td>0.865257</td>\n",
       "      <td>0.213169</td>\n",
       "    </tr>\n",
       "    <tr>\n",
       "      <th>b</th>\n",
       "      <td>0.442759</td>\n",
       "      <td>0.108267</td>\n",
       "    </tr>\n",
       "    <tr>\n",
       "      <th>c</th>\n",
       "      <td>0.047110</td>\n",
       "      <td>0.905718</td>\n",
       "    </tr>\n",
       "  </tbody>\n",
       "</table>\n",
       "</div>"
      ],
      "text/plain": [
       "        foo       bar\n",
       "a  0.865257  0.213169\n",
       "b  0.442759  0.108267\n",
       "c  0.047110  0.905718"
      ]
     },
     "execution_count": 27,
     "metadata": {
      "tags": []
     },
     "output_type": "execute_result"
    }
   ],
   "source": [
    "pd.DataFrame(np.random.rand(3, 2),\n",
    "             columns=['foo', 'bar'],\n",
    "             index=['a', 'b', 'c'])"
   ]
  },
  {
   "cell_type": "markdown",
   "metadata": {
    "colab_type": "text",
    "id": "ho_Rtefi04o8"
   },
   "source": [
    "## The Pandas Index Object\n",
    "\n",
    "Si far has been covered here that both the `Series` and `DataFrame` objects contain an explicit **index** that lets you reference and modify data.\n",
    "\n",
    "This `Index` object is an interesting structure in itself, and it can be thought of either as an **immutable array** or as an **ordered set** (technically a multi-set, as `Index` objects may contain repeated values).\n",
    "Those views have some interesting consequences in the operations available on `Index` objects.\n",
    "As a simple example, let's construct an ``Index`` from a list of integers:"
   ]
  },
  {
   "cell_type": "code",
   "execution_count": 25,
   "metadata": {
    "colab": {},
    "colab_type": "code",
    "id": "zssM6C4d04o8",
    "outputId": "8b842dce-e14e-4a5c-dbc6-0fe0733208e5"
   },
   "outputs": [
    {
     "data": {
      "text/plain": [
       "Int64Index([2, 3, 5, 7, 11], dtype='int64')"
      ]
     },
     "execution_count": 25,
     "metadata": {},
     "output_type": "execute_result"
    }
   ],
   "source": [
    "ind = pd.Index([2, 3, 5, 7, 11])\n",
    "ind"
   ]
  },
  {
   "cell_type": "markdown",
   "metadata": {
    "colab_type": "text",
    "id": "QXAasgmI04pD"
   },
   "source": [
    "### Index as immutable array\n",
    "\n",
    "The `Index` in many ways operates like an array.\n",
    "For example, we can use standard Python subscripting notation to retrieve values or slices:"
   ]
  },
  {
   "cell_type": "code",
   "execution_count": 26,
   "metadata": {
    "colab": {},
    "colab_type": "code",
    "id": "tbIIOs9C04pE",
    "outputId": "1c5b73bc-5bbf-47e8-caaa-b3b4fef82d9c"
   },
   "outputs": [
    {
     "data": {
      "text/plain": [
       "3"
      ]
     },
     "execution_count": 26,
     "metadata": {},
     "output_type": "execute_result"
    }
   ],
   "source": [
    "ind[1]"
   ]
  },
  {
   "cell_type": "code",
   "execution_count": 27,
   "metadata": {
    "colab": {},
    "colab_type": "code",
    "id": "Cxjatfp204pL",
    "outputId": "318e61e6-9e9c-406c-c39c-3fbb7569308a"
   },
   "outputs": [
    {
     "data": {
      "text/plain": [
       "Int64Index([2, 5, 11], dtype='int64')"
      ]
     },
     "execution_count": 27,
     "metadata": {},
     "output_type": "execute_result"
    }
   ],
   "source": [
    "ind[::2]"
   ]
  },
  {
   "cell_type": "markdown",
   "metadata": {
    "colab_type": "text",
    "id": "H_RKhFa-04pT"
   },
   "source": [
    "`Index` objects also have many of the attributes familiar from NumPy arrays:"
   ]
  },
  {
   "cell_type": "code",
   "execution_count": 28,
   "metadata": {
    "colab": {},
    "colab_type": "code",
    "id": "EdhSfd_G04pT",
    "outputId": "ec1b1afb-73cc-4e00-d8d1-f2ed6a21f382"
   },
   "outputs": [
    {
     "data": {
      "text/plain": [
       "(5, (5,), 1, dtype('int64'))"
      ]
     },
     "execution_count": 28,
     "metadata": {},
     "output_type": "execute_result"
    }
   ],
   "source": [
    "(ind.size, ind.shape, ind.ndim, ind.dtype)"
   ]
  },
  {
   "cell_type": "markdown",
   "metadata": {
    "colab_type": "text",
    "id": "NKOTJR8-04pV"
   },
   "source": [
    "One difference between `Index` objects and NumPy arrays is that indices are immutable"
   ]
  },
  {
   "cell_type": "code",
   "execution_count": 0,
   "metadata": {
    "colab": {},
    "colab_type": "code",
    "id": "6hRLbCQL04pW",
    "outputId": "1da9af38-425b-4a9b-af82-4479ccc28776"
   },
   "outputs": [
    {
     "ename": "TypeError",
     "evalue": "Index does not support mutable operations",
     "output_type": "error",
     "traceback": [
      "\u001b[0;31m---------------------------------------------------------------------------\u001b[0m",
      "\u001b[0;31mTypeError\u001b[0m                                 Traceback (most recent call last)",
      "\u001b[0;32m<ipython-input-34-40e631c82e8a>\u001b[0m in \u001b[0;36m<module>\u001b[0;34m()\u001b[0m\n\u001b[0;32m----> 1\u001b[0;31m \u001b[0mind\u001b[0m\u001b[0;34m[\u001b[0m\u001b[0;36m1\u001b[0m\u001b[0;34m]\u001b[0m \u001b[0;34m=\u001b[0m \u001b[0;36m0\u001b[0m\u001b[0;34m\u001b[0m\u001b[0m\n\u001b[0m",
      "\u001b[0;32m/Users/jakevdp/anaconda/lib/python3.5/site-packages/pandas/indexes/base.py\u001b[0m in \u001b[0;36m__setitem__\u001b[0;34m(self, key, value)\u001b[0m\n\u001b[1;32m   1243\u001b[0m \u001b[0;34m\u001b[0m\u001b[0m\n\u001b[1;32m   1244\u001b[0m     \u001b[0;32mdef\u001b[0m \u001b[0m__setitem__\u001b[0m\u001b[0;34m(\u001b[0m\u001b[0mself\u001b[0m\u001b[0;34m,\u001b[0m \u001b[0mkey\u001b[0m\u001b[0;34m,\u001b[0m \u001b[0mvalue\u001b[0m\u001b[0;34m)\u001b[0m\u001b[0;34m:\u001b[0m\u001b[0;34m\u001b[0m\u001b[0m\n\u001b[0;32m-> 1245\u001b[0;31m         \u001b[0;32mraise\u001b[0m \u001b[0mTypeError\u001b[0m\u001b[0;34m(\u001b[0m\u001b[0;34m\"Index does not support mutable operations\"\u001b[0m\u001b[0;34m)\u001b[0m\u001b[0;34m\u001b[0m\u001b[0m\n\u001b[0m\u001b[1;32m   1246\u001b[0m \u001b[0;34m\u001b[0m\u001b[0m\n\u001b[1;32m   1247\u001b[0m     \u001b[0;32mdef\u001b[0m \u001b[0m__getitem__\u001b[0m\u001b[0;34m(\u001b[0m\u001b[0mself\u001b[0m\u001b[0;34m,\u001b[0m \u001b[0mkey\u001b[0m\u001b[0;34m)\u001b[0m\u001b[0;34m:\u001b[0m\u001b[0;34m\u001b[0m\u001b[0m\n",
      "\u001b[0;31mTypeError\u001b[0m: Index does not support mutable operations"
     ]
    }
   ],
   "source": [
    "ind[1] = 0"
   ]
  },
  {
   "cell_type": "markdown",
   "metadata": {
    "colab_type": "text",
    "id": "fs-Ppj1604pY"
   },
   "source": [
    "This immutability makes it safer to share indices between multiple ``DataFrame``s and arrays, without the potential for side effects from inadvertent index modification."
   ]
  },
  {
   "cell_type": "markdown",
   "metadata": {
    "colab_type": "text",
    "id": "HNBHGzzQ04pZ"
   },
   "source": [
    "### Index as ordered set\n",
    "\n",
    "Pandas objects are designed to facilitate operations such as joins across datasets, which depend on many aspects of set arithmetic.\n",
    "The `Index` object follows many of the conventions used by Python's built-in `set` data structure, so that unions, intersections, differences, and other combinations can be computed in a familiar way:"
   ]
  },
  {
   "cell_type": "code",
   "execution_count": 31,
   "metadata": {
    "colab": {},
    "colab_type": "code",
    "id": "4Z5Gr5fm04pa"
   },
   "outputs": [],
   "source": [
    "indA = pd.Index([1, 3, 5, 7, 9])\n",
    "indB = pd.Index([2, 3, 5, 7, 11])"
   ]
  },
  {
   "cell_type": "code",
   "execution_count": 33,
   "metadata": {
    "colab": {},
    "colab_type": "code",
    "id": "VNRA0Og-04pe",
    "outputId": "08d43d1e-986c-4979-fb94-5e0ca13cdde7"
   },
   "outputs": [
    {
     "data": {
      "text/plain": [
       "Int64Index([3, 5, 7], dtype='int64')"
      ]
     },
     "execution_count": 33,
     "metadata": {},
     "output_type": "execute_result"
    }
   ],
   "source": [
    "indA.intersection(indB)"
   ]
  },
  {
   "cell_type": "code",
   "execution_count": 35,
   "metadata": {
    "colab": {},
    "colab_type": "code",
    "id": "hJo7WMCB04pj",
    "outputId": "dddd118a-72cc-4862-8955-c9d0264463e2"
   },
   "outputs": [
    {
     "data": {
      "text/plain": [
       "Int64Index([1, 2, 3, 5, 7, 9, 11], dtype='int64')"
      ]
     },
     "execution_count": 35,
     "metadata": {},
     "output_type": "execute_result"
    }
   ],
   "source": [
    "indA.union(indB)"
   ]
  },
  {
   "cell_type": "code",
   "execution_count": 37,
   "metadata": {
    "colab": {},
    "colab_type": "code",
    "id": "jDGi5pA104pl",
    "outputId": "6290d451-ac7b-41e8-a62e-4161d076fd86"
   },
   "outputs": [
    {
     "data": {
      "text/plain": [
       "Int64Index([1, 2, 9, 11], dtype='int64')"
      ]
     },
     "execution_count": 37,
     "metadata": {},
     "output_type": "execute_result"
    }
   ],
   "source": [
    "indA.symmetric_difference(indB)"
   ]
  },
  {
   "cell_type": "markdown",
   "metadata": {},
   "source": [
    "## More on DataFrames\n",
    "\n",
    "DataFrames, and actually pandas as a whole, is the pythonic reaction to the R language. `DataFrames` replicates the functionalities of R data.frames tables.\n",
    "\n",
    "Here we will use Pandas `date_range()` method to create a DataFrame. The `date_range()` method will provide some timestamps that will be our indexes or rows. Let's will create 6 of them."
   ]
  },
  {
   "cell_type": "code",
   "execution_count": 54,
   "metadata": {},
   "outputs": [
    {
     "data": {
      "text/plain": [
       "DatetimeIndex(['2021-03-12', '2021-03-13', '2021-03-14', '2021-03-15',\n",
       "               '2021-03-16', '2021-03-17'],\n",
       "              dtype='datetime64[ns]', freq='D')"
      ]
     },
     "execution_count": 54,
     "metadata": {},
     "output_type": "execute_result"
    }
   ],
   "source": [
    "dates = pd.date_range('3/12/2021', periods=6)\n",
    "dates"
   ]
  },
  {
   "cell_type": "markdown",
   "metadata": {},
   "source": [
    "Then let's create some fake data using numpy `random.randn` method, providing an array equal to the number of indexes/rows (in this case 6) and the number of columns, which we will keep at 5 characters from A to E.\n",
    "\n",
    "Then we pass the fake data to the pandas `DataFrame`, together with the indexes and columns."
   ]
  },
  {
   "cell_type": "code",
   "execution_count": 40,
   "metadata": {},
   "outputs": [
    {
     "data": {
      "text/html": [
       "<div>\n",
       "<style scoped>\n",
       "    .dataframe tbody tr th:only-of-type {\n",
       "        vertical-align: middle;\n",
       "    }\n",
       "\n",
       "    .dataframe tbody tr th {\n",
       "        vertical-align: top;\n",
       "    }\n",
       "\n",
       "    .dataframe thead th {\n",
       "        text-align: right;\n",
       "    }\n",
       "</style>\n",
       "<table border=\"1\" class=\"dataframe\">\n",
       "  <thead>\n",
       "    <tr style=\"text-align: right;\">\n",
       "      <th></th>\n",
       "      <th>A</th>\n",
       "      <th>B</th>\n",
       "      <th>C</th>\n",
       "      <th>D</th>\n",
       "      <th>E</th>\n",
       "    </tr>\n",
       "  </thead>\n",
       "  <tbody>\n",
       "    <tr>\n",
       "      <th>2021-03-12</th>\n",
       "      <td>0.256034</td>\n",
       "      <td>0.375673</td>\n",
       "      <td>-0.841963</td>\n",
       "      <td>-1.762025</td>\n",
       "      <td>-0.348420</td>\n",
       "    </tr>\n",
       "    <tr>\n",
       "      <th>2021-03-13</th>\n",
       "      <td>-0.415703</td>\n",
       "      <td>1.570640</td>\n",
       "      <td>1.686905</td>\n",
       "      <td>0.510009</td>\n",
       "      <td>-0.293372</td>\n",
       "    </tr>\n",
       "    <tr>\n",
       "      <th>2021-03-14</th>\n",
       "      <td>0.667339</td>\n",
       "      <td>-1.022721</td>\n",
       "      <td>-1.503480</td>\n",
       "      <td>0.298739</td>\n",
       "      <td>0.772658</td>\n",
       "    </tr>\n",
       "    <tr>\n",
       "      <th>2021-03-15</th>\n",
       "      <td>-0.480690</td>\n",
       "      <td>0.906160</td>\n",
       "      <td>-1.915272</td>\n",
       "      <td>-0.537900</td>\n",
       "      <td>-0.289124</td>\n",
       "    </tr>\n",
       "    <tr>\n",
       "      <th>2021-03-16</th>\n",
       "      <td>-0.708849</td>\n",
       "      <td>-1.319875</td>\n",
       "      <td>0.323782</td>\n",
       "      <td>-0.115836</td>\n",
       "      <td>0.388987</td>\n",
       "    </tr>\n",
       "    <tr>\n",
       "      <th>2021-03-17</th>\n",
       "      <td>1.244093</td>\n",
       "      <td>1.048995</td>\n",
       "      <td>0.086392</td>\n",
       "      <td>1.494519</td>\n",
       "      <td>-0.311253</td>\n",
       "    </tr>\n",
       "  </tbody>\n",
       "</table>\n",
       "</div>"
      ],
      "text/plain": [
       "                   A         B         C         D         E\n",
       "2021-03-12  0.256034  0.375673 -0.841963 -1.762025 -0.348420\n",
       "2021-03-13 -0.415703  1.570640  1.686905  0.510009 -0.293372\n",
       "2021-03-14  0.667339 -1.022721 -1.503480  0.298739  0.772658\n",
       "2021-03-15 -0.480690  0.906160 -1.915272 -0.537900 -0.289124\n",
       "2021-03-16 -0.708849 -1.319875  0.323782 -0.115836  0.388987\n",
       "2021-03-17  1.244093  1.048995  0.086392  1.494519 -0.311253"
      ]
     },
     "execution_count": 40,
     "metadata": {},
     "output_type": "execute_result"
    }
   ],
   "source": [
    "df = pd.DataFrame(np.random.randn(6, 5), index=dates, columns=list('ABCDE'))\n",
    "df"
   ]
  },
  {
   "cell_type": "markdown",
   "metadata": {},
   "source": [
    "### Viewing the components of a DataFrame \n",
    "\n",
    "To quickly view the top rows of our dataset, we can use the `head()` method, which will display few lines at the top of our DataFrame. We can select the number of rows to be printed, within the method `head(n)`"
   ]
  },
  {
   "cell_type": "code",
   "execution_count": 42,
   "metadata": {},
   "outputs": [
    {
     "data": {
      "text/html": [
       "<div>\n",
       "<style scoped>\n",
       "    .dataframe tbody tr th:only-of-type {\n",
       "        vertical-align: middle;\n",
       "    }\n",
       "\n",
       "    .dataframe tbody tr th {\n",
       "        vertical-align: top;\n",
       "    }\n",
       "\n",
       "    .dataframe thead th {\n",
       "        text-align: right;\n",
       "    }\n",
       "</style>\n",
       "<table border=\"1\" class=\"dataframe\">\n",
       "  <thead>\n",
       "    <tr style=\"text-align: right;\">\n",
       "      <th></th>\n",
       "      <th>A</th>\n",
       "      <th>B</th>\n",
       "      <th>C</th>\n",
       "      <th>D</th>\n",
       "      <th>E</th>\n",
       "    </tr>\n",
       "  </thead>\n",
       "  <tbody>\n",
       "    <tr>\n",
       "      <th>2021-03-12</th>\n",
       "      <td>0.256034</td>\n",
       "      <td>0.375673</td>\n",
       "      <td>-0.841963</td>\n",
       "      <td>-1.762025</td>\n",
       "      <td>-0.348420</td>\n",
       "    </tr>\n",
       "    <tr>\n",
       "      <th>2021-03-13</th>\n",
       "      <td>-0.415703</td>\n",
       "      <td>1.570640</td>\n",
       "      <td>1.686905</td>\n",
       "      <td>0.510009</td>\n",
       "      <td>-0.293372</td>\n",
       "    </tr>\n",
       "    <tr>\n",
       "      <th>2021-03-14</th>\n",
       "      <td>0.667339</td>\n",
       "      <td>-1.022721</td>\n",
       "      <td>-1.503480</td>\n",
       "      <td>0.298739</td>\n",
       "      <td>0.772658</td>\n",
       "    </tr>\n",
       "  </tbody>\n",
       "</table>\n",
       "</div>"
      ],
      "text/plain": [
       "                   A         B         C         D         E\n",
       "2021-03-12  0.256034  0.375673 -0.841963 -1.762025 -0.348420\n",
       "2021-03-13 -0.415703  1.570640  1.686905  0.510009 -0.293372\n",
       "2021-03-14  0.667339 -1.022721 -1.503480  0.298739  0.772658"
      ]
     },
     "execution_count": 42,
     "metadata": {},
     "output_type": "execute_result"
    }
   ],
   "source": [
    "df.head(3)"
   ]
  },
  {
   "cell_type": "markdown",
   "metadata": {},
   "source": [
    "To display the last rows of the DataFrame, use the method `tail()`. Like with head, we can specify the number of rows to be printed:"
   ]
  },
  {
   "cell_type": "code",
   "execution_count": 43,
   "metadata": {},
   "outputs": [
    {
     "data": {
      "text/html": [
       "<div>\n",
       "<style scoped>\n",
       "    .dataframe tbody tr th:only-of-type {\n",
       "        vertical-align: middle;\n",
       "    }\n",
       "\n",
       "    .dataframe tbody tr th {\n",
       "        vertical-align: top;\n",
       "    }\n",
       "\n",
       "    .dataframe thead th {\n",
       "        text-align: right;\n",
       "    }\n",
       "</style>\n",
       "<table border=\"1\" class=\"dataframe\">\n",
       "  <thead>\n",
       "    <tr style=\"text-align: right;\">\n",
       "      <th></th>\n",
       "      <th>A</th>\n",
       "      <th>B</th>\n",
       "      <th>C</th>\n",
       "      <th>D</th>\n",
       "      <th>E</th>\n",
       "    </tr>\n",
       "  </thead>\n",
       "  <tbody>\n",
       "    <tr>\n",
       "      <th>2021-03-16</th>\n",
       "      <td>-0.708849</td>\n",
       "      <td>-1.319875</td>\n",
       "      <td>0.323782</td>\n",
       "      <td>-0.115836</td>\n",
       "      <td>0.388987</td>\n",
       "    </tr>\n",
       "    <tr>\n",
       "      <th>2021-03-17</th>\n",
       "      <td>1.244093</td>\n",
       "      <td>1.048995</td>\n",
       "      <td>0.086392</td>\n",
       "      <td>1.494519</td>\n",
       "      <td>-0.311253</td>\n",
       "    </tr>\n",
       "  </tbody>\n",
       "</table>\n",
       "</div>"
      ],
      "text/plain": [
       "                   A         B         C         D         E\n",
       "2021-03-16 -0.708849 -1.319875  0.323782 -0.115836  0.388987\n",
       "2021-03-17  1.244093  1.048995  0.086392  1.494519 -0.311253"
      ]
     },
     "execution_count": 43,
     "metadata": {},
     "output_type": "execute_result"
    }
   ],
   "source": [
    "df.tail(2)"
   ]
  },
  {
   "cell_type": "markdown",
   "metadata": {},
   "source": [
    "### Quick summaries and transformations of the DataFrame\n",
    "\n",
    "Pandas allows for very quick `DataFrame` summaries and transformations to aid in ETL (Extract Transform Load) and exploratory tasks.\n",
    "\n",
    "For instance, if we want to transpose the DataFrame (changing the rows by the columns), we can use the following method, as we would do with a NumPy array:"
   ]
  },
  {
   "cell_type": "code",
   "execution_count": 45,
   "metadata": {},
   "outputs": [
    {
     "data": {
      "text/html": [
       "<div>\n",
       "<style scoped>\n",
       "    .dataframe tbody tr th:only-of-type {\n",
       "        vertical-align: middle;\n",
       "    }\n",
       "\n",
       "    .dataframe tbody tr th {\n",
       "        vertical-align: top;\n",
       "    }\n",
       "\n",
       "    .dataframe thead th {\n",
       "        text-align: right;\n",
       "    }\n",
       "</style>\n",
       "<table border=\"1\" class=\"dataframe\">\n",
       "  <thead>\n",
       "    <tr style=\"text-align: right;\">\n",
       "      <th></th>\n",
       "      <th>2021-03-12</th>\n",
       "      <th>2021-03-13</th>\n",
       "      <th>2021-03-14</th>\n",
       "      <th>2021-03-15</th>\n",
       "      <th>2021-03-16</th>\n",
       "      <th>2021-03-17</th>\n",
       "    </tr>\n",
       "  </thead>\n",
       "  <tbody>\n",
       "    <tr>\n",
       "      <th>A</th>\n",
       "      <td>0.256034</td>\n",
       "      <td>-0.415703</td>\n",
       "      <td>0.667339</td>\n",
       "      <td>-0.480690</td>\n",
       "      <td>-0.708849</td>\n",
       "      <td>1.244093</td>\n",
       "    </tr>\n",
       "    <tr>\n",
       "      <th>B</th>\n",
       "      <td>0.375673</td>\n",
       "      <td>1.570640</td>\n",
       "      <td>-1.022721</td>\n",
       "      <td>0.906160</td>\n",
       "      <td>-1.319875</td>\n",
       "      <td>1.048995</td>\n",
       "    </tr>\n",
       "    <tr>\n",
       "      <th>C</th>\n",
       "      <td>-0.841963</td>\n",
       "      <td>1.686905</td>\n",
       "      <td>-1.503480</td>\n",
       "      <td>-1.915272</td>\n",
       "      <td>0.323782</td>\n",
       "      <td>0.086392</td>\n",
       "    </tr>\n",
       "    <tr>\n",
       "      <th>D</th>\n",
       "      <td>-1.762025</td>\n",
       "      <td>0.510009</td>\n",
       "      <td>0.298739</td>\n",
       "      <td>-0.537900</td>\n",
       "      <td>-0.115836</td>\n",
       "      <td>1.494519</td>\n",
       "    </tr>\n",
       "    <tr>\n",
       "      <th>E</th>\n",
       "      <td>-0.348420</td>\n",
       "      <td>-0.293372</td>\n",
       "      <td>0.772658</td>\n",
       "      <td>-0.289124</td>\n",
       "      <td>0.388987</td>\n",
       "      <td>-0.311253</td>\n",
       "    </tr>\n",
       "  </tbody>\n",
       "</table>\n",
       "</div>"
      ],
      "text/plain": [
       "   2021-03-12  2021-03-13  2021-03-14  2021-03-15  2021-03-16  2021-03-17\n",
       "A    0.256034   -0.415703    0.667339   -0.480690   -0.708849    1.244093\n",
       "B    0.375673    1.570640   -1.022721    0.906160   -1.319875    1.048995\n",
       "C   -0.841963    1.686905   -1.503480   -1.915272    0.323782    0.086392\n",
       "D   -1.762025    0.510009    0.298739   -0.537900   -0.115836    1.494519\n",
       "E   -0.348420   -0.293372    0.772658   -0.289124    0.388987   -0.311253"
      ]
     },
     "execution_count": 45,
     "metadata": {},
     "output_type": "execute_result"
    }
   ],
   "source": [
    "df.T"
   ]
  },
  {
   "cell_type": "markdown",
   "metadata": {},
   "source": [
    "A `DataFrame` can be represented as a NumPy array:"
   ]
  },
  {
   "cell_type": "code",
   "execution_count": 46,
   "metadata": {},
   "outputs": [
    {
     "data": {
      "text/plain": [
       "array([[ 0.25603417,  0.37567341, -0.84196305, -1.7620247 , -0.34841977],\n",
       "       [-0.41570335,  1.57063961,  1.6869046 ,  0.51000892, -0.29337213],\n",
       "       [ 0.6673394 , -1.02272055, -1.50348009,  0.29873919,  0.77265804],\n",
       "       [-0.4806898 ,  0.90616016, -1.91527176, -0.5379003 , -0.28912425],\n",
       "       [-0.7088494 , -1.31987479,  0.32378246, -0.11583571,  0.38898666],\n",
       "       [ 1.24409252,  1.04899465,  0.08639182,  1.49451857, -0.3112527 ]])"
      ]
     },
     "execution_count": 46,
     "metadata": {},
     "output_type": "execute_result"
    }
   ],
   "source": [
    "df.to_numpy()"
   ]
  },
  {
   "cell_type": "markdown",
   "metadata": {},
   "source": [
    "### Quick descriptive statistics\n",
    "\n",
    "One of the most powerful methods for data analytics prototyping is the pandas `describe()` method. This method generates descriptive statistics that summarizes the central tendency, dispersion and shape of a dataset distribution, excluding `NaN` values.\n",
    "\n",
    "The `describe()` method returns various descriptive statistics for the `Series` or `DataFrame`. And the [percentiles](https://en.wikipedia.org/wiki/Percentile) as well; by default, the lower is set to 25%, the upper to 75%, being the 50% percentile the same as the median."
   ]
  },
  {
   "cell_type": "code",
   "execution_count": 47,
   "metadata": {},
   "outputs": [
    {
     "data": {
      "text/html": [
       "<div>\n",
       "<style scoped>\n",
       "    .dataframe tbody tr th:only-of-type {\n",
       "        vertical-align: middle;\n",
       "    }\n",
       "\n",
       "    .dataframe tbody tr th {\n",
       "        vertical-align: top;\n",
       "    }\n",
       "\n",
       "    .dataframe thead th {\n",
       "        text-align: right;\n",
       "    }\n",
       "</style>\n",
       "<table border=\"1\" class=\"dataframe\">\n",
       "  <thead>\n",
       "    <tr style=\"text-align: right;\">\n",
       "      <th></th>\n",
       "      <th>A</th>\n",
       "      <th>B</th>\n",
       "      <th>C</th>\n",
       "      <th>D</th>\n",
       "      <th>E</th>\n",
       "    </tr>\n",
       "  </thead>\n",
       "  <tbody>\n",
       "    <tr>\n",
       "      <th>count</th>\n",
       "      <td>6.000000</td>\n",
       "      <td>6.000000</td>\n",
       "      <td>6.000000</td>\n",
       "      <td>6.000000</td>\n",
       "      <td>6.000000</td>\n",
       "    </tr>\n",
       "    <tr>\n",
       "      <th>mean</th>\n",
       "      <td>0.093704</td>\n",
       "      <td>0.259812</td>\n",
       "      <td>-0.360606</td>\n",
       "      <td>-0.018749</td>\n",
       "      <td>-0.013421</td>\n",
       "    </tr>\n",
       "    <tr>\n",
       "      <th>std</th>\n",
       "      <td>0.763193</td>\n",
       "      <td>1.175803</td>\n",
       "      <td>1.327806</td>\n",
       "      <td>1.094378</td>\n",
       "      <td>0.476480</td>\n",
       "    </tr>\n",
       "    <tr>\n",
       "      <th>min</th>\n",
       "      <td>-0.708849</td>\n",
       "      <td>-1.319875</td>\n",
       "      <td>-1.915272</td>\n",
       "      <td>-1.762025</td>\n",
       "      <td>-0.348420</td>\n",
       "    </tr>\n",
       "    <tr>\n",
       "      <th>25%</th>\n",
       "      <td>-0.464443</td>\n",
       "      <td>-0.673122</td>\n",
       "      <td>-1.338101</td>\n",
       "      <td>-0.432384</td>\n",
       "      <td>-0.306783</td>\n",
       "    </tr>\n",
       "    <tr>\n",
       "      <th>50%</th>\n",
       "      <td>-0.079835</td>\n",
       "      <td>0.640917</td>\n",
       "      <td>-0.377786</td>\n",
       "      <td>0.091452</td>\n",
       "      <td>-0.291248</td>\n",
       "    </tr>\n",
       "    <tr>\n",
       "      <th>75%</th>\n",
       "      <td>0.564513</td>\n",
       "      <td>1.013286</td>\n",
       "      <td>0.264435</td>\n",
       "      <td>0.457191</td>\n",
       "      <td>0.219459</td>\n",
       "    </tr>\n",
       "    <tr>\n",
       "      <th>max</th>\n",
       "      <td>1.244093</td>\n",
       "      <td>1.570640</td>\n",
       "      <td>1.686905</td>\n",
       "      <td>1.494519</td>\n",
       "      <td>0.772658</td>\n",
       "    </tr>\n",
       "  </tbody>\n",
       "</table>\n",
       "</div>"
      ],
      "text/plain": [
       "              A         B         C         D         E\n",
       "count  6.000000  6.000000  6.000000  6.000000  6.000000\n",
       "mean   0.093704  0.259812 -0.360606 -0.018749 -0.013421\n",
       "std    0.763193  1.175803  1.327806  1.094378  0.476480\n",
       "min   -0.708849 -1.319875 -1.915272 -1.762025 -0.348420\n",
       "25%   -0.464443 -0.673122 -1.338101 -0.432384 -0.306783\n",
       "50%   -0.079835  0.640917 -0.377786  0.091452 -0.291248\n",
       "75%    0.564513  1.013286  0.264435  0.457191  0.219459\n",
       "max    1.244093  1.570640  1.686905  1.494519  0.772658"
      ]
     },
     "execution_count": 47,
     "metadata": {},
     "output_type": "execute_result"
    }
   ],
   "source": [
    "df.describe()"
   ]
  },
  {
   "cell_type": "markdown",
   "metadata": {},
   "source": [
    "The default percentiles are the following: `[.25, .5, .75]`. We can modify the percentiles if we see fit by passing a list of the percentiles that we want to have, it always needs to be between 0 and 1:"
   ]
  },
  {
   "cell_type": "code",
   "execution_count": 48,
   "metadata": {},
   "outputs": [
    {
     "data": {
      "text/html": [
       "<div>\n",
       "<style scoped>\n",
       "    .dataframe tbody tr th:only-of-type {\n",
       "        vertical-align: middle;\n",
       "    }\n",
       "\n",
       "    .dataframe tbody tr th {\n",
       "        vertical-align: top;\n",
       "    }\n",
       "\n",
       "    .dataframe thead th {\n",
       "        text-align: right;\n",
       "    }\n",
       "</style>\n",
       "<table border=\"1\" class=\"dataframe\">\n",
       "  <thead>\n",
       "    <tr style=\"text-align: right;\">\n",
       "      <th></th>\n",
       "      <th>A</th>\n",
       "      <th>B</th>\n",
       "      <th>C</th>\n",
       "      <th>D</th>\n",
       "      <th>E</th>\n",
       "    </tr>\n",
       "  </thead>\n",
       "  <tbody>\n",
       "    <tr>\n",
       "      <th>count</th>\n",
       "      <td>6.000000</td>\n",
       "      <td>6.000000</td>\n",
       "      <td>6.000000</td>\n",
       "      <td>6.000000</td>\n",
       "      <td>6.000000</td>\n",
       "    </tr>\n",
       "    <tr>\n",
       "      <th>mean</th>\n",
       "      <td>0.093704</td>\n",
       "      <td>0.259812</td>\n",
       "      <td>-0.360606</td>\n",
       "      <td>-0.018749</td>\n",
       "      <td>-0.013421</td>\n",
       "    </tr>\n",
       "    <tr>\n",
       "      <th>std</th>\n",
       "      <td>0.763193</td>\n",
       "      <td>1.175803</td>\n",
       "      <td>1.327806</td>\n",
       "      <td>1.094378</td>\n",
       "      <td>0.476480</td>\n",
       "    </tr>\n",
       "    <tr>\n",
       "      <th>min</th>\n",
       "      <td>-0.708849</td>\n",
       "      <td>-1.319875</td>\n",
       "      <td>-1.915272</td>\n",
       "      <td>-1.762025</td>\n",
       "      <td>-0.348420</td>\n",
       "    </tr>\n",
       "    <tr>\n",
       "      <th>10%</th>\n",
       "      <td>-0.594770</td>\n",
       "      <td>-1.171298</td>\n",
       "      <td>-1.709376</td>\n",
       "      <td>-1.149963</td>\n",
       "      <td>-0.329836</td>\n",
       "    </tr>\n",
       "    <tr>\n",
       "      <th>50%</th>\n",
       "      <td>-0.079835</td>\n",
       "      <td>0.640917</td>\n",
       "      <td>-0.377786</td>\n",
       "      <td>0.091452</td>\n",
       "      <td>-0.291248</td>\n",
       "    </tr>\n",
       "    <tr>\n",
       "      <th>90%</th>\n",
       "      <td>0.955716</td>\n",
       "      <td>1.309817</td>\n",
       "      <td>1.005344</td>\n",
       "      <td>1.002264</td>\n",
       "      <td>0.580822</td>\n",
       "    </tr>\n",
       "    <tr>\n",
       "      <th>max</th>\n",
       "      <td>1.244093</td>\n",
       "      <td>1.570640</td>\n",
       "      <td>1.686905</td>\n",
       "      <td>1.494519</td>\n",
       "      <td>0.772658</td>\n",
       "    </tr>\n",
       "  </tbody>\n",
       "</table>\n",
       "</div>"
      ],
      "text/plain": [
       "              A         B         C         D         E\n",
       "count  6.000000  6.000000  6.000000  6.000000  6.000000\n",
       "mean   0.093704  0.259812 -0.360606 -0.018749 -0.013421\n",
       "std    0.763193  1.175803  1.327806  1.094378  0.476480\n",
       "min   -0.708849 -1.319875 -1.915272 -1.762025 -0.348420\n",
       "10%   -0.594770 -1.171298 -1.709376 -1.149963 -0.329836\n",
       "50%   -0.079835  0.640917 -0.377786  0.091452 -0.291248\n",
       "90%    0.955716  1.309817  1.005344  1.002264  0.580822\n",
       "max    1.244093  1.570640  1.686905  1.494519  0.772658"
      ]
     },
     "execution_count": 48,
     "metadata": {},
     "output_type": "execute_result"
    }
   ],
   "source": [
    "df.describe(percentiles=[.10, .5, .90])"
   ]
  },
  {
   "cell_type": "markdown",
   "metadata": {},
   "source": [
    "### Sorting techniques\n",
    "\n",
    "DataFrames can be sorted along certain axis using the `sort_index()` method. The `axis=0` corresponds to row sorting, and the `axis=1` corresponds to columns sorting."
   ]
  },
  {
   "cell_type": "code",
   "execution_count": 52,
   "metadata": {},
   "outputs": [
    {
     "data": {
      "text/html": [
       "<div>\n",
       "<style scoped>\n",
       "    .dataframe tbody tr th:only-of-type {\n",
       "        vertical-align: middle;\n",
       "    }\n",
       "\n",
       "    .dataframe tbody tr th {\n",
       "        vertical-align: top;\n",
       "    }\n",
       "\n",
       "    .dataframe thead th {\n",
       "        text-align: right;\n",
       "    }\n",
       "</style>\n",
       "<table border=\"1\" class=\"dataframe\">\n",
       "  <thead>\n",
       "    <tr style=\"text-align: right;\">\n",
       "      <th></th>\n",
       "      <th>A</th>\n",
       "      <th>B</th>\n",
       "      <th>C</th>\n",
       "      <th>D</th>\n",
       "      <th>E</th>\n",
       "    </tr>\n",
       "  </thead>\n",
       "  <tbody>\n",
       "    <tr>\n",
       "      <th>2021-03-12</th>\n",
       "      <td>0.256034</td>\n",
       "      <td>0.375673</td>\n",
       "      <td>-0.841963</td>\n",
       "      <td>-1.762025</td>\n",
       "      <td>-0.348420</td>\n",
       "    </tr>\n",
       "    <tr>\n",
       "      <th>2021-03-13</th>\n",
       "      <td>-0.415703</td>\n",
       "      <td>1.570640</td>\n",
       "      <td>1.686905</td>\n",
       "      <td>0.510009</td>\n",
       "      <td>-0.293372</td>\n",
       "    </tr>\n",
       "    <tr>\n",
       "      <th>2021-03-14</th>\n",
       "      <td>0.667339</td>\n",
       "      <td>-1.022721</td>\n",
       "      <td>-1.503480</td>\n",
       "      <td>0.298739</td>\n",
       "      <td>0.772658</td>\n",
       "    </tr>\n",
       "    <tr>\n",
       "      <th>2021-03-15</th>\n",
       "      <td>-0.480690</td>\n",
       "      <td>0.906160</td>\n",
       "      <td>-1.915272</td>\n",
       "      <td>-0.537900</td>\n",
       "      <td>-0.289124</td>\n",
       "    </tr>\n",
       "    <tr>\n",
       "      <th>2021-03-16</th>\n",
       "      <td>-0.708849</td>\n",
       "      <td>-1.319875</td>\n",
       "      <td>0.323782</td>\n",
       "      <td>-0.115836</td>\n",
       "      <td>0.388987</td>\n",
       "    </tr>\n",
       "    <tr>\n",
       "      <th>2021-03-17</th>\n",
       "      <td>1.244093</td>\n",
       "      <td>1.048995</td>\n",
       "      <td>0.086392</td>\n",
       "      <td>1.494519</td>\n",
       "      <td>-0.311253</td>\n",
       "    </tr>\n",
       "  </tbody>\n",
       "</table>\n",
       "</div>"
      ],
      "text/plain": [
       "                   A         B         C         D         E\n",
       "2021-03-12  0.256034  0.375673 -0.841963 -1.762025 -0.348420\n",
       "2021-03-13 -0.415703  1.570640  1.686905  0.510009 -0.293372\n",
       "2021-03-14  0.667339 -1.022721 -1.503480  0.298739  0.772658\n",
       "2021-03-15 -0.480690  0.906160 -1.915272 -0.537900 -0.289124\n",
       "2021-03-16 -0.708849 -1.319875  0.323782 -0.115836  0.388987\n",
       "2021-03-17  1.244093  1.048995  0.086392  1.494519 -0.311253"
      ]
     },
     "execution_count": 52,
     "metadata": {},
     "output_type": "execute_result"
    }
   ],
   "source": [
    "df"
   ]
  },
  {
   "cell_type": "code",
   "execution_count": 51,
   "metadata": {},
   "outputs": [
    {
     "data": {
      "text/html": [
       "<div>\n",
       "<style scoped>\n",
       "    .dataframe tbody tr th:only-of-type {\n",
       "        vertical-align: middle;\n",
       "    }\n",
       "\n",
       "    .dataframe tbody tr th {\n",
       "        vertical-align: top;\n",
       "    }\n",
       "\n",
       "    .dataframe thead th {\n",
       "        text-align: right;\n",
       "    }\n",
       "</style>\n",
       "<table border=\"1\" class=\"dataframe\">\n",
       "  <thead>\n",
       "    <tr style=\"text-align: right;\">\n",
       "      <th></th>\n",
       "      <th>A</th>\n",
       "      <th>B</th>\n",
       "      <th>C</th>\n",
       "      <th>D</th>\n",
       "      <th>E</th>\n",
       "    </tr>\n",
       "  </thead>\n",
       "  <tbody>\n",
       "    <tr>\n",
       "      <th>2021-03-17</th>\n",
       "      <td>1.244093</td>\n",
       "      <td>1.048995</td>\n",
       "      <td>0.086392</td>\n",
       "      <td>1.494519</td>\n",
       "      <td>-0.311253</td>\n",
       "    </tr>\n",
       "    <tr>\n",
       "      <th>2021-03-16</th>\n",
       "      <td>-0.708849</td>\n",
       "      <td>-1.319875</td>\n",
       "      <td>0.323782</td>\n",
       "      <td>-0.115836</td>\n",
       "      <td>0.388987</td>\n",
       "    </tr>\n",
       "    <tr>\n",
       "      <th>2021-03-15</th>\n",
       "      <td>-0.480690</td>\n",
       "      <td>0.906160</td>\n",
       "      <td>-1.915272</td>\n",
       "      <td>-0.537900</td>\n",
       "      <td>-0.289124</td>\n",
       "    </tr>\n",
       "    <tr>\n",
       "      <th>2021-03-14</th>\n",
       "      <td>0.667339</td>\n",
       "      <td>-1.022721</td>\n",
       "      <td>-1.503480</td>\n",
       "      <td>0.298739</td>\n",
       "      <td>0.772658</td>\n",
       "    </tr>\n",
       "    <tr>\n",
       "      <th>2021-03-13</th>\n",
       "      <td>-0.415703</td>\n",
       "      <td>1.570640</td>\n",
       "      <td>1.686905</td>\n",
       "      <td>0.510009</td>\n",
       "      <td>-0.293372</td>\n",
       "    </tr>\n",
       "    <tr>\n",
       "      <th>2021-03-12</th>\n",
       "      <td>0.256034</td>\n",
       "      <td>0.375673</td>\n",
       "      <td>-0.841963</td>\n",
       "      <td>-1.762025</td>\n",
       "      <td>-0.348420</td>\n",
       "    </tr>\n",
       "  </tbody>\n",
       "</table>\n",
       "</div>"
      ],
      "text/plain": [
       "                   A         B         C         D         E\n",
       "2021-03-17  1.244093  1.048995  0.086392  1.494519 -0.311253\n",
       "2021-03-16 -0.708849 -1.319875  0.323782 -0.115836  0.388987\n",
       "2021-03-15 -0.480690  0.906160 -1.915272 -0.537900 -0.289124\n",
       "2021-03-14  0.667339 -1.022721 -1.503480  0.298739  0.772658\n",
       "2021-03-13 -0.415703  1.570640  1.686905  0.510009 -0.293372\n",
       "2021-03-12  0.256034  0.375673 -0.841963 -1.762025 -0.348420"
      ]
     },
     "execution_count": 51,
     "metadata": {},
     "output_type": "execute_result"
    }
   ],
   "source": [
    "df.sort_index(axis=0, ascending=False)"
   ]
  },
  {
   "cell_type": "code",
   "execution_count": 53,
   "metadata": {},
   "outputs": [
    {
     "data": {
      "text/html": [
       "<div>\n",
       "<style scoped>\n",
       "    .dataframe tbody tr th:only-of-type {\n",
       "        vertical-align: middle;\n",
       "    }\n",
       "\n",
       "    .dataframe tbody tr th {\n",
       "        vertical-align: top;\n",
       "    }\n",
       "\n",
       "    .dataframe thead th {\n",
       "        text-align: right;\n",
       "    }\n",
       "</style>\n",
       "<table border=\"1\" class=\"dataframe\">\n",
       "  <thead>\n",
       "    <tr style=\"text-align: right;\">\n",
       "      <th></th>\n",
       "      <th>E</th>\n",
       "      <th>D</th>\n",
       "      <th>C</th>\n",
       "      <th>B</th>\n",
       "      <th>A</th>\n",
       "    </tr>\n",
       "  </thead>\n",
       "  <tbody>\n",
       "    <tr>\n",
       "      <th>2021-03-12</th>\n",
       "      <td>-0.348420</td>\n",
       "      <td>-1.762025</td>\n",
       "      <td>-0.841963</td>\n",
       "      <td>0.375673</td>\n",
       "      <td>0.256034</td>\n",
       "    </tr>\n",
       "    <tr>\n",
       "      <th>2021-03-13</th>\n",
       "      <td>-0.293372</td>\n",
       "      <td>0.510009</td>\n",
       "      <td>1.686905</td>\n",
       "      <td>1.570640</td>\n",
       "      <td>-0.415703</td>\n",
       "    </tr>\n",
       "    <tr>\n",
       "      <th>2021-03-14</th>\n",
       "      <td>0.772658</td>\n",
       "      <td>0.298739</td>\n",
       "      <td>-1.503480</td>\n",
       "      <td>-1.022721</td>\n",
       "      <td>0.667339</td>\n",
       "    </tr>\n",
       "    <tr>\n",
       "      <th>2021-03-15</th>\n",
       "      <td>-0.289124</td>\n",
       "      <td>-0.537900</td>\n",
       "      <td>-1.915272</td>\n",
       "      <td>0.906160</td>\n",
       "      <td>-0.480690</td>\n",
       "    </tr>\n",
       "    <tr>\n",
       "      <th>2021-03-16</th>\n",
       "      <td>0.388987</td>\n",
       "      <td>-0.115836</td>\n",
       "      <td>0.323782</td>\n",
       "      <td>-1.319875</td>\n",
       "      <td>-0.708849</td>\n",
       "    </tr>\n",
       "    <tr>\n",
       "      <th>2021-03-17</th>\n",
       "      <td>-0.311253</td>\n",
       "      <td>1.494519</td>\n",
       "      <td>0.086392</td>\n",
       "      <td>1.048995</td>\n",
       "      <td>1.244093</td>\n",
       "    </tr>\n",
       "  </tbody>\n",
       "</table>\n",
       "</div>"
      ],
      "text/plain": [
       "                   E         D         C         B         A\n",
       "2021-03-12 -0.348420 -1.762025 -0.841963  0.375673  0.256034\n",
       "2021-03-13 -0.293372  0.510009  1.686905  1.570640 -0.415703\n",
       "2021-03-14  0.772658  0.298739 -1.503480 -1.022721  0.667339\n",
       "2021-03-15 -0.289124 -0.537900 -1.915272  0.906160 -0.480690\n",
       "2021-03-16  0.388987 -0.115836  0.323782 -1.319875 -0.708849\n",
       "2021-03-17 -0.311253  1.494519  0.086392  1.048995  1.244093"
      ]
     },
     "execution_count": 53,
     "metadata": {},
     "output_type": "execute_result"
    }
   ],
   "source": [
    "df.sort_index(axis=1, ascending=False)"
   ]
  },
  {
   "cell_type": "markdown",
   "metadata": {},
   "source": [
    "## Plotting\n",
    "\n",
    "Let's use `matplotlib` library to see some examples on how to visualize the data in a DataFrame:"
   ]
  },
  {
   "cell_type": "code",
   "execution_count": 72,
   "metadata": {},
   "outputs": [
    {
     "data": {
      "text/plain": [
       "<Axes: >"
      ]
     },
     "execution_count": 72,
     "metadata": {},
     "output_type": "execute_result"
    },
    {
     "data": {
      "image/png": "[encoded data removed]",
      "text/plain": [
       "<Figure size 640x480 with 1 Axes>"
      ]
     },
     "metadata": {},
     "output_type": "display_data"
    }
   ],
   "source": [
    "df.plot()"
   ]
  },
  {
   "cell_type": "code",
   "execution_count": 73,
   "metadata": {},
   "outputs": [
    {
     "data": {
      "text/plain": [
       "<Axes: >"
      ]
     },
     "execution_count": 73,
     "metadata": {},
     "output_type": "execute_result"
    },
    {
     "data": {
      "image/png": "[encoded data removed]",
      "text/plain": [
       "<Figure size 640x480 with 1 Axes>"
      ]
     },
     "metadata": {},
     "output_type": "display_data"
    }
   ],
   "source": [
    "df.plot.bar()"
   ]
  },
  {
   "cell_type": "code",
   "execution_count": 74,
   "metadata": {},
   "outputs": [
    {
     "data": {
      "text/plain": [
       "<Axes: >"
      ]
     },
     "execution_count": 74,
     "metadata": {},
     "output_type": "execute_result"
    },
    {
     "data": {
      "image/png": "[encoded data removed]",
      "text/plain": [
       "<Figure size 640x480 with 1 Axes>"
      ]
     },
     "metadata": {},
     "output_type": "display_data"
    }
   ],
   "source": [
    "df.plot.barh()"
   ]
  },
  {
   "cell_type": "code",
   "execution_count": 85,
   "metadata": {},
   "outputs": [
    {
     "data": {
      "text/plain": [
       "[Text(0, 0, '0.256034'),\n",
       " Text(0, 0, '-0.415703'),\n",
       " Text(0, 0, '0.667339'),\n",
       " Text(0, 0, '-0.48069'),\n",
       " Text(0, 0, '-0.708849'),\n",
       " Text(0, 0, '1.24409')]"
      ]
     },
     "execution_count": 85,
     "metadata": {},
     "output_type": "execute_result"
    },
    {
     "data": {
      "image/png": "[encoded data removed]",
      "text/plain": [
       "<Figure size 640x480 with 1 Axes>"
      ]
     },
     "metadata": {},
     "output_type": "display_data"
    }
   ],
   "source": [
    "ax = df.plot.barh()\n",
    "ax.bar_label(ax.containers[0])"
   ]
  },
  {
   "cell_type": "markdown",
   "metadata": {},
   "source": [
    "### Getting data In and Out\n",
    "\n",
    "It is very convenient to work with the data in Excel when the size allows for it. Excel documents if ofthen the start of data analysis. Exporting data from Excel format to CSV is easy and recommended to bring into Pandas for more analysis power.\n",
    "\n",
    "DataFrames can also be exported to CSV and then inported into Excel. "
   ]
  },
  {
   "cell_type": "code",
   "execution_count": 88,
   "metadata": {},
   "outputs": [],
   "source": [
    "df.to_csv('random_data_with_dates.csv')"
   ]
  },
  {
   "cell_type": "code",
   "execution_count": 89,
   "metadata": {},
   "outputs": [
    {
     "data": {
      "text/html": [
       "<div>\n",
       "<style scoped>\n",
       "    .dataframe tbody tr th:only-of-type {\n",
       "        vertical-align: middle;\n",
       "    }\n",
       "\n",
       "    .dataframe tbody tr th {\n",
       "        vertical-align: top;\n",
       "    }\n",
       "\n",
       "    .dataframe thead th {\n",
       "        text-align: right;\n",
       "    }\n",
       "</style>\n",
       "<table border=\"1\" class=\"dataframe\">\n",
       "  <thead>\n",
       "    <tr style=\"text-align: right;\">\n",
       "      <th></th>\n",
       "      <th>Unnamed: 0</th>\n",
       "      <th>Group 1</th>\n",
       "      <th>Group 2</th>\n",
       "      <th>Group 3</th>\n",
       "      <th>Group 4</th>\n",
       "      <th>Group 4.1</th>\n",
       "    </tr>\n",
       "  </thead>\n",
       "  <tbody>\n",
       "    <tr>\n",
       "      <th>0</th>\n",
       "      <td>2021-03-12</td>\n",
       "      <td>0.256034</td>\n",
       "      <td>0.375673</td>\n",
       "      <td>-0.841963</td>\n",
       "      <td>-1.762025</td>\n",
       "      <td>-0.348420</td>\n",
       "    </tr>\n",
       "    <tr>\n",
       "      <th>1</th>\n",
       "      <td>2021-03-13</td>\n",
       "      <td>-0.415703</td>\n",
       "      <td>1.570640</td>\n",
       "      <td>1.686905</td>\n",
       "      <td>0.510009</td>\n",
       "      <td>-0.293372</td>\n",
       "    </tr>\n",
       "    <tr>\n",
       "      <th>2</th>\n",
       "      <td>2021-03-14</td>\n",
       "      <td>0.667339</td>\n",
       "      <td>-1.022721</td>\n",
       "      <td>-1.503480</td>\n",
       "      <td>0.298739</td>\n",
       "      <td>0.772658</td>\n",
       "    </tr>\n",
       "    <tr>\n",
       "      <th>3</th>\n",
       "      <td>2021-03-15</td>\n",
       "      <td>-0.480690</td>\n",
       "      <td>0.906160</td>\n",
       "      <td>-1.915272</td>\n",
       "      <td>-0.537900</td>\n",
       "      <td>-0.289124</td>\n",
       "    </tr>\n",
       "    <tr>\n",
       "      <th>4</th>\n",
       "      <td>2021-03-16</td>\n",
       "      <td>-0.708849</td>\n",
       "      <td>-1.319875</td>\n",
       "      <td>0.323782</td>\n",
       "      <td>-0.115836</td>\n",
       "      <td>0.388987</td>\n",
       "    </tr>\n",
       "    <tr>\n",
       "      <th>5</th>\n",
       "      <td>2021-03-17</td>\n",
       "      <td>1.244093</td>\n",
       "      <td>1.048995</td>\n",
       "      <td>0.086392</td>\n",
       "      <td>1.494519</td>\n",
       "      <td>-0.311253</td>\n",
       "    </tr>\n",
       "    <tr>\n",
       "      <th>6</th>\n",
       "      <td>NaN</td>\n",
       "      <td>NaN</td>\n",
       "      <td>NaN</td>\n",
       "      <td>NaN</td>\n",
       "      <td>NaN</td>\n",
       "      <td>NaN</td>\n",
       "    </tr>\n",
       "  </tbody>\n",
       "</table>\n",
       "</div>"
      ],
      "text/plain": [
       "   Unnamed: 0   Group 1   Group 2   Group 3   Group 4  Group 4.1\n",
       "0  2021-03-12  0.256034  0.375673 -0.841963 -1.762025  -0.348420\n",
       "1  2021-03-13 -0.415703  1.570640  1.686905  0.510009  -0.293372\n",
       "2  2021-03-14  0.667339 -1.022721 -1.503480  0.298739   0.772658\n",
       "3  2021-03-15 -0.480690  0.906160 -1.915272 -0.537900  -0.289124\n",
       "4  2021-03-16 -0.708849 -1.319875  0.323782 -0.115836   0.388987\n",
       "5  2021-03-17  1.244093  1.048995  0.086392  1.494519  -0.311253\n",
       "6         NaN       NaN       NaN       NaN       NaN        NaN"
      ]
     },
     "execution_count": 89,
     "metadata": {},
     "output_type": "execute_result"
    }
   ],
   "source": [
    "pd.read_csv('group_data_with_dates.csv')"
   ]
  },
  {
   "cell_type": "markdown",
   "metadata": {},
   "source": [
    "CSV can be read directly from API or URL. Let's use JetBrains 2017 Python survey to do some data analysis:"
   ]
  },
  {
   "cell_type": "code",
   "execution_count": 60,
   "metadata": {},
   "outputs": [
    {
     "data": {
      "text/html": [
       "<div>\n",
       "<style scoped>\n",
       "    .dataframe tbody tr th:only-of-type {\n",
       "        vertical-align: middle;\n",
       "    }\n",
       "\n",
       "    .dataframe tbody tr th {\n",
       "        vertical-align: top;\n",
       "    }\n",
       "\n",
       "    .dataframe thead th {\n",
       "        text-align: right;\n",
       "    }\n",
       "</style>\n",
       "<table border=\"1\" class=\"dataframe\">\n",
       "  <thead>\n",
       "    <tr style=\"text-align: right;\">\n",
       "      <th></th>\n",
       "      <th>Is Python the main language you use for your current projects?</th>\n",
       "      <th>None:What other language(s) do you use?</th>\n",
       "      <th>Java:What other language(s) do you use?</th>\n",
       "      <th>JavaScript:What other language(s) do you use?</th>\n",
       "      <th>C/C++:What other language(s) do you use?</th>\n",
       "      <th>PHP:What other language(s) do you use?</th>\n",
       "      <th>C#:What other language(s) do you use?</th>\n",
       "      <th>Ruby:What other language(s) do you use?</th>\n",
       "      <th>Bash / Shell:What other language(s) do you use?</th>\n",
       "      <th>Objective-C:What other language(s) do you use?</th>\n",
       "      <th>...</th>\n",
       "      <th>Technical support:Which of the following best describes your job role(s)?</th>\n",
       "      <th>Data analyst:Which of the following best describes your job role(s)?</th>\n",
       "      <th>Business analyst:Which of the following best describes your job role(s)?</th>\n",
       "      <th>Team lead:Which of the following best describes your job role(s)?</th>\n",
       "      <th>Product manager:Which of the following best describes your job role(s)?</th>\n",
       "      <th>CIO / CEO / CTO:Which of the following best describes your job role(s)?</th>\n",
       "      <th>Systems analyst:Which of the following best describes your job role(s)?</th>\n",
       "      <th>Other - Write In::Which of the following best describes your job role(s)?</th>\n",
       "      <th>Could you tell us your age range?</th>\n",
       "      <th>What country do you live in?</th>\n",
       "    </tr>\n",
       "  </thead>\n",
       "  <tbody>\n",
       "    <tr>\n",
       "      <th>0</th>\n",
       "      <td>Yes</td>\n",
       "      <td>NaN</td>\n",
       "      <td>NaN</td>\n",
       "      <td>JavaScript</td>\n",
       "      <td>NaN</td>\n",
       "      <td>PHP</td>\n",
       "      <td>NaN</td>\n",
       "      <td>NaN</td>\n",
       "      <td>Bash / Shell</td>\n",
       "      <td>NaN</td>\n",
       "      <td>...</td>\n",
       "      <td>NaN</td>\n",
       "      <td>NaN</td>\n",
       "      <td>NaN</td>\n",
       "      <td>NaN</td>\n",
       "      <td>NaN</td>\n",
       "      <td>NaN</td>\n",
       "      <td>NaN</td>\n",
       "      <td>NaN</td>\n",
       "      <td>60 or older</td>\n",
       "      <td>Italy</td>\n",
       "    </tr>\n",
       "    <tr>\n",
       "      <th>1</th>\n",
       "      <td>Yes</td>\n",
       "      <td>NaN</td>\n",
       "      <td>NaN</td>\n",
       "      <td>JavaScript</td>\n",
       "      <td>NaN</td>\n",
       "      <td>NaN</td>\n",
       "      <td>NaN</td>\n",
       "      <td>NaN</td>\n",
       "      <td>NaN</td>\n",
       "      <td>NaN</td>\n",
       "      <td>...</td>\n",
       "      <td>NaN</td>\n",
       "      <td>NaN</td>\n",
       "      <td>NaN</td>\n",
       "      <td>Team lead</td>\n",
       "      <td>NaN</td>\n",
       "      <td>NaN</td>\n",
       "      <td>NaN</td>\n",
       "      <td>NaN</td>\n",
       "      <td>40-49</td>\n",
       "      <td>United Kingdom</td>\n",
       "    </tr>\n",
       "    <tr>\n",
       "      <th>2</th>\n",
       "      <td>Yes</td>\n",
       "      <td>NaN</td>\n",
       "      <td>NaN</td>\n",
       "      <td>JavaScript</td>\n",
       "      <td>NaN</td>\n",
       "      <td>NaN</td>\n",
       "      <td>NaN</td>\n",
       "      <td>NaN</td>\n",
       "      <td>NaN</td>\n",
       "      <td>NaN</td>\n",
       "      <td>...</td>\n",
       "      <td>NaN</td>\n",
       "      <td>NaN</td>\n",
       "      <td>NaN</td>\n",
       "      <td>NaN</td>\n",
       "      <td>NaN</td>\n",
       "      <td>NaN</td>\n",
       "      <td>NaN</td>\n",
       "      <td>NaN</td>\n",
       "      <td>40-49</td>\n",
       "      <td>France</td>\n",
       "    </tr>\n",
       "    <tr>\n",
       "      <th>3</th>\n",
       "      <td>No, I don’t use Python for my current projects</td>\n",
       "      <td>NaN</td>\n",
       "      <td>NaN</td>\n",
       "      <td>NaN</td>\n",
       "      <td>NaN</td>\n",
       "      <td>NaN</td>\n",
       "      <td>C#</td>\n",
       "      <td>NaN</td>\n",
       "      <td>NaN</td>\n",
       "      <td>NaN</td>\n",
       "      <td>...</td>\n",
       "      <td>NaN</td>\n",
       "      <td>NaN</td>\n",
       "      <td>NaN</td>\n",
       "      <td>NaN</td>\n",
       "      <td>NaN</td>\n",
       "      <td>NaN</td>\n",
       "      <td>NaN</td>\n",
       "      <td>NaN</td>\n",
       "      <td>17 or younger</td>\n",
       "      <td>Spain</td>\n",
       "    </tr>\n",
       "    <tr>\n",
       "      <th>4</th>\n",
       "      <td>Yes</td>\n",
       "      <td>NaN</td>\n",
       "      <td>Java</td>\n",
       "      <td>NaN</td>\n",
       "      <td>NaN</td>\n",
       "      <td>NaN</td>\n",
       "      <td>NaN</td>\n",
       "      <td>NaN</td>\n",
       "      <td>NaN</td>\n",
       "      <td>NaN</td>\n",
       "      <td>...</td>\n",
       "      <td>NaN</td>\n",
       "      <td>NaN</td>\n",
       "      <td>NaN</td>\n",
       "      <td>NaN</td>\n",
       "      <td>NaN</td>\n",
       "      <td>NaN</td>\n",
       "      <td>NaN</td>\n",
       "      <td>NaN</td>\n",
       "      <td>18-20</td>\n",
       "      <td>Israel</td>\n",
       "    </tr>\n",
       "  </tbody>\n",
       "</table>\n",
       "<p>5 rows × 162 columns</p>\n",
       "</div>"
      ],
      "text/plain": [
       "  Is Python the main language you use for your current projects?  \\\n",
       "0                                                Yes               \n",
       "1                                                Yes               \n",
       "2                                                Yes               \n",
       "3     No, I don’t use Python for my current projects               \n",
       "4                                                Yes               \n",
       "\n",
       "  None:What other language(s) do you use?  \\\n",
       "0                                     NaN   \n",
       "1                                     NaN   \n",
       "2                                     NaN   \n",
       "3                                     NaN   \n",
       "4                                     NaN   \n",
       "\n",
       "  Java:What other language(s) do you use?  \\\n",
       "0                                     NaN   \n",
       "1                                     NaN   \n",
       "2                                     NaN   \n",
       "3                                     NaN   \n",
       "4                                    Java   \n",
       "\n",
       "  JavaScript:What other language(s) do you use?  \\\n",
       "0                                    JavaScript   \n",
       "1                                    JavaScript   \n",
       "2                                    JavaScript   \n",
       "3                                           NaN   \n",
       "4                                           NaN   \n",
       "\n",
       "  C/C++:What other language(s) do you use?  \\\n",
       "0                                      NaN   \n",
       "1                                      NaN   \n",
       "2                                      NaN   \n",
       "3                                      NaN   \n",
       "4                                      NaN   \n",
       "\n",
       "  PHP:What other language(s) do you use?  \\\n",
       "0                                    PHP   \n",
       "1                                    NaN   \n",
       "2                                    NaN   \n",
       "3                                    NaN   \n",
       "4                                    NaN   \n",
       "\n",
       "  C#:What other language(s) do you use?  \\\n",
       "0                                   NaN   \n",
       "1                                   NaN   \n",
       "2                                   NaN   \n",
       "3                                    C#   \n",
       "4                                   NaN   \n",
       "\n",
       "  Ruby:What other language(s) do you use?  \\\n",
       "0                                     NaN   \n",
       "1                                     NaN   \n",
       "2                                     NaN   \n",
       "3                                     NaN   \n",
       "4                                     NaN   \n",
       "\n",
       "  Bash / Shell:What other language(s) do you use?  \\\n",
       "0                                    Bash / Shell   \n",
       "1                                             NaN   \n",
       "2                                             NaN   \n",
       "3                                             NaN   \n",
       "4                                             NaN   \n",
       "\n",
       "  Objective-C:What other language(s) do you use?  ...  \\\n",
       "0                                            NaN  ...   \n",
       "1                                            NaN  ...   \n",
       "2                                            NaN  ...   \n",
       "3                                            NaN  ...   \n",
       "4                                            NaN  ...   \n",
       "\n",
       "  Technical support:Which of the following best describes your job role(s)?  \\\n",
       "0                                                NaN                          \n",
       "1                                                NaN                          \n",
       "2                                                NaN                          \n",
       "3                                                NaN                          \n",
       "4                                                NaN                          \n",
       "\n",
       "  Data analyst:Which of the following best describes your job role(s)?  \\\n",
       "0                                                NaN                     \n",
       "1                                                NaN                     \n",
       "2                                                NaN                     \n",
       "3                                                NaN                     \n",
       "4                                                NaN                     \n",
       "\n",
       "  Business analyst:Which of the following best describes your job role(s)?  \\\n",
       "0                                                NaN                         \n",
       "1                                                NaN                         \n",
       "2                                                NaN                         \n",
       "3                                                NaN                         \n",
       "4                                                NaN                         \n",
       "\n",
       "  Team lead:Which of the following best describes your job role(s)?  \\\n",
       "0                                                NaN                  \n",
       "1                                          Team lead                  \n",
       "2                                                NaN                  \n",
       "3                                                NaN                  \n",
       "4                                                NaN                  \n",
       "\n",
       "  Product manager:Which of the following best describes your job role(s)?  \\\n",
       "0                                                NaN                        \n",
       "1                                                NaN                        \n",
       "2                                                NaN                        \n",
       "3                                                NaN                        \n",
       "4                                                NaN                        \n",
       "\n",
       "  CIO / CEO / CTO:Which of the following best describes your job role(s)?  \\\n",
       "0                                                NaN                        \n",
       "1                                                NaN                        \n",
       "2                                                NaN                        \n",
       "3                                                NaN                        \n",
       "4                                                NaN                        \n",
       "\n",
       "  Systems analyst:Which of the following best describes your job role(s)?  \\\n",
       "0                                                NaN                        \n",
       "1                                                NaN                        \n",
       "2                                                NaN                        \n",
       "3                                                NaN                        \n",
       "4                                                NaN                        \n",
       "\n",
       "  Other - Write In::Which of the following best describes your job role(s)?  \\\n",
       "0                                                NaN                          \n",
       "1                                                NaN                          \n",
       "2                                                NaN                          \n",
       "3                                                NaN                          \n",
       "4                                                NaN                          \n",
       "\n",
       "  Could you tell us your age range? What country do you live in?  \n",
       "0                       60 or older                        Italy  \n",
       "1                             40-49               United Kingdom  \n",
       "2                             40-49                       France  \n",
       "3                     17 or younger                        Spain  \n",
       "4                             18-20                       Israel  \n",
       "\n",
       "[5 rows x 162 columns]"
      ]
     },
     "execution_count": 60,
     "metadata": {},
     "output_type": "execute_result"
    }
   ],
   "source": [
    "data = pd.read_csv(\"https://github.com/vfp1/bts-mbds-data-science-foundations-2019/raw/master/sessions/data/pythondevsurvey2017_raw_data.csv\")\n",
    "data.head()"
   ]
  },
  {
   "cell_type": "code",
   "execution_count": 62,
   "metadata": {},
   "outputs": [
    {
     "data": {
      "text/html": [
       "<div>\n",
       "<style scoped>\n",
       "    .dataframe tbody tr th:only-of-type {\n",
       "        vertical-align: middle;\n",
       "    }\n",
       "\n",
       "    .dataframe tbody tr th {\n",
       "        vertical-align: top;\n",
       "    }\n",
       "\n",
       "    .dataframe thead th {\n",
       "        text-align: right;\n",
       "    }\n",
       "</style>\n",
       "<table border=\"1\" class=\"dataframe\">\n",
       "  <thead>\n",
       "    <tr style=\"text-align: right;\">\n",
       "      <th></th>\n",
       "      <th>Is Python the main language you use for your current projects?</th>\n",
       "      <th>None:What other language(s) do you use?</th>\n",
       "      <th>Java:What other language(s) do you use?</th>\n",
       "      <th>JavaScript:What other language(s) do you use?</th>\n",
       "      <th>C/C++:What other language(s) do you use?</th>\n",
       "      <th>PHP:What other language(s) do you use?</th>\n",
       "      <th>C#:What other language(s) do you use?</th>\n",
       "      <th>Ruby:What other language(s) do you use?</th>\n",
       "      <th>Bash / Shell:What other language(s) do you use?</th>\n",
       "      <th>Objective-C:What other language(s) do you use?</th>\n",
       "      <th>...</th>\n",
       "      <th>Technical support:Which of the following best describes your job role(s)?</th>\n",
       "      <th>Data analyst:Which of the following best describes your job role(s)?</th>\n",
       "      <th>Business analyst:Which of the following best describes your job role(s)?</th>\n",
       "      <th>Team lead:Which of the following best describes your job role(s)?</th>\n",
       "      <th>Product manager:Which of the following best describes your job role(s)?</th>\n",
       "      <th>CIO / CEO / CTO:Which of the following best describes your job role(s)?</th>\n",
       "      <th>Systems analyst:Which of the following best describes your job role(s)?</th>\n",
       "      <th>Other - Write In::Which of the following best describes your job role(s)?</th>\n",
       "      <th>Could you tell us your age range?</th>\n",
       "      <th>What country do you live in?</th>\n",
       "    </tr>\n",
       "  </thead>\n",
       "  <tbody>\n",
       "    <tr>\n",
       "      <th>count</th>\n",
       "      <td>9506</td>\n",
       "      <td>805</td>\n",
       "      <td>2650</td>\n",
       "      <td>4460</td>\n",
       "      <td>3333</td>\n",
       "      <td>1470</td>\n",
       "      <td>1363</td>\n",
       "      <td>501</td>\n",
       "      <td>3075</td>\n",
       "      <td>196</td>\n",
       "      <td>...</td>\n",
       "      <td>831</td>\n",
       "      <td>1226</td>\n",
       "      <td>361</td>\n",
       "      <td>1142</td>\n",
       "      <td>423</td>\n",
       "      <td>458</td>\n",
       "      <td>680</td>\n",
       "      <td>590</td>\n",
       "      <td>9502</td>\n",
       "      <td>9502</td>\n",
       "    </tr>\n",
       "    <tr>\n",
       "      <th>unique</th>\n",
       "      <td>3</td>\n",
       "      <td>1</td>\n",
       "      <td>1</td>\n",
       "      <td>1</td>\n",
       "      <td>1</td>\n",
       "      <td>1</td>\n",
       "      <td>1</td>\n",
       "      <td>1</td>\n",
       "      <td>1</td>\n",
       "      <td>1</td>\n",
       "      <td>...</td>\n",
       "      <td>1</td>\n",
       "      <td>1</td>\n",
       "      <td>1</td>\n",
       "      <td>1</td>\n",
       "      <td>1</td>\n",
       "      <td>1</td>\n",
       "      <td>1</td>\n",
       "      <td>1</td>\n",
       "      <td>7</td>\n",
       "      <td>154</td>\n",
       "    </tr>\n",
       "    <tr>\n",
       "      <th>top</th>\n",
       "      <td>Yes</td>\n",
       "      <td>None</td>\n",
       "      <td>Java</td>\n",
       "      <td>JavaScript</td>\n",
       "      <td>C/C++</td>\n",
       "      <td>PHP</td>\n",
       "      <td>C#</td>\n",
       "      <td>Ruby</td>\n",
       "      <td>Bash / Shell</td>\n",
       "      <td>Objective-C</td>\n",
       "      <td>...</td>\n",
       "      <td>Technical support</td>\n",
       "      <td>Data analyst</td>\n",
       "      <td>Business analyst</td>\n",
       "      <td>Team lead</td>\n",
       "      <td>Product manager</td>\n",
       "      <td>CIO / CEO / CTO</td>\n",
       "      <td>Systems analyst</td>\n",
       "      <td>Other - Write In:</td>\n",
       "      <td>21-29</td>\n",
       "      <td>United States</td>\n",
       "    </tr>\n",
       "    <tr>\n",
       "      <th>freq</th>\n",
       "      <td>6417</td>\n",
       "      <td>805</td>\n",
       "      <td>2650</td>\n",
       "      <td>4460</td>\n",
       "      <td>3333</td>\n",
       "      <td>1470</td>\n",
       "      <td>1363</td>\n",
       "      <td>501</td>\n",
       "      <td>3075</td>\n",
       "      <td>196</td>\n",
       "      <td>...</td>\n",
       "      <td>831</td>\n",
       "      <td>1226</td>\n",
       "      <td>361</td>\n",
       "      <td>1142</td>\n",
       "      <td>423</td>\n",
       "      <td>458</td>\n",
       "      <td>680</td>\n",
       "      <td>590</td>\n",
       "      <td>3717</td>\n",
       "      <td>1638</td>\n",
       "    </tr>\n",
       "  </tbody>\n",
       "</table>\n",
       "<p>4 rows × 161 columns</p>\n",
       "</div>"
      ],
      "text/plain": [
       "       Is Python the main language you use for your current projects?  \\\n",
       "count                                                9506               \n",
       "unique                                                  3               \n",
       "top                                                   Yes               \n",
       "freq                                                 6417               \n",
       "\n",
       "       None:What other language(s) do you use?  \\\n",
       "count                                      805   \n",
       "unique                                       1   \n",
       "top                                       None   \n",
       "freq                                       805   \n",
       "\n",
       "       Java:What other language(s) do you use?  \\\n",
       "count                                     2650   \n",
       "unique                                       1   \n",
       "top                                       Java   \n",
       "freq                                      2650   \n",
       "\n",
       "       JavaScript:What other language(s) do you use?  \\\n",
       "count                                           4460   \n",
       "unique                                             1   \n",
       "top                                       JavaScript   \n",
       "freq                                            4460   \n",
       "\n",
       "       C/C++:What other language(s) do you use?  \\\n",
       "count                                      3333   \n",
       "unique                                        1   \n",
       "top                                       C/C++   \n",
       "freq                                       3333   \n",
       "\n",
       "       PHP:What other language(s) do you use?  \\\n",
       "count                                    1470   \n",
       "unique                                      1   \n",
       "top                                       PHP   \n",
       "freq                                     1470   \n",
       "\n",
       "       C#:What other language(s) do you use?  \\\n",
       "count                                   1363   \n",
       "unique                                     1   \n",
       "top                                       C#   \n",
       "freq                                    1363   \n",
       "\n",
       "       Ruby:What other language(s) do you use?  \\\n",
       "count                                      501   \n",
       "unique                                       1   \n",
       "top                                       Ruby   \n",
       "freq                                       501   \n",
       "\n",
       "       Bash / Shell:What other language(s) do you use?  \\\n",
       "count                                             3075   \n",
       "unique                                               1   \n",
       "top                                       Bash / Shell   \n",
       "freq                                              3075   \n",
       "\n",
       "       Objective-C:What other language(s) do you use?  ...  \\\n",
       "count                                             196  ...   \n",
       "unique                                              1  ...   \n",
       "top                                       Objective-C  ...   \n",
       "freq                                              196  ...   \n",
       "\n",
       "       Technical support:Which of the following best describes your job role(s)?  \\\n",
       "count                                                 831                          \n",
       "unique                                                  1                          \n",
       "top                                     Technical support                          \n",
       "freq                                                  831                          \n",
       "\n",
       "       Data analyst:Which of the following best describes your job role(s)?  \\\n",
       "count                                                1226                     \n",
       "unique                                                  1                     \n",
       "top                                          Data analyst                     \n",
       "freq                                                 1226                     \n",
       "\n",
       "       Business analyst:Which of the following best describes your job role(s)?  \\\n",
       "count                                                 361                         \n",
       "unique                                                  1                         \n",
       "top                                      Business analyst                         \n",
       "freq                                                  361                         \n",
       "\n",
       "       Team lead:Which of the following best describes your job role(s)?  \\\n",
       "count                                                1142                  \n",
       "unique                                                  1                  \n",
       "top                                             Team lead                  \n",
       "freq                                                 1142                  \n",
       "\n",
       "       Product manager:Which of the following best describes your job role(s)?  \\\n",
       "count                                                 423                        \n",
       "unique                                                  1                        \n",
       "top                                       Product manager                        \n",
       "freq                                                  423                        \n",
       "\n",
       "       CIO / CEO / CTO:Which of the following best describes your job role(s)?  \\\n",
       "count                                                 458                        \n",
       "unique                                                  1                        \n",
       "top                                       CIO / CEO / CTO                        \n",
       "freq                                                  458                        \n",
       "\n",
       "       Systems analyst:Which of the following best describes your job role(s)?  \\\n",
       "count                                                 680                        \n",
       "unique                                                  1                        \n",
       "top                                       Systems analyst                        \n",
       "freq                                                  680                        \n",
       "\n",
       "       Other - Write In::Which of the following best describes your job role(s)?  \\\n",
       "count                                                 590                          \n",
       "unique                                                  1                          \n",
       "top                                     Other - Write In:                          \n",
       "freq                                                  590                          \n",
       "\n",
       "       Could you tell us your age range? What country do you live in?  \n",
       "count                               9502                         9502  \n",
       "unique                                 7                          154  \n",
       "top                                21-29                United States  \n",
       "freq                                3717                         1638  \n",
       "\n",
       "[4 rows x 161 columns]"
      ]
     },
     "execution_count": 62,
     "metadata": {},
     "output_type": "execute_result"
    }
   ],
   "source": [
    "data.describe(include=['object'], exclude=np.number)"
   ]
  },
  {
   "cell_type": "markdown",
   "metadata": {},
   "source": [
    "Let's plot the answers to a single question: \"What do you use Python for the most?\""
   ]
  },
  {
   "cell_type": "code",
   "execution_count": 63,
   "metadata": {},
   "outputs": [
    {
     "data": {
      "text/plain": [
       "8112"
      ]
     },
     "execution_count": 63,
     "metadata": {},
     "output_type": "execute_result"
    }
   ],
   "source": [
    "counts = data[\"What do you use Python for the most?\"].value_counts()\n",
    "counts.sum()"
   ]
  },
  {
   "cell_type": "code",
   "execution_count": 64,
   "metadata": {},
   "outputs": [
    {
     "data": {
      "text/plain": [
       "9506"
      ]
     },
     "execution_count": 64,
     "metadata": {},
     "output_type": "execute_result"
    }
   ],
   "source": [
    "len(data)"
   ]
  },
  {
   "cell_type": "code",
   "execution_count": 65,
   "metadata": {},
   "outputs": [
    {
     "data": {
      "text/plain": [
       "Web development                                                0.260355\n",
       "Data analysis                                                  0.176282\n",
       "Educational purposes                                           0.094058\n",
       "DevOps / System administration / Writing automation scripts    0.092949\n",
       "Machine learning                                               0.085799\n",
       "Name: What do you use Python for the most?, dtype: float64"
      ]
     },
     "execution_count": 65,
     "metadata": {},
     "output_type": "execute_result"
    }
   ],
   "source": [
    "(counts/counts.sum()).head()"
   ]
  },
  {
   "cell_type": "code",
   "execution_count": 66,
   "metadata": {},
   "outputs": [
    {
     "data": {
      "text/plain": [
       "<Axes: >"
      ]
     },
     "execution_count": 66,
     "metadata": {},
     "output_type": "execute_result"
    },
    {
     "data": {
      "image/png": "[encoded data removed]",
      "text/plain": [
       "<Figure size 640x480 with 1 Axes>"
      ]
     },
     "metadata": {},
     "output_type": "display_data"
    }
   ],
   "source": [
    "question = \"What do you use Python for the most?\"\n",
    "data[question].value_counts(normalize=True).head().plot.bar()"
   ]
  }
 ],
 "metadata": {
  "anaconda-cloud": {},
  "colab": {
   "name": "03.01-Introducing-Pandas-Objects.ipynb",
   "provenance": []
  },
  "kernelspec": {
   "display_name": "Python 3 (ipykernel)",
   "language": "python",
   "name": "python3"
  },
  "language_info": {
   "codemirror_mode": {
    "name": "ipython",
    "version": 3
   },
   "file_extension": ".py",
   "mimetype": "text/x-python",
   "name": "python",
   "nbconvert_exporter": "python",
   "pygments_lexer": "ipython3",
   "version": "3.10.6"
  }
 },
 "nbformat": 4,
 "nbformat_minor": 1
}
