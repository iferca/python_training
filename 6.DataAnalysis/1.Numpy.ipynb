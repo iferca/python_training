{
 "cells": [
  {
   "cell_type": "markdown",
   "id": "0c2dc311",
   "metadata": {},
   "source": [
    "# Numpy\n",
    "\n",
    "NumPy is the fundamental package for scientific computing in Python. It is a Python library that provides a multidimensional array object, various derived objects (such as masked arrays and matrices), and an assortment of routines for fast operations on arrays, including mathematical, logical, shape manipulation, sorting, selecting, I/O, discrete Fourier transforms, basic linear algebra, basic statistical operations, random simulation and much more.\n",
    "\n",
    "In this seccion, we’ll look at some of the main ways to use NumPy and how it can represent different types of data (tables, images, text…etc) before we can serve them to machine learning models.\n",
    "\n",
    "As mentioned before `numpy` is a Python package and should be imported before can be used:"
   ]
  },
  {
   "cell_type": "code",
   "execution_count": 1,
   "id": "17cd1d97",
   "metadata": {},
   "outputs": [],
   "source": [
    "import numpy as np"
   ]
  },
  {
   "cell_type": "markdown",
   "id": "6abc66db",
   "metadata": {},
   "source": [
    "## Creating Arrays\n",
    "\n",
    "We can create a NumPy array by passing a python list to it and using `np.array()`. In this case, python creates the array we can see on the right here:\n",
    "\n",
    "![Creating array](img/create-numpy-array-1.png)"
   ]
  },
  {
   "cell_type": "code",
   "execution_count": 2,
   "id": "21dd6703",
   "metadata": {},
   "outputs": [
    {
     "data": {
      "text/plain": [
       "array([1, 2, 3])"
      ]
     },
     "execution_count": 2,
     "metadata": {},
     "output_type": "execute_result"
    }
   ],
   "source": [
    "np.array([1, 2, 3])"
   ]
  },
  {
   "cell_type": "markdown",
   "id": "fd47e2d1",
   "metadata": {},
   "source": [
    "There are often cases when is required NumPy to initialize the values of the array for us. NumPy provides methods like `ones()`, `zeros()`, and `random.random()` for these cases. We just pass them the number of elements we want it to generate:\n",
    "\n",
    "![Creating ones_zeros_random](img/create-numpy-array-ones-zeros-random.png)"
   ]
  },
  {
   "cell_type": "code",
   "execution_count": 14,
   "id": "61790f34",
   "metadata": {},
   "outputs": [
    {
     "data": {
      "text/plain": [
       "array([0.79908316, 0.72695767, 0.1991393 ])"
      ]
     },
     "execution_count": 14,
     "metadata": {},
     "output_type": "execute_result"
    }
   ],
   "source": [
    "np.random.random(3)"
   ]
  },
  {
   "cell_type": "markdown",
   "id": "663f7a9b",
   "metadata": {},
   "source": [
    "Similar to Python `range()` function, NumPy provides a `arange()` funtion to generate arrays:"
   ]
  },
  {
   "cell_type": "code",
   "execution_count": 72,
   "id": "dc016d65",
   "metadata": {},
   "outputs": [
    {
     "data": {
      "text/plain": [
       "array([0, 1, 2, 3, 4, 5, 6, 7, 8, 9])"
      ]
     },
     "execution_count": 72,
     "metadata": {},
     "output_type": "execute_result"
    }
   ],
   "source": [
    "np.arange(10)"
   ]
  },
  {
   "cell_type": "code",
   "execution_count": 73,
   "id": "66ebe698",
   "metadata": {},
   "outputs": [
    {
     "data": {
      "text/plain": [
       "array([1, 2, 3, 4, 5, 6, 7, 8, 9])"
      ]
     },
     "execution_count": 73,
     "metadata": {},
     "output_type": "execute_result"
    }
   ],
   "source": [
    "np.arange(1, 10)"
   ]
  },
  {
   "cell_type": "code",
   "execution_count": 74,
   "id": "e2c2cb28",
   "metadata": {},
   "outputs": [
    {
     "data": {
      "text/plain": [
       "array([1, 3, 5, 7, 9])"
      ]
     },
     "execution_count": 74,
     "metadata": {},
     "output_type": "execute_result"
    }
   ],
   "source": [
    "np.arange(1, 10, 2)"
   ]
  },
  {
   "cell_type": "markdown",
   "id": "d8a644df",
   "metadata": {},
   "source": [
    "Once an array is created, we can start to manipulate them in interesting ways. \n",
    "\n",
    "## Array Arithmetic\n",
    "\n",
    "Let’s create two NumPy arrays to showcase their usefulness. We’ll call them data and ones:\n",
    "\n",
    "![example1](img/numpy-arrays-example-1.png)"
   ]
  },
  {
   "cell_type": "code",
   "execution_count": 15,
   "id": "c60e94f9",
   "metadata": {},
   "outputs": [],
   "source": [
    "data = np.array([1, 2])\n",
    "ones = np.ones(2)"
   ]
  },
  {
   "cell_type": "markdown",
   "id": "217a59c1",
   "metadata": {},
   "source": [
    "Adding them up position-wise (i.e. adding the values of each row) is as simple as typing data + ones:\n",
    "\n",
    "![adding1](img/numpy-arrays-adding-1.png)"
   ]
  },
  {
   "cell_type": "code",
   "execution_count": 16,
   "id": "511fde6e",
   "metadata": {},
   "outputs": [
    {
     "data": {
      "text/plain": [
       "array([2., 3.])"
      ]
     },
     "execution_count": 16,
     "metadata": {},
     "output_type": "execute_result"
    }
   ],
   "source": [
    "data + ones"
   ]
  },
  {
   "cell_type": "markdown",
   "id": "1d6ffa1c",
   "metadata": {},
   "source": [
    "Note how such an abstraction like this prevents having to program such a calculation in loops. It’s a wonderful abstraction that allows you to think about problems at a higher level.\n",
    "\n",
    "And it’s not only addition that we can do this way:\n",
    "\n",
    "![subs_mult_div1](img/numpy-array-subtract-multiply-divide.png)"
   ]
  },
  {
   "cell_type": "code",
   "execution_count": 17,
   "id": "37037ec2",
   "metadata": {},
   "outputs": [
    {
     "data": {
      "text/plain": [
       "array([0., 1.])"
      ]
     },
     "execution_count": 17,
     "metadata": {},
     "output_type": "execute_result"
    }
   ],
   "source": [
    "data - ones"
   ]
  },
  {
   "cell_type": "code",
   "execution_count": 18,
   "id": "dfa253f6",
   "metadata": {},
   "outputs": [
    {
     "data": {
      "text/plain": [
       "array([1, 4])"
      ]
     },
     "execution_count": 18,
     "metadata": {},
     "output_type": "execute_result"
    }
   ],
   "source": [
    "data * data"
   ]
  },
  {
   "cell_type": "code",
   "execution_count": 19,
   "id": "9361d91a",
   "metadata": {},
   "outputs": [
    {
     "data": {
      "text/plain": [
       "array([1., 1.])"
      ]
     },
     "execution_count": 19,
     "metadata": {},
     "output_type": "execute_result"
    }
   ],
   "source": [
    "data / data"
   ]
  },
  {
   "cell_type": "markdown",
   "id": "c0ed9144",
   "metadata": {},
   "source": [
    "## Broadcasting \n",
    "\n",
    "There are often cases when is required to carry out an operation between an array and a single number (known as an operation between a vector and a scalar). For example, `data` array represents distance in miles, and we want to convert it to kilometers. We simply say:\n",
    "\n",
    "![scalar_ops](img/numpy-array-broadcast.png)"
   ]
  },
  {
   "cell_type": "code",
   "execution_count": 22,
   "id": "9c4b34b9",
   "metadata": {},
   "outputs": [
    {
     "data": {
      "text/plain": [
       "array([1.6, 3.2])"
      ]
     },
     "execution_count": 22,
     "metadata": {},
     "output_type": "execute_result"
    }
   ],
   "source": [
    "data * 1.6"
   ]
  },
  {
   "cell_type": "markdown",
   "id": "a7eb8b9a",
   "metadata": {},
   "source": [
    "Notice how NumPy understood that operation to mean that the multiplication should happen with each cell. That concept is called **broadcasting**, and it’s very useful.\n",
    "\n",
    "## Indexing\n",
    "\n",
    "Numpy arrays can be indexed and sliceed in all the ways we can slice python lists:\n",
    "\n",
    "![index_slice](img/numpy-array-slice.png)"
   ]
  },
  {
   "cell_type": "code",
   "execution_count": 27,
   "id": "91ecafa5",
   "metadata": {},
   "outputs": [
    {
     "data": {
      "text/plain": [
       "1"
      ]
     },
     "execution_count": 27,
     "metadata": {},
     "output_type": "execute_result"
    }
   ],
   "source": [
    "data = np.array((1, 2, 3))\n",
    "data[0]"
   ]
  },
  {
   "cell_type": "code",
   "execution_count": 24,
   "id": "15c114df",
   "metadata": {},
   "outputs": [
    {
     "data": {
      "text/plain": [
       "2"
      ]
     },
     "execution_count": 24,
     "metadata": {},
     "output_type": "execute_result"
    }
   ],
   "source": [
    "data[1]"
   ]
  },
  {
   "cell_type": "code",
   "execution_count": 28,
   "id": "cac8c40c",
   "metadata": {},
   "outputs": [
    {
     "data": {
      "text/plain": [
       "array([1, 2])"
      ]
     },
     "execution_count": 28,
     "metadata": {},
     "output_type": "execute_result"
    }
   ],
   "source": [
    "data[0:2]"
   ]
  },
  {
   "cell_type": "code",
   "execution_count": 29,
   "id": "7a2e8cc3",
   "metadata": {},
   "outputs": [
    {
     "data": {
      "text/plain": [
       "array([2, 3])"
      ]
     },
     "execution_count": 29,
     "metadata": {},
     "output_type": "execute_result"
    }
   ],
   "source": [
    "data[1:]"
   ]
  },
  {
   "cell_type": "markdown",
   "id": "2a2a5555",
   "metadata": {},
   "source": [
    "## Aggregation\n",
    "\n",
    "Additional benefits NumPy gives us are aggregation functions:\n",
    "\n",
    "![agregations1](img/numpy-array-aggregation.png)"
   ]
  },
  {
   "cell_type": "code",
   "execution_count": 30,
   "id": "dcac69a8",
   "metadata": {},
   "outputs": [
    {
     "data": {
      "text/plain": [
       "3"
      ]
     },
     "execution_count": 30,
     "metadata": {},
     "output_type": "execute_result"
    }
   ],
   "source": [
    "data.max()"
   ]
  },
  {
   "cell_type": "code",
   "execution_count": 31,
   "id": "164a34b1",
   "metadata": {},
   "outputs": [
    {
     "data": {
      "text/plain": [
       "1"
      ]
     },
     "execution_count": 31,
     "metadata": {},
     "output_type": "execute_result"
    }
   ],
   "source": [
    "data.min()"
   ]
  },
  {
   "cell_type": "code",
   "execution_count": 32,
   "id": "e38d5aca",
   "metadata": {},
   "outputs": [
    {
     "data": {
      "text/plain": [
       "6"
      ]
     },
     "execution_count": 32,
     "metadata": {},
     "output_type": "execute_result"
    }
   ],
   "source": [
    "data.sum()"
   ]
  },
  {
   "cell_type": "markdown",
   "id": "2664ca99",
   "metadata": {},
   "source": [
    "In addition to min, max, and sum, you get all the greats like mean to get the average, prod to get the result of multiplying all the elements together, std to get standard deviation, and [plenty of others](https://jakevdp.github.io/PythonDataScienceHandbook/02.04-computation-on-arrays-aggregates.html).\n",
    "\n",
    "## 2 dimensions :: 2D\n",
    "\n",
    "All the examples so far shown deal with vectors in one dimension. A key part of the beauty of NumPy is its ability to apply these operations to any number of dimensions.\n",
    "\n",
    "### Creating Matrices\n",
    "\n",
    "We can pass python lists of lists in the following shape to have NumPy create a matrix to represent them:\n",
    "\n",
    "![array_create_2d](img/numpy-array-create-2d.png)"
   ]
  },
  {
   "cell_type": "code",
   "execution_count": 33,
   "id": "c583d75d",
   "metadata": {},
   "outputs": [
    {
     "data": {
      "text/plain": [
       "array([[1, 2],\n",
       "       [3, 4]])"
      ]
     },
     "execution_count": 33,
     "metadata": {},
     "output_type": "execute_result"
    }
   ],
   "source": [
    "np.array([[1, 2], [3, 4]])"
   ]
  },
  {
   "cell_type": "markdown",
   "id": "ec0aeaed",
   "metadata": {},
   "source": [
    "The same methods mentioned above (ones(), zeros(), and random.random()) can be used to create multi-dimentional arrays, as long as we give them a tuple describing the dimensions of the matrix we are creating:\n",
    "\n",
    "![mattrix_ones_zeros](img/numpy-matrix-ones-zeros-random.png)"
   ]
  },
  {
   "cell_type": "code",
   "execution_count": 34,
   "id": "89804a7c",
   "metadata": {},
   "outputs": [
    {
     "data": {
      "text/plain": [
       "array([[1., 1.],\n",
       "       [1., 1.],\n",
       "       [1., 1.]])"
      ]
     },
     "execution_count": 34,
     "metadata": {},
     "output_type": "execute_result"
    }
   ],
   "source": [
    "np.ones((3, 2))"
   ]
  },
  {
   "cell_type": "code",
   "execution_count": 35,
   "id": "e8b0009f",
   "metadata": {},
   "outputs": [
    {
     "data": {
      "text/plain": [
       "array([[0., 0.],\n",
       "       [0., 0.],\n",
       "       [0., 0.]])"
      ]
     },
     "execution_count": 35,
     "metadata": {},
     "output_type": "execute_result"
    }
   ],
   "source": [
    "np.zeros((3, 2))"
   ]
  },
  {
   "cell_type": "code",
   "execution_count": 37,
   "id": "d0dec0e9",
   "metadata": {},
   "outputs": [
    {
     "data": {
      "text/plain": [
       "array([[0.82630354, 0.08662493],\n",
       "       [0.9852385 , 0.84994476],\n",
       "       [0.49167097, 0.8544155 ]])"
      ]
     },
     "execution_count": 37,
     "metadata": {},
     "output_type": "execute_result"
    }
   ],
   "source": [
    "np.random.random((3, 2))"
   ]
  },
  {
   "cell_type": "markdown",
   "id": "7dd94cf6",
   "metadata": {},
   "source": [
    "Iterating over multidimensional arrays is done with respect to the first axis:"
   ]
  },
  {
   "cell_type": "code",
   "execution_count": 106,
   "id": "af5cd280",
   "metadata": {},
   "outputs": [
    {
     "name": "stdout",
     "output_type": "stream",
     "text": [
      "[0.53401533 0.51058443]\n",
      "[0.29770069 0.61887417]\n",
      "[0.21380881 0.27476924]\n"
     ]
    }
   ],
   "source": [
    "for row in np.random.random((3, 2)):\n",
    "    print(row)"
   ]
  },
  {
   "cell_type": "markdown",
   "id": "acbd792f",
   "metadata": {},
   "source": [
    "However, if one wants to perform an operation on each element in the array, one can use the `flat` attribute which is an iterator over all the elements of the array:"
   ]
  },
  {
   "cell_type": "code",
   "execution_count": 107,
   "id": "4196cf53",
   "metadata": {},
   "outputs": [
    {
     "name": "stdout",
     "output_type": "stream",
     "text": [
      "0.7502288946545267\n",
      "0.49038170326113784\n",
      "0.18011613541799254\n",
      "0.2409503014568425\n",
      "0.2866269035260519\n",
      "0.10961356273237899\n"
     ]
    }
   ],
   "source": [
    "for item in np.random.random((3, 2)).flat:\n",
    "    print(item)"
   ]
  },
  {
   "cell_type": "markdown",
   "id": "8077dbee",
   "metadata": {},
   "source": [
    "### Matrix Arithmetic\n",
    "\n",
    "Matrices can be added and multiplied using arithmetic operators (+-*/) if the two matrices are the same size. NumPy handles those as position-wise operations:\n",
    "\n",
    "![matrix_arith](img/numpy-matrix-arithmetic.png)"
   ]
  },
  {
   "cell_type": "code",
   "execution_count": 43,
   "id": "222d00d1",
   "metadata": {},
   "outputs": [
    {
     "data": {
      "text/plain": [
       "array([[2., 3.],\n",
       "       [4., 5.]])"
      ]
     },
     "execution_count": 43,
     "metadata": {},
     "output_type": "execute_result"
    }
   ],
   "source": [
    "data = np.array([[1, 2], [3, 4]])\n",
    "ones = np.ones((2, 2))\n",
    "\n",
    "data + ones"
   ]
  },
  {
   "cell_type": "markdown",
   "id": "71a21bb8",
   "metadata": {},
   "source": [
    "We can get away with doing these arithmetic operations on matrices of different size only if the different dimension is one (e.g. the matrix has only one column or one row), in which case NumPy uses its **broadcast** rules for that operation:\n",
    "\n",
    "![matrix_broadcast](img/numpy-matrix-broadcast.png)"
   ]
  },
  {
   "cell_type": "code",
   "execution_count": 47,
   "id": "3e8522f1",
   "metadata": {},
   "outputs": [
    {
     "data": {
      "text/plain": [
       "array([[2., 3.],\n",
       "       [4., 5.],\n",
       "       [6., 7.]])"
      ]
     },
     "execution_count": 47,
     "metadata": {},
     "output_type": "execute_result"
    }
   ],
   "source": [
    "data = np.array([[1, 2], [3, 4], [5, 6]])\n",
    "ones_row = np.ones(2)\n",
    "data + ones_row"
   ]
  },
  {
   "cell_type": "markdown",
   "id": "85bbdb89",
   "metadata": {},
   "source": [
    "### Dot Product\n",
    "\n",
    "A key distinction to make with arithmetic is the case of [matrix multiplication](https://www.mathsisfun.com/algebra/matrix-multiplying.html) using the dot product. NumPy gives every matrix a dot() method we can use to carry-out dot product operations with other matrices:\n",
    "\n",
    "![matrix_dot_product1](img/numpy-matrix-dot-product-1.png)\n",
    "\n",
    "Two matrices have to have the same dimension on the side they face each other with. You can visualize this operation as looking like this:\n",
    "\n",
    "![matrix_dot_product2](img/numpy-matrix-dot-product-2.png)"
   ]
  },
  {
   "cell_type": "code",
   "execution_count": 79,
   "id": "8520dd3a",
   "metadata": {},
   "outputs": [
    {
     "data": {
      "text/plain": [
       "array([ 30201, 302010])"
      ]
     },
     "execution_count": 79,
     "metadata": {},
     "output_type": "execute_result"
    }
   ],
   "source": [
    "data = np.arange(1, 4)\n",
    "power_of_ten = np.array([1, 10, 100, 1000, 10000, 100000]).reshape(3, 2)\n",
    "\n",
    "data.dot(power_of_ten)"
   ]
  },
  {
   "cell_type": "markdown",
   "id": "79f70acc",
   "metadata": {},
   "source": [
    "### Matrix Indexing\n",
    "\n",
    "Indexing and slicing operations become even more useful when manipulating matrices.\n",
    "\n",
    "![matrix_indexing1](img/numpy-matrix-indexing.png)"
   ]
  },
  {
   "cell_type": "code",
   "execution_count": 91,
   "id": "92f5025f",
   "metadata": {},
   "outputs": [
    {
     "data": {
      "text/plain": [
       "2"
      ]
     },
     "execution_count": 91,
     "metadata": {},
     "output_type": "execute_result"
    }
   ],
   "source": [
    "data = np.array([[1, 2], [3, 4], [5, 6]])\n",
    "\n",
    "data[0, 1]"
   ]
  },
  {
   "cell_type": "code",
   "execution_count": 92,
   "id": "045e79b8",
   "metadata": {},
   "outputs": [
    {
     "data": {
      "text/plain": [
       "array([[3, 4],\n",
       "       [5, 6]])"
      ]
     },
     "execution_count": 92,
     "metadata": {},
     "output_type": "execute_result"
    }
   ],
   "source": [
    "data[1:3]"
   ]
  },
  {
   "cell_type": "markdown",
   "id": "bcd0a95d",
   "metadata": {},
   "source": [
    "### Matrix Aggregation\n",
    "\n",
    "Matrices can be agregated the same way vectors can:\n",
    "\n",
    "![matrix_agregation1](img/numpy-matrix-aggregation-1.png)\n",
    "\n",
    "Not only can we aggregate all the values in a matrix, but we can also aggregate across the rows or columns by using the axis parameter:\n",
    "\n",
    "![matrix_agregation2](img/numpy-matrix-aggregation-4.png)"
   ]
  },
  {
   "cell_type": "code",
   "execution_count": 93,
   "id": "f9678968",
   "metadata": {},
   "outputs": [
    {
     "data": {
      "text/plain": [
       "6"
      ]
     },
     "execution_count": 93,
     "metadata": {},
     "output_type": "execute_result"
    }
   ],
   "source": [
    "data.max()"
   ]
  },
  {
   "cell_type": "code",
   "execution_count": 94,
   "id": "5b77859f",
   "metadata": {},
   "outputs": [
    {
     "data": {
      "text/plain": [
       "1"
      ]
     },
     "execution_count": 94,
     "metadata": {},
     "output_type": "execute_result"
    }
   ],
   "source": [
    "data.min()"
   ]
  },
  {
   "cell_type": "code",
   "execution_count": 97,
   "id": "65f3c967",
   "metadata": {},
   "outputs": [
    {
     "data": {
      "text/plain": [
       "21"
      ]
     },
     "execution_count": 97,
     "metadata": {},
     "output_type": "execute_result"
    }
   ],
   "source": [
    "data.sum()"
   ]
  },
  {
   "cell_type": "markdown",
   "id": "835d4f23",
   "metadata": {},
   "source": [
    "### Transposing and Reshaping\n",
    "\n",
    "A common need when dealing with matrices is the need to rotate them. This is often the case when we need to take the dot product of two matrices and need to align the dimension they share. NumPy arrays have a convenient property called T to get the transpose of a matrix:\n",
    "\n",
    "![traspose1](img/numpy-transpose.png)"
   ]
  },
  {
   "cell_type": "code",
   "execution_count": 108,
   "id": "d31fb01a",
   "metadata": {},
   "outputs": [
    {
     "data": {
      "text/plain": [
       "array([[1, 2],\n",
       "       [3, 4],\n",
       "       [5, 6]])"
      ]
     },
     "execution_count": 108,
     "metadata": {},
     "output_type": "execute_result"
    }
   ],
   "source": [
    "data"
   ]
  },
  {
   "cell_type": "code",
   "execution_count": 109,
   "id": "daaa57c5",
   "metadata": {},
   "outputs": [
    {
     "data": {
      "text/plain": [
       "array([[1, 3, 5],\n",
       "       [2, 4, 6]])"
      ]
     },
     "execution_count": 109,
     "metadata": {},
     "output_type": "execute_result"
    }
   ],
   "source": [
    "data.T"
   ]
  },
  {
   "cell_type": "markdown",
   "id": "045b0f5a",
   "metadata": {},
   "source": [
    "In more advanced use case, you may find yourself needing to switch the dimensions of a certain matrix. This is often the case in machine learning applications where a certain model expects a certain shape for the inputs that is different from your dataset. NumPy’s `reshape()` method is useful in these cases. You just pass it the new dimensions you want for the matrix. You can pass -1 for a dimension and NumPy can infer the correct dimension based on your matrix:\n",
    "\n",
    "![reshape1](img/numpy-reshape.png)"
   ]
  },
  {
   "cell_type": "code",
   "execution_count": 111,
   "id": "5a0a3066",
   "metadata": {},
   "outputs": [
    {
     "data": {
      "text/plain": [
       "array([1, 2, 3, 4, 5, 6])"
      ]
     },
     "execution_count": 111,
     "metadata": {},
     "output_type": "execute_result"
    }
   ],
   "source": [
    "data = np.arange(1, 7)\n",
    "data"
   ]
  },
  {
   "cell_type": "code",
   "execution_count": 112,
   "id": "c3159373",
   "metadata": {},
   "outputs": [
    {
     "data": {
      "text/plain": [
       "array([[1, 2, 3],\n",
       "       [4, 5, 6]])"
      ]
     },
     "execution_count": 112,
     "metadata": {},
     "output_type": "execute_result"
    }
   ],
   "source": [
    "data.reshape(2, 3)"
   ]
  },
  {
   "cell_type": "code",
   "execution_count": 113,
   "id": "90b84223",
   "metadata": {},
   "outputs": [
    {
     "data": {
      "text/plain": [
       "array([[1, 2],\n",
       "       [3, 4],\n",
       "       [5, 6]])"
      ]
     },
     "execution_count": 113,
     "metadata": {},
     "output_type": "execute_result"
    }
   ],
   "source": [
    "data.reshape(3, 2)"
   ]
  },
  {
   "cell_type": "markdown",
   "id": "6d587805",
   "metadata": {},
   "source": [
    "### Yet More Dimensions\n",
    "\n",
    "NumPy can do everything mentioned in any number of dimensions. Its central data structure is called ndarray (N-Dimensional Array) for a reason.\n",
    "\n",
    "![3d_array1](img/numpy-3d-array.png)"
   ]
  },
  {
   "cell_type": "code",
   "execution_count": 114,
   "id": "bcabbcca",
   "metadata": {},
   "outputs": [
    {
     "data": {
      "text/plain": [
       "array([[[1, 2],\n",
       "        [3, 4]],\n",
       "\n",
       "       [[5, 6],\n",
       "        [7, 8]]])"
      ]
     },
     "execution_count": 114,
     "metadata": {},
     "output_type": "execute_result"
    }
   ],
   "source": [
    "np.array([\n",
    "    [\n",
    "        [1, 2], [3, 4]\n",
    "    ],\n",
    "    [\n",
    "        [5, 6], [7, 8]\n",
    "    ]\n",
    "])"
   ]
  },
  {
   "cell_type": "markdown",
   "id": "b32691c6",
   "metadata": {},
   "source": [
    "Dealing with a new dimension is just adding a comma to the parameters of a NumPy function:\n",
    "\n",
    "![3d_creation1](img/numpy-3d-array-creation.png)"
   ]
  },
  {
   "cell_type": "markdown",
   "id": "8fb2f140",
   "metadata": {},
   "source": [
    "## Practical Usage\n",
    "\n",
    "Next are some examples of the useful things NumPy will help you through.\n",
    "\n",
    "### Formulas\n",
    "\n",
    "Implementing mathematical formulas that work on matrices and vectors is a key use case to consider NumPy for. It’s why NumPy is the darling of the scientific python community. For example, consider the mean square error formula that is central to supervised machine learning models tackling regression problems:\n",
    "\n",
    "![mean_sq_formula1](img/mean-square-error-formula.png)\n",
    "\n",
    "Implementing this is a breeze in NumPy:\n",
    "\n",
    "![mean_sq_formula2](img/numpy-mean-square-error-formula.png)\n",
    "\n",
    "The beauty of this is that numpy does not care if predictions and labels contain one or a thousand values (as long as they’re both the same size). \n",
    "\n",
    "Let's walk through an example stepping sequentially through the four operations in that line of code:\n",
    "\n",
    "![mean_sq_formula3](img/numpy-mse-1.png)\n",
    "\n",
    "Both the predictions and labels vectors contain three values. Which means n has a value of three. After we carry out the subtraction, we end up with the values looking like this:\n",
    "\n",
    "![mean_sq_formula4](img/numpy-mse-2.png)\n",
    "\n",
    "Then we can square the values in the vector:\n",
    "\n",
    "![mean_sq_formula5](img/numpy-mse-3.png)\n",
    "\n",
    "Now we sum these values:\n",
    "\n",
    "![mean_sq_formula6](img/numpy-mse-4.png)\n",
    "\n",
    "Which results in the error value for that prediction and a score for the quality of the model.\n",
    "\n",
    "### Data Representation\n",
    "\n",
    "Think of all the data types you’ll need to crunch and build models around (spreadsheets, images, audio…etc). So many of them are perfectly suited for representation in an n-dimensional array:\n",
    "Tables and Spreadsheets\n",
    "\n",
    "A spreadsheet or a table of values is a two dimensional matrix. Each sheet in a spreadsheet can be its own variable. The most popular abstraction in python for those is the pandas dataframe, which actually uses NumPy and builds on top of it.\n",
    "\n",
    "![data_rep](img/excel-to-pandas.png)\n",
    "\n",
    "### Audio and Timeseries\n",
    "\n",
    "An audio file is a one-dimensional array of samples. Each sample is a number representing a tiny chunk of the audio signal. CD-quality audio may have 44,100 samples per second and each sample is an integer between -32767 and 32768. Meaning if you have a ten-seconds WAVE file of CD-quality, you can load it in a NumPy array with length 10 * 44,100 = 441,000 samples. Want to extract the first second of audio? simply load the file into a NumPy array that we’ll call audio, and get audio[:44100].\n",
    "\n",
    "Here’s a look at a slice of an audio file:\n",
    "\n",
    "\n",
    "![audio1](img/numpy-audio.png)\n",
    "\n",
    "The same goes for time-series data; for example, the price of a stock over time.\n",
    "\n",
    "### Images\n",
    "\n",
    "An image is a matrix of pixels of size (height x width).\n",
    "\n",
    "If the image is black and white (a.k.a. grayscale), each pixel can be represented by a single number (commonly between 0 (black) and 255 (white)). Want to crop the top left 10 x 10 pixel part of the image? Just tell NumPy to get you `image[:10,:10]`.\n",
    "\n",
    "Here’s a look at a slice of an image file:\n",
    "\n",
    "![numpy-grayscale-image](img/numpy-grayscale-image.png)\n",
    "\n",
    "If the image is colored, then each pixel is represented by three numbers - a value for each of red, green, and blue. In that case we need a 3rd dimension (because each cell can only contain one number). So a colored image is represented by an ndarray of dimensions: (height x width x 3).\n",
    "\n",
    "![numpy-color-image](img/numpy-color-image.png)"
   ]
  },
  {
   "cell_type": "markdown",
   "id": "8b5afa81",
   "metadata": {},
   "source": [
    "This content is based on Alammar, J (2018). [A Visual Intro to NumPy and Data Representation](https://jalammar.github.io/visual-numpy/)"
   ]
  }
 ],
 "metadata": {
  "kernelspec": {
   "display_name": "Python 3 (ipykernel)",
   "language": "python",
   "name": "python3"
  },
  "language_info": {
   "codemirror_mode": {
    "name": "ipython",
    "version": 3
   },
   "file_extension": ".py",
   "mimetype": "text/x-python",
   "name": "python",
   "nbconvert_exporter": "python",
   "pygments_lexer": "ipython3",
   "version": "3.10.6"
  }
 },
 "nbformat": 4,
 "nbformat_minor": 5
}
