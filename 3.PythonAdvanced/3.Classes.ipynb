{
 "cells": [
  {
   "cell_type": "markdown",
   "id": "23744582",
   "metadata": {},
   "source": [
    "# Python Scopes and Namespaces\n",
    "\n",
    "## Namespaces\n",
    "\n",
    "A namespace is a mapping from names to objects. Examples of namespaces are: the set of built-in names (containing functions such as abs(), and built-in exception names); the global names in a module; and the local names in a function invocation. The important thing to know about namespaces is that there is absolutely no relation between names in different namespaces; for instance, two different modules may both define a function maximize without confusion — users of the modules must prefix it with the module name.\n",
    "\n",
    "Namespaces are created at different moments and have different lifetimes. The namespace containing the built-in names is created when the Python interpreter starts up, and is never deleted. The global namespace for a module is created when the module definition is read in. The local namespace for a function is created when the function is called, and deleted when the function returns or raises an exception that is not handled within the function.\n",
    "\n",
    "## Scopes\n",
    "\n",
    "A scope is a textual region of a Python program where a namespace is directly accessible. “Directly accessible” here means that an unqualified reference to a name attempts to find the name in the namespace."
   ]
  },
  {
   "cell_type": "code",
   "execution_count": 3,
   "id": "05012ebb",
   "metadata": {},
   "outputs": [
    {
     "name": "stdout",
     "output_type": "stream",
     "text": [
      "from module\n",
      "from g()\n",
      "from f()\n",
      "from module\n"
     ]
    }
   ],
   "source": [
    "val = \"from module\"\n",
    "\n",
    "def f():\n",
    "    def g():\n",
    "        val = \"from g()\"\n",
    "        print(val)\n",
    "        \n",
    "    val = \"from f()\"\n",
    "    g()\n",
    "    print(val)\n",
    "\n",
    "print(val)\n",
    "f()\n",
    "print(val)"
   ]
  },
  {
   "cell_type": "markdown",
   "id": "9305514e",
   "metadata": {},
   "source": [
    " # Classes\n",
    " \n",
    "Classes provide a means of bundling data and functionality together. Creating a new class creates a new type of object, allowing new instances of that type to be made. Each class instance can have attributes attached to it for maintaining its state. Class instances can also have methods (defined by its class) for modifying its state.\n",
    "\n",
    "Python classes provide all the standard features of Object Oriented Programming: the class inheritance mechanism allows multiple base classes, a derived class can override any methods of its base class or classes, and a method can call the method of a base class with the same name. Objects can contain arbitrary amounts and kinds of data. As is true for modules, classes partake of the dynamic nature of Python: they are created at runtime, and can be modified further after creation.\n",
    "\n",
    "Class members, including the data members, are public. There are no shorthands for referencing the object’s members from its methods: the method function is declared with an explicit first argument representing the object, which is provided implicitly by the call. Classes themselves are objects. This provides semantics for importing and renaming. Built-in types can be used as base classes for extension by the user. Also, most built-in operators with special syntax (arithmetic operators, subscripting etc.) can be redefined for class instances.\n",
    "\n",
    "## Class Objects\n",
    "\n",
    "Class objects support two kinds of operations: attribute references and instantiation.\n",
    "\n",
    "Attribute references use the standard syntax used for all attribute references in Python: obj.name."
   ]
  },
  {
   "cell_type": "code",
   "execution_count": 14,
   "id": "03941be2",
   "metadata": {},
   "outputs": [],
   "source": [
    "class Dog:\n",
    "    \"\"\"A simple example class\"\"\"\n",
    "    \n",
    "    kind = 'canine'\n",
    "    \n",
    "    def sound(self):\n",
    "        print('bark')"
   ]
  },
  {
   "cell_type": "markdown",
   "id": "6f3f31d8",
   "metadata": {},
   "source": [
    "Class instantiation uses function notation. Just pretend that the class object is a parameterless function that returns a new instance of the class."
   ]
  },
  {
   "cell_type": "code",
   "execution_count": 15,
   "id": "6c7c9e2c",
   "metadata": {},
   "outputs": [
    {
     "data": {
      "text/plain": [
       "__main__.Dog"
      ]
     },
     "execution_count": 15,
     "metadata": {},
     "output_type": "execute_result"
    }
   ],
   "source": [
    "d = Dog()\n",
    "\n",
    "type(d)"
   ]
  },
  {
   "cell_type": "code",
   "execution_count": 16,
   "id": "72ef2311",
   "metadata": {},
   "outputs": [
    {
     "name": "stdout",
     "output_type": "stream",
     "text": [
      "bark\n"
     ]
    }
   ],
   "source": [
    "d.sound()"
   ]
  },
  {
   "cell_type": "code",
   "execution_count": 17,
   "id": "cb83a668",
   "metadata": {},
   "outputs": [
    {
     "data": {
      "text/plain": [
       "'canine'"
      ]
     },
     "execution_count": 17,
     "metadata": {},
     "output_type": "execute_result"
    }
   ],
   "source": [
    "d.kind"
   ]
  },
  {
   "cell_type": "markdown",
   "id": "41eda031",
   "metadata": {},
   "source": [
    "The instantiation operation (“calling” a class object) creates an empty object. Many classes like to create objects with instances customized to a specific initial state. Therefore a class may define a special method named `__init__()`, like this:"
   ]
  },
  {
   "cell_type": "code",
   "execution_count": 24,
   "id": "8e9c5da7",
   "metadata": {},
   "outputs": [
    {
     "name": "stdout",
     "output_type": "stream",
     "text": [
      "pichu\n",
      "bark\n"
     ]
    }
   ],
   "source": [
    "class NamedDog:\n",
    "    \"\"\"A simple example class\"\"\"\n",
    "    \n",
    "    kind = 'canine'\n",
    "    \n",
    "    def __init__(self, name):\n",
    "        self.name = name\n",
    "    \n",
    "    def sound(self):\n",
    "        print('bark')\n",
    "        \n",
    "pichu = NamedDog(\"pichu\")\n",
    "\n",
    "print(pichu.name)\n",
    "pichu.sound()"
   ]
  },
  {
   "cell_type": "markdown",
   "id": "84945b9b",
   "metadata": {},
   "source": [
    "The only operations understood by instance objects are attribute references. There are two kinds of valid attribute names: data attributes `pichu.name` and methods `pichu.sound()`.\n",
    "\n",
    "Data attributes need not be declared; like local variables, they spring into existence when they are first assigned to."
   ]
  },
  {
   "cell_type": "code",
   "execution_count": 26,
   "id": "fd93519e",
   "metadata": {},
   "outputs": [
    {
     "data": {
      "text/plain": [
       "'Brittany'"
      ]
     },
     "execution_count": 26,
     "metadata": {},
     "output_type": "execute_result"
    }
   ],
   "source": [
    "pichu.breed = \"Brittany\"\n",
    "\n",
    "pichu.breed"
   ]
  },
  {
   "cell_type": "code",
   "execution_count": 27,
   "id": "6b4310ea",
   "metadata": {},
   "outputs": [
    {
     "ename": "NameError",
     "evalue": "name 'NamedDoc' is not defined",
     "output_type": "error",
     "traceback": [
      "\u001B[0;31m---------------------------------------------------------------------------\u001B[0m",
      "\u001B[0;31mNameError\u001B[0m                                 Traceback (most recent call last)",
      "Cell \u001B[0;32mIn[27], line 1\u001B[0m\n\u001B[0;32m----> 1\u001B[0m mako \u001B[38;5;241m=\u001B[39m \u001B[43mNamedDoc\u001B[49m(\u001B[38;5;124m'\u001B[39m\u001B[38;5;124mMako\u001B[39m\u001B[38;5;124m'\u001B[39m)\n\u001B[1;32m      3\u001B[0m mako\u001B[38;5;241m.\u001B[39mbreed\n",
      "\u001B[0;31mNameError\u001B[0m: name 'NamedDoc' is not defined"
     ]
    }
   ],
   "source": [
    "mako = NamedDoc('Mako')\n",
    "\n",
    "mako.breed"
   ]
  },
  {
   "cell_type": "markdown",
   "id": "ac6b9daf",
   "metadata": {},
   "source": [
    "## Inheritance\n",
    "\n",
    "It is a mechanism where you can to derive a class from another class for a hierarchy of classes that share a set of attributes and methods.\n",
    "You can use it to declare different kinds of exceptions, add custom logic to existing frameworks, and even map your domain model to a database."
   ]
  },
  {
   "cell_type": "code",
   "execution_count": 44,
   "id": "3b080306",
   "metadata": {},
   "outputs": [
    {
     "data": {
      "text/plain": [
       "'bark'"
      ]
     },
     "execution_count": 44,
     "metadata": {},
     "output_type": "execute_result"
    }
   ],
   "source": [
    "class Animal:\n",
    "    pass\n",
    "\n",
    "class Dog(Animal):\n",
    "    kind = 'canine'\n",
    "    \n",
    "    def __init__(self, name):\n",
    "        self.name = name\n",
    "        \n",
    "    def sound(self):\n",
    "        return 'bark'\n",
    "        \n",
    "d = Dog(\"Chancho\")\n",
    "\n",
    "d.sound()"
   ]
  },
  {
   "cell_type": "code",
   "execution_count": 35,
   "id": "917280a7",
   "metadata": {},
   "outputs": [
    {
     "data": {
      "text/plain": [
       "True"
      ]
     },
     "execution_count": 35,
     "metadata": {},
     "output_type": "execute_result"
    }
   ],
   "source": [
    "issubclass(Dog, Animal)"
   ]
  },
  {
   "cell_type": "code",
   "execution_count": 30,
   "id": "4b37b9e3",
   "metadata": {},
   "outputs": [
    {
     "data": {
      "text/plain": [
       "True"
      ]
     },
     "execution_count": 30,
     "metadata": {},
     "output_type": "execute_result"
    }
   ],
   "source": [
    "isinstance(d, Dog)"
   ]
  },
  {
   "cell_type": "code",
   "execution_count": 31,
   "id": "3162ae42",
   "metadata": {},
   "outputs": [
    {
     "data": {
      "text/plain": [
       "True"
      ]
     },
     "execution_count": 31,
     "metadata": {},
     "output_type": "execute_result"
    }
   ],
   "source": [
    "isinstance(d, Animal)"
   ]
  },
  {
   "cell_type": "code",
   "execution_count": 32,
   "id": "90776daf",
   "metadata": {},
   "outputs": [
    {
     "data": {
      "text/plain": [
       "True"
      ]
     },
     "execution_count": 32,
     "metadata": {},
     "output_type": "execute_result"
    }
   ],
   "source": [
    "d.__class__ is Dog"
   ]
  },
  {
   "cell_type": "markdown",
   "id": "ca489db5",
   "metadata": {},
   "source": [
    "Usually base classes provides general behavoius that childs reuse and extends. "
   ]
  },
  {
   "cell_type": "code",
   "execution_count": 45,
   "id": "e747c730",
   "metadata": {},
   "outputs": [
    {
     "data": {
      "text/plain": [
       "'bark'"
      ]
     },
     "execution_count": 45,
     "metadata": {},
     "output_type": "execute_result"
    }
   ],
   "source": [
    "class Animal:\n",
    "    kind = None\n",
    "    \n",
    "    def __init__(self, sound=None):\n",
    "        self.__sound = sound\n",
    "    \n",
    "    def sound(self):\n",
    "        return self.__sound\n",
    "\n",
    "class Dog(Animal):\n",
    "    kind = 'canine'\n",
    "    \n",
    "    def __init__(self, name):\n",
    "        super(Dog, self).__init__('bark')\n",
    "        self.name = name\n",
    "        \n",
    "d = Dog(\"Chancho\")\n",
    "\n",
    "d.sound()"
   ]
  },
  {
   "cell_type": "markdown",
   "id": "0e4de66c",
   "metadata": {},
   "source": [
    "# Duck typing\n",
    "\n",
    "Duck Typing is a type system used in dynamic languages. For example, Python, Perl, Ruby, PHP, Javascript, etc. where the type or the class of an object is less important than the method it defines. Using Duck Typing, we do not check types at all. Instead, we check for the presence of a given method or attribute.\n",
    "\n",
    "The name Duck Typing comes from the phrase:\n",
    "\n",
    "> “If it looks like a duck and quacks like a duck, it’s a duck”"
   ]
  },
  {
   "cell_type": "code",
   "execution_count": 46,
   "id": "65d46216",
   "metadata": {},
   "outputs": [],
   "source": [
    "def ducks_processor(duck):\n",
    "    duck.check_look()\n",
    "    duck.quak()\n",
    "\n",
    "class Duck:\n",
    "    def check_look(self):\n",
    "        print('🦆')\n",
    "        \n",
    "    def quak(self):\n",
    "        print('quak')\n",
    "\n",
    "class Mock:\n",
    "    def check_look(self):\n",
    "        print('🐔')\n",
    "        \n",
    "    def quak(self):\n",
    "        print('quak?')"
   ]
  },
  {
   "cell_type": "code",
   "execution_count": 47,
   "id": "41c2457d",
   "metadata": {},
   "outputs": [
    {
     "name": "stdout",
     "output_type": "stream",
     "text": [
      "🦆\n",
      "quak\n"
     ]
    }
   ],
   "source": [
    "d = Duck()\n",
    "\n",
    "ducks_processor(d)"
   ]
  },
  {
   "cell_type": "code",
   "execution_count": 49,
   "id": "24c1380b",
   "metadata": {},
   "outputs": [
    {
     "name": "stdout",
     "output_type": "stream",
     "text": [
      "🐔\n",
      "quak?\n"
     ]
    }
   ],
   "source": [
    "m = Mock()\n",
    "\n",
    "ducks_processor(m)"
   ]
  }
 ],
 "metadata": {
  "kernelspec": {
   "display_name": "Python 3 (ipykernel)",
   "language": "python",
   "name": "python3"
  },
  "language_info": {
   "codemirror_mode": {
    "name": "ipython",
    "version": 3
   },
   "file_extension": ".py",
   "mimetype": "text/x-python",
   "name": "python",
   "nbconvert_exporter": "python",
   "pygments_lexer": "ipython3",
   "version": "3.10.6"
  }
 },
 "nbformat": 4,
 "nbformat_minor": 5
}
