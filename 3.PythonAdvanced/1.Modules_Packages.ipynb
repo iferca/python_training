{
 "cells": [
  {
   "cell_type": "markdown",
   "id": "4d8d560c",
   "metadata": {},
   "source": [
    "# Modules\n",
    "\n",
    "If you want to write a somewhat longer program, you are better off using a text editor to prepare the input for the interpreter and running it with that file as input instead. This is known as creating a script. As your program gets longer, you may want to split it into several files for easier maintenance. You may also want to use a handy function that you’ve written in several programs without copying its definition into each program.\n",
    "\n",
    "To support this, Python has a way to put definitions in a file and use them in a script or in an interactive instance of the interpreter. Such a file is called a `module`; definitions from a module can be `imported` into other modules or into the main module (the collection of variables that you have access to in a script executed at the top level and in calculator mode).\n",
    "\n",
    "A module is a file containing Python definitions and statements. The file name is the module name with the suffix `.py` appended. Within a module, the module’s name (as a string) is available as the value of the global variable `__name__`."
   ]
  },
  {
   "cell_type": "code",
   "execution_count": 7,
   "id": "adeecc4d",
   "metadata": {},
   "outputs": [],
   "source": [
    "import fibo"
   ]
  },
  {
   "cell_type": "code",
   "execution_count": null,
   "id": "5293db16",
   "metadata": {},
   "outputs": [],
   "source": [
    "fibo.fib(10)"
   ]
  },
  {
   "cell_type": "code",
   "execution_count": 22,
   "id": "c1a0f879",
   "metadata": {},
   "outputs": [
    {
     "data": {
      "text/plain": [
       "[0, 1, 1, 2, 3, 5, 8]"
      ]
     },
     "execution_count": 22,
     "metadata": {},
     "output_type": "execute_result"
    }
   ],
   "source": [
    "fibo.fib2(10)"
   ]
  },
  {
   "cell_type": "markdown",
   "id": "684d578a",
   "metadata": {},
   "source": [
    "A module can contain executable statements as well as function definitions. These statements are intended to initialize the module. They are executed only the first time the module name is encountered in an import statement. They are also run if the file is executed as a script."
   ]
  },
  {
   "cell_type": "code",
   "execution_count": 8,
   "id": "a425920b",
   "metadata": {},
   "outputs": [
    {
     "data": {
      "text/plain": [
       "78"
      ]
     },
     "execution_count": 8,
     "metadata": {},
     "output_type": "execute_result"
    }
   ],
   "source": [
    "fibo.secret_value"
   ]
  },
  {
   "cell_type": "code",
   "execution_count": 18,
   "id": "d6885d18",
   "metadata": {},
   "outputs": [
    {
     "name": "stdout",
     "output_type": "stream",
     "text": [
      "0 1 1 2 3 5 8 \n"
     ]
    }
   ],
   "source": [
    "from fibo import fib, fib2\n",
    "\n",
    "fib(10)"
   ]
  },
  {
   "cell_type": "code",
   "execution_count": 19,
   "id": "94a5e649",
   "metadata": {},
   "outputs": [
    {
     "name": "stdout",
     "output_type": "stream",
     "text": [
      "0 1 1 2 3 5 8 \n"
     ]
    }
   ],
   "source": [
    "del(fib)\n",
    "del(fib2)\n",
    "\n",
    "from fibo import *\n",
    "\n",
    "fib(10)"
   ]
  },
  {
   "cell_type": "code",
   "execution_count": 20,
   "id": "fa0df58f",
   "metadata": {},
   "outputs": [
    {
     "name": "stdout",
     "output_type": "stream",
     "text": [
      "0 1 1 2 3 5 8 \n"
     ]
    }
   ],
   "source": [
    "from fibo import fib as fibonacci\n",
    "\n",
    "fibonacci(10)"
   ]
  },
  {
   "cell_type": "markdown",
   "id": "b8908cf3",
   "metadata": {},
   "source": [
    "## The Module Search Path\n",
    "\n",
    "When a module named `spam` is imported, the interpreter first searches for a built-in module with that name. These module names are listed in `sys.builtin_module_names`. If not found, it then searches for a file named `spam.py` in a list of directories given by the variable `sys.path`. `sys.path` is initialized from these locations:\n",
    "\n",
    "* The directory containing the input script (or the current directory when no file is specified).\n",
    "\n",
    "* PYTHONPATH (a list of directory names, with the same syntax as the shell variable PATH).\n",
    "\n",
    "* The installation-dependent default (by convention including a site-packages directory, handled by the site module).\n",
    "\n",
    "After initialization, Python programs can modify `sys.path`. The directory containing the script being run is placed at the beginning of the search path, ahead of the standard library path. This means that scripts in that directory will be loaded instead of modules of the same name in the library directory. This is an error unless the replacement is intended. See section Standard Modules for more information.\n",
    "\n",
    "# Packages\n",
    "\n",
    "Packages are a way of structuring Python’s module namespace by using “dotted module names”. For example, the module name `A.B` designates a submodule named `B` in a package named `A`.\n",
    "Suppose you want to design a collection of modules (a “package”) for the uniform handling of sound files and sound data. There are many different sound file formats (usually recognized by their extension, for example: .wav, .aiff, .au), so you may need to create and maintain a growing collection of modules for the conversion between the various file formats. There are also many different operations you might want to perform on sound data (such as mixing, adding echo, applying an equalizer function, creating an artificial stereo effect), so in addition you will be writing a never-ending stream of modules to perform these operations. Here’s a possible structure for your package (expressed in terms of a hierarchical filesystem):\n",
    "\n",
    "```\n",
    "sound/                          Top-level package\n",
    "      __init__.py               Initialize the sound package\n",
    "      formats/                  Subpackage for file format conversions\n",
    "              __init__.py\n",
    "              wavread.py\n",
    "              wavwrite.py\n",
    "              aiffread.py\n",
    "              aiffwrite.py\n",
    "              auread.py\n",
    "              auwrite.py\n",
    "              ...\n",
    "      effects/                  Subpackage for sound effects\n",
    "              __init__.py\n",
    "              echo.py\n",
    "              surround.py\n",
    "              reverse.py\n",
    "              ...\n",
    "      filters/                  Subpackage for filters\n",
    "              __init__.py\n",
    "              equalizer.py\n",
    "              vocoder.py\n",
    "              karaoke.py\n",
    "              ...\n",
    "```\n",
    "\n",
    "The `__init__.py` files are required to make Python treat directories containing the file as packages. This prevents directories with a common name, such as string, unintentionally hiding valid modules that occur later on the module search path. In the simplest case, `__init__.py` can just be an empty file, but it can also execute initialization code for the package or set the `__all__` variable. This is defined as a list of modules that will be imported when `import *` is used with that package."
   ]
  },
  {
   "cell_type": "markdown",
   "id": "3364ba92",
   "metadata": {},
   "source": [
    "`import sound.effects.echo`\n",
    "\n",
    "This loads the submodule, it must be referenced with its full name:\n",
    "\n",
    "`sound.effects.echo.echofilter(input, output, delay=0.7, atten=4)`\n",
    "\n",
    "An alternative way of importing the submodule is:\n",
    "\n",
    "`from sound.effects import echo`\n",
    "\n",
    "This also loads submodule echo, and makes it available without the package prefix:\n",
    "\n",
    "`echo.echofilter(input, output, delay=0.7, atten=4)`\n",
    "\n",
    "If the `sound/effects/__init__.py` file contains this:\n",
    "\n",
    "`__all__ = [\"echo\", \"surround\", \"reverse\"]`\n",
    "\n",
    "When importing effects as this: \n",
    "\n",
    "`from sound.effects import *`\n",
    "\n",
    "Only the listed modules will be referenced."
   ]
  }
 ],
 "metadata": {
  "kernelspec": {
   "display_name": "Python 3 (ipykernel)",
   "language": "python",
   "name": "python3"
  },
  "language_info": {
   "codemirror_mode": {
    "name": "ipython",
    "version": 3
   },
   "file_extension": ".py",
   "mimetype": "text/x-python",
   "name": "python",
   "nbconvert_exporter": "python",
   "pygments_lexer": "ipython3",
   "version": "3.10.6"
  }
 },
 "nbformat": 4,
 "nbformat_minor": 5
}
