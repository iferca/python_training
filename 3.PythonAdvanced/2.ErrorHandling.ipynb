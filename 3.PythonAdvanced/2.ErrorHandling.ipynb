{
 "cells": [
  {
   "cell_type": "markdown",
   "id": "b116b4a0",
   "metadata": {},
   "source": [
    "# Errors and Exceptions\n",
    "\n",
    "Until now error messages haven’t been more than mentioned, but if you have tried out the examples you have probably seen some. There are (at least) two distinguishable kinds of errors: syntax errors and exceptions.\n",
    "\n",
    "## Syntax Errors\n",
    "\n",
    "Syntax errors, also known as parsing errors, are perhaps the most common kind of complaint you get while you are still learning Python:"
   ]
  },
  {
   "cell_type": "code",
   "execution_count": 1,
   "id": "7777466e",
   "metadata": {},
   "outputs": [
    {
     "ename": "SyntaxError",
     "evalue": "invalid syntax (2884618176.py, line 1)",
     "output_type": "error",
     "traceback": [
      "\u001B[0;36m  Cell \u001B[0;32mIn[1], line 1\u001B[0;36m\u001B[0m\n\u001B[0;31m    while True print('Hello world')\u001B[0m\n\u001B[0m               ^\u001B[0m\n\u001B[0;31mSyntaxError\u001B[0m\u001B[0;31m:\u001B[0m invalid syntax\n"
     ]
    }
   ],
   "source": [
    "while True print('Hello world')"
   ]
  },
  {
   "cell_type": "markdown",
   "id": "076540f6",
   "metadata": {},
   "source": [
    "The parser repeats the offending line and displays a little \"arrow\" (^) pointing at the earliest point in the line where the error was detected. The error is caused by (or at least detected at) the token preceding the arrow: in the example, the error is detected at the function print(), since a colon (':') is missing before it. File name and line number are printed so you know where to look in case the input came from a script.\n",
    "\n",
    "## Exceptions\n",
    "\n",
    "Even if a statement or expression is syntactically correct, it may cause an error when an attempt is made to execute it. Errors detected during execution are called **exceptions** and are not unconditionally fatal. Most exceptions are not handled by programs, however, and result in error messages."
   ]
  },
  {
   "cell_type": "code",
   "execution_count": 2,
   "id": "f6b40be6",
   "metadata": {},
   "outputs": [
    {
     "ename": "ZeroDivisionError",
     "evalue": "division by zero",
     "output_type": "error",
     "traceback": [
      "\u001B[0;31m---------------------------------------------------------------------------\u001B[0m",
      "\u001B[0;31mZeroDivisionError\u001B[0m                         Traceback (most recent call last)",
      "Cell \u001B[0;32mIn[2], line 1\u001B[0m\n\u001B[0;32m----> 1\u001B[0m \u001B[38;5;241m10\u001B[39m \u001B[38;5;241m*\u001B[39m (\u001B[38;5;241;43m1\u001B[39;49m\u001B[38;5;241;43m/\u001B[39;49m\u001B[38;5;241;43m0\u001B[39;49m)\n",
      "\u001B[0;31mZeroDivisionError\u001B[0m: division by zero"
     ]
    }
   ],
   "source": [
    "10 * (1/0)"
   ]
  },
  {
   "cell_type": "code",
   "execution_count": null,
   "id": "9725cc50",
   "metadata": {},
   "outputs": [],
   "source": [
    "4 + spam*3"
   ]
  },
  {
   "cell_type": "code",
   "execution_count": null,
   "id": "3bc6e03a",
   "metadata": {},
   "outputs": [],
   "source": [
    "'2' + 2"
   ]
  },
  {
   "cell_type": "markdown",
   "id": "fbe2c4c9",
   "metadata": {},
   "source": [
    "### Handling Exceptions\n",
    "\n",
    "Exceptions can be handled, in the same code that caused it or at any calling code."
   ]
  },
  {
   "cell_type": "code",
   "execution_count": 4,
   "id": "8778dc29",
   "metadata": {},
   "outputs": [
    {
     "name": "stdout",
     "output_type": "stream",
     "text": [
      "Please enter a number: 1\n"
     ]
    }
   ],
   "source": [
    "try:\n",
    "    float(input('Please enter a number: '))\n",
    "except ValueError:\n",
    "    print('That was not a number')"
   ]
  },
  {
   "cell_type": "code",
   "execution_count": 5,
   "id": "af190ec3",
   "metadata": {},
   "outputs": [
    {
     "name": "stdout",
     "output_type": "stream",
     "text": [
      "Please enter a number to divide 10 by: 1\n"
     ]
    }
   ],
   "source": [
    "try:\n",
    "    x = float(input('Please enter a number to divide 10 by: '))\n",
    "    10/x\n",
    "except ValueError:\n",
    "    print('That was not a number')\n",
    "except ZeroDivisionError:\n",
    "    print('That was not the best option...')"
   ]
  },
  {
   "cell_type": "code",
   "execution_count": 29,
   "id": "8140a16a",
   "metadata": {},
   "outputs": [
    {
     "name": "stdout",
     "output_type": "stream",
     "text": [
      "Please enter a number to divide 10 by: 1\n",
      "all went OK!\n"
     ]
    }
   ],
   "source": [
    "try:\n",
    "    x = float(input('Please enter a number to divide 10 by: '))\n",
    "    10/x\n",
    "except (ValueError, ZeroDivisionError) as e:\n",
    "    print(e)\n",
    "else:\n",
    "    print('all went OK!')"
   ]
  },
  {
   "cell_type": "code",
   "execution_count": 6,
   "id": "395d23e3",
   "metadata": {},
   "outputs": [
    {
     "name": "stdout",
     "output_type": "stream",
     "text": [
      "Please enter a number to divide 10 by: 1\n",
      "I am inevitable...\n"
     ]
    }
   ],
   "source": [
    "try:\n",
    "    x = float(input('Please enter a number to divide 10 by: '))\n",
    "    10/x\n",
    "except (ValueError, ZeroDivisionError) as e:\n",
    "    print(e)\n",
    "finally:\n",
    "    print('I am inevitable...')"
   ]
  },
  {
   "cell_type": "code",
   "execution_count": null,
   "id": "f17ce644",
   "metadata": {},
   "outputs": [],
   "source": [
    "try:\n",
    "    x = float(input('Please enter a number to divide 10 by: '))\n",
    "    10/x\n",
    "except Exception as e:\n",
    "    raise"
   ]
  },
  {
   "cell_type": "code",
   "execution_count": 34,
   "id": "6fa6e806",
   "metadata": {},
   "outputs": [
    {
     "name": "stdout",
     "output_type": "stream",
     "text": [
      "Please enter a number to divide 10 by: a\n"
     ]
    }
   ],
   "source": [
    "try:\n",
    "    x = float(input('Please enter a number to divide 10 by: '))\n",
    "    10/x\n",
    "except Exception:\n",
    "    pass"
   ]
  },
  {
   "cell_type": "markdown",
   "id": "edad9a0a",
   "metadata": {},
   "source": [
    "### Rising Exceptions\n",
    "\n",
    "The `raise` statement allows the programmer to force a specified exception to occur."
   ]
  },
  {
   "cell_type": "code",
   "execution_count": 7,
   "id": "e56a2a43",
   "metadata": {},
   "outputs": [
    {
     "ename": "NameError",
     "evalue": "Exception message",
     "output_type": "error",
     "traceback": [
      "\u001B[0;31m---------------------------------------------------------------------------\u001B[0m",
      "\u001B[0;31mNameError\u001B[0m                                 Traceback (most recent call last)",
      "Cell \u001B[0;32mIn[7], line 1\u001B[0m\n\u001B[0;32m----> 1\u001B[0m \u001B[38;5;28;01mraise\u001B[39;00m \u001B[38;5;167;01mNameError\u001B[39;00m(\u001B[38;5;124m\"\u001B[39m\u001B[38;5;124mException message\u001B[39m\u001B[38;5;124m\"\u001B[39m)\n",
      "\u001B[0;31mNameError\u001B[0m: Exception message"
     ]
    }
   ],
   "source": [
    "raise NameError(\"Exception message\")"
   ]
  }
 ],
 "metadata": {
  "kernelspec": {
   "display_name": "Python 3 (ipykernel)",
   "language": "python",
   "name": "python3"
  },
  "language_info": {
   "codemirror_mode": {
    "name": "ipython",
    "version": 3
   },
   "file_extension": ".py",
   "mimetype": "text/x-python",
   "name": "python",
   "nbconvert_exporter": "python",
   "pygments_lexer": "ipython3",
   "version": "3.10.6"
  }
 },
 "nbformat": 4,
 "nbformat_minor": 5
}
