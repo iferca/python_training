{
 "cells": [
  {
   "cell_type": "markdown",
   "id": "38533564",
   "metadata": {},
   "source": [
    "# Iterators\n",
    "\n",
    "Most container objects can be looped over using a for statement. This style of access is clear, concise, and convenient. The use of iterators pervades and unifies Python. \n",
    "\n",
    "Behind the scenes, the for statement calls `iter()` on the container object. The function returns an iterator object that defines the method `__next__()` which accesses elements in the container one at a time. When there are no more elements, `__next__()` raises a `StopIteration` exception which tells the for loop to terminate. You can call the `__next__()` method using the next() built-in function; this example shows how it all works:"
   ]
  },
  {
   "cell_type": "code",
   "execution_count": 11,
   "id": "b12a8837",
   "metadata": {},
   "outputs": [
    {
     "data": {
      "text/plain": [
       "<str_iterator at 0x7fe1d4356350>"
      ]
     },
     "execution_count": 11,
     "metadata": {},
     "output_type": "execute_result"
    }
   ],
   "source": [
    "s = 'abs'\n",
    "\n",
    "it = iter(s)\n",
    "\n",
    "it"
   ]
  },
  {
   "cell_type": "code",
   "execution_count": 12,
   "id": "ab0850fd",
   "metadata": {},
   "outputs": [
    {
     "data": {
      "text/plain": [
       "'a'"
      ]
     },
     "execution_count": 12,
     "metadata": {},
     "output_type": "execute_result"
    }
   ],
   "source": [
    "next(it)"
   ]
  },
  {
   "cell_type": "markdown",
   "id": "3720fa2d",
   "metadata": {},
   "source": [
    "Having seen the mechanics behind the iterator protocol, it is easy to add iterator behavior to your classes. Define an `__iter__()` method which returns an object with a `__next__()` method. If the class defines `__next__()`, then `__iter__()` can just return self:"
   ]
  },
  {
   "cell_type": "code",
   "execution_count": 13,
   "id": "42f60d44",
   "metadata": {},
   "outputs": [],
   "source": [
    "class ReverseIterator:\n",
    "    \"\"\"Iterator for looping over a sequence backwards\"\"\"\n",
    "    def __init__(self, data):\n",
    "        self.__data = data\n",
    "        self.__index = len(data)\n",
    "        \n",
    "    def __iter__(self):\n",
    "        return self\n",
    "    \n",
    "    def __next__(self):\n",
    "        if self.__index == 0:\n",
    "            raise StopIteration\n",
    "        self.__index -= 1\n",
    "        return self.__data[self.__index]"
   ]
  },
  {
   "cell_type": "code",
   "execution_count": 14,
   "id": "7c97b1e2",
   "metadata": {},
   "outputs": [
    {
     "name": "stdout",
     "output_type": "stream",
     "text": [
      "n\n",
      "o\n",
      "o\n",
      "m\n"
     ]
    }
   ],
   "source": [
    "rev = ReverseIterator('moon')\n",
    "\n",
    "for c in rev:\n",
    "    print(c)"
   ]
  },
  {
   "cell_type": "markdown",
   "id": "4ab9938e",
   "metadata": {},
   "source": [
    "# Generators\n",
    "\n",
    "Generators are a simple and powerful tool for creating iterators. They are written like regular functions but use the `yield` statement whenever they want to return data. Each time `next()` is called on it, the generator resumes where it left off (it remembers all the data values and which statement was last executed). The following is a reimplementation of the ReverseIterator behavior using generator:"
   ]
  },
  {
   "cell_type": "code",
   "execution_count": 15,
   "id": "6744564e",
   "metadata": {},
   "outputs": [],
   "source": [
    "def reverse(data):\n",
    "    for i in range(len(data) - 1, -1, -1):\n",
    "        yield data[i]"
   ]
  },
  {
   "cell_type": "code",
   "execution_count": 16,
   "id": "5915a9c2",
   "metadata": {},
   "outputs": [
    {
     "name": "stdout",
     "output_type": "stream",
     "text": [
      "n\n",
      "o\n",
      "o\n",
      "m\n"
     ]
    }
   ],
   "source": [
    "for c in reverse('moon'):\n",
    "    print(c)"
   ]
  },
  {
   "cell_type": "markdown",
   "id": "5fd68113",
   "metadata": {},
   "source": [
    "# Comparable objects\n",
    "\n",
    "The same way that iterators use some methods with the form `__<name>__`, operator can be redefined for objects. Take the following example:"
   ]
  },
  {
   "cell_type": "code",
   "execution_count": 28,
   "id": "cc0e0a11",
   "metadata": {},
   "outputs": [],
   "source": [
    "class Coin:\n",
    "    def __init__(self, value):\n",
    "        self.__value = value\n",
    "        \n",
    "    def __gt__(self, other):\n",
    "        return self.__value > other.value()\n",
    "    \n",
    "    def __eq__(self, other):\n",
    "        return self.__value == other.value()\n",
    "        \n",
    "    def value(self):\n",
    "        return self.__value\n",
    "    \n",
    "c1 = Coin(5)\n",
    "c2 = Coin(10)\n",
    "c3 = Coin(5)"
   ]
  },
  {
   "cell_type": "code",
   "execution_count": 29,
   "id": "ad2ed426",
   "metadata": {},
   "outputs": [
    {
     "data": {
      "text/plain": [
       "True"
      ]
     },
     "execution_count": 29,
     "metadata": {},
     "output_type": "execute_result"
    }
   ],
   "source": [
    "c1 < c2"
   ]
  },
  {
   "cell_type": "code",
   "execution_count": 32,
   "id": "31c596d6",
   "metadata": {},
   "outputs": [
    {
     "data": {
      "text/plain": [
       "False"
      ]
     },
     "execution_count": 32,
     "metadata": {},
     "output_type": "execute_result"
    }
   ],
   "source": [
    "c1 > c2"
   ]
  },
  {
   "cell_type": "code",
   "execution_count": 33,
   "id": "d2fdc39b",
   "metadata": {},
   "outputs": [
    {
     "data": {
      "text/plain": [
       "True"
      ]
     },
     "execution_count": 33,
     "metadata": {},
     "output_type": "execute_result"
    }
   ],
   "source": [
    "c1 == c3"
   ]
  },
  {
   "cell_type": "code",
   "execution_count": 34,
   "id": "1a1694f5",
   "metadata": {},
   "outputs": [
    {
     "data": {
      "text/plain": [
       "False"
      ]
     },
     "execution_count": 34,
     "metadata": {},
     "output_type": "execute_result"
    }
   ],
   "source": [
    "c3 == c2"
   ]
  },
  {
   "cell_type": "markdown",
   "id": "ed47617c",
   "metadata": {},
   "source": [
    "# Operator overloading\n",
    "\n",
    "The methods that can be implemented to overload other operators for your objects is tabulated bellow:\n",
    "\n",
    "| Operator | Expression | Internally |\n",
    "|:---|:---|:--|\n",
    "| Addition | p1 + p2 | p1.\\__add\\__(p2) |\n",
    "| Subtraction | p1 - p2 | p1.\\__sub\\__(p2) |\n",
    "| Multiplication | p1 * p2 | p1.\\__mul\\__(p2) |\n",
    "| Power | p1 ** p2 | p1.\\__pow\\__(p2) |\n",
    "| Division | p1 / p2 | p1.\\__truediv\\__(p2) |\n",
    "| Floor Division | p1 // p2 | p1.\\__floordiv\\__(p2) |\n",
    "| Remainder (modulo) | p1 % p2 | p1.\\__mod\\__(p2) |\n",
    "| Bitwise Left Shift | p1 << p2 | p1.\\__lshift\\__(p2) |\n",
    "| Bitwise Right Shift | p1 >> p2 | p1.\\__rshift\\__(p2) |\n",
    "| Bitwise AND | p1 & p2 | p1.\\__and\\__(p2) |\n",
    "| Bitwise OR | p1 \\| p2 | p1.\\__or\\__(p2) |\n",
    "| Bitwise XOR | p1 ^ p2 | p1.\\__xor\\__(p2) |\n",
    "| Bitwise NOT | ~p1 | p1.\\__invert\\__() |\n",
    "| Less than | p1 < p2 | p1.\\__lt\\__(p2) |\n",
    "| Less than or equal to | p1 <= p2 | p1.\\__le\\__(p2) |\n",
    "| Equal to | p1 == p2 | p1.\\__eq\\__(p2) |\n",
    "| Not equal to | p1 != p2 | p1.\\__ne\\__(p2) |\n",
    "| Greater than | p1 > p2 | p1.\\__gt\\__(p2) |\n",
    "| Greater than or equal to | p1 >= p2 | p1.\\__ge\\__(p2) |"
   ]
  }
 ],
 "metadata": {
  "kernelspec": {
   "display_name": "Python 3 (ipykernel)",
   "language": "python",
   "name": "python3"
  },
  "language_info": {
   "codemirror_mode": {
    "name": "ipython",
    "version": 3
   },
   "file_extension": ".py",
   "mimetype": "text/x-python",
   "name": "python",
   "nbconvert_exporter": "python",
   "pygments_lexer": "ipython3",
   "version": "3.10.6"
  }
 },
 "nbformat": 4,
 "nbformat_minor": 5
}
