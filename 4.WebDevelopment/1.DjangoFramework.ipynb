{
 "cells": [
  {
   "cell_type": "markdown",
   "id": "e2601749",
   "metadata": {},
   "source": [
    "# Django Framework\n",
    "\n",
    "Django is a powerful Python Model View Controller (MVC) framework, although in the documentation it is referred as Model - Templae -View (MTV) framework, the two terms can be used and are the same.\n",
    "\n",
    "Because Django was developed in a fast-paced newsroom environment, it was designed to make common web development tasks fast and easy. It is very well documented, has a very active community, brings a rapid developent and deployment, there are thousands of packages, plugins and apps. \n",
    "\n",
    "Some very populas sites use Django as Instagram, Pinterest, NASA, National Geographic, Mozilla and The Guardian.\n",
    "\n",
    "## Django installation\n",
    "\n",
    "To install Django in your project or system, add the `Django` dependency or install it as usual. \n",
    "\n",
    "Adding `Django` to `requirements.txt` file will bring the latest version (desirable most of the time) and then: \n",
    "\n",
    "```\n",
    "pip install -r requirements.txt\n",
    "```\n",
    "\n",
    "You can also install it manually using: \n",
    "\n",
    "```\n",
    "pip install Django\n",
    "```\n",
    "\n",
    "Django version can be verified as follow in code: \n",
    "\n",
    "```\n",
    "import django\n",
    "\n",
    "print(django.get_version())\n",
    "```\n",
    "\n",
    "or using the following command: \n",
    "\n",
    "```\n",
    "python -m django --version\n",
    "```\n",
    "\n",
    "## Creating a project\n",
    "\n",
    "Django framework provides developers with some django-specific management functionalities like creating projects and applications, database migration and even provides a development server to run the project locally. \n",
    "\n",
    "To create a new django project named `mysite`, go to the desired directory and type the following command:\n",
    "\n",
    "```\n",
    "django-admin startproject mysite\n",
    "```\n",
    "\n",
    "this will create a `mysite` in your current direcory containing the following files and folders:\n",
    "\n",
    "```\n",
    ".\n",
    "└── mysite\n",
    "    ├── manage.py\n",
    "    └── mysite\n",
    "        ├── asgi.py\n",
    "        ├── __init__.py\n",
    "        ├── settings.py\n",
    "        ├── urls.py\n",
    "        └── wsgi.py\n",
    "```\n",
    "\n",
    "These files are:\n",
    "\n",
    "* The outer **mysite/** root directory is a container for your project. Its name doesn’t matter to Django; you can rename it to anything you like.\n",
    "* **manage.py**: A command-line utility that lets you interact with this Django project in various ways.\n",
    "* The inner **mysite/** directory is the actual Python package for your project. Its name is the Python package name you’ll need to use to import anything inside it (e.g. mysite.urls).\n",
    "* **mysite/settings.py**: Settings/configuration for this Django project. Django settings will tell you all about how settings work.\n",
    "* **mysite/urls.py**: The URL declarations for this Django project; a “table of contents” of your Django-powered site.\n",
    "\n",
    "## The development server\n",
    "\n",
    "Let’s verify your Django project works. Change into the outer **mysite** directory, if you haven’t already, and run the following commands:\n",
    "\n",
    "```\n",
    "python manage.py runserver\n",
    "```\n",
    "\n",
    "You’ve started the Django development server, a lightweight web server written purely in Python. It is included with Django so you can develop things rapidly, without having to deal with configuring a production server – such as Apache – until you’re ready for production.\n",
    "\n",
    "By default the server will listen for connection on the local interface, interface and port can be customized passing additional parameters to `runserver`: \n",
    "\n",
    "```\n",
    "python manage.py runserver 8080\n",
    "```\n",
    "\n",
    "```\n",
    "python manage.py runserver 0.0.0.0:8000\n",
    "```\n",
    "\n",
    "## Creating an app\n",
    "\n",
    "Now that your environment – a “project” – is set up, you’re set to start doing work.\n",
    "\n",
    "Each application you write in Django consists of a Python package that follows a certain convention. Django comes with an utility that automatically generates the basic directory structure of an app, so you can focus on writing code rather than creating directories.\n",
    "\n",
    "> **Projects vs. apps**\n",
    ">\n",
    "> What’s the difference between a project and an app? An app is a web application that does something – e.g., a blog system, a database of public records or a small greeter app. A project is a collection of configuration and apps for a particular website. A project can contain multiple apps. An app can be in multiple projects.\n",
    "\n",
    "Your apps can live anywhere on your Python path. For this example the let's create our app in the same directory as your manage.py file so that it can be imported as its own top-level module, rather than a submodule of mysite.\n",
    "\n",
    "To create your app, make sure you’re in the same directory as manage.py and type this command:\n",
    "\n",
    "```\n",
    "python manage.py startapp greeter\n",
    "```\n",
    "\n",
    "That will create a directory `greeter`, your folder project should look something like this:\n",
    "\n",
    "```\n",
    "mysite\n",
    "├── db.sqlite3\n",
    "├── greeter                     <---- This is the app\n",
    "│   ├── admin.py\n",
    "│   ├── apps.py\n",
    "│   ├── __init__.py\n",
    "│   ├── migrations\n",
    "│   │   └── __init__.py\n",
    "│   ├── models.py\n",
    "│   ├── __pycache__\n",
    "│   │   ├── __init__.cpython-310.pyc\n",
    "│   │   ├── urls.cpython-310.pyc\n",
    "│   │   └── views.cpython-310.pyc\n",
    "│   ├── tests.py\n",
    "│   ├── urls.py\n",
    "│   └── views.py\n",
    "├── manage.py\n",
    "└── mysite                      <--- This is the project\n",
    "    ├── asgi.py\n",
    "    ├── __init__.py\n",
    "    ├── __pycache__\n",
    "    │   ├── __init__.cpython-310.pyc\n",
    "    │   ├── settings.cpython-310.pyc\n",
    "    │   ├── urls.cpython-310.pyc\n",
    "    │   └── wsgi.cpython-310.pyc\n",
    "    ├── settings.py\n",
    "    ├── urls.py\n",
    "    └── wsgi.py\n",
    "\n",
    "```\n",
    "\n",
    "## Write your first view\n",
    "\n",
    "Let’s write the first view. Open the file `greeter/views.py` and put the following Python code in it:"
   ]
  },
  {
   "cell_type": "code",
   "execution_count": 1,
   "id": "3b670ea4",
   "metadata": {},
   "outputs": [],
   "source": [
    "from django.http import HttpResponse\n",
    "\n",
    "\n",
    "def index(request):\n",
    "    return HttpResponse(\"Hello, world. You're at the greeter app index.\")"
   ]
  },
  {
   "cell_type": "markdown",
   "id": "e3a4e9eb",
   "metadata": {},
   "source": [
    "This is the simplest view possible in Django. To call the view, we need to map it to a URL - and for this we need a URLconf.\n",
    "\n",
    "To create a URLconf in the `greeter` directory, create a file called `urls.py` and include the following code:"
   ]
  },
  {
   "cell_type": "code",
   "execution_count": null,
   "id": "d3e4efca",
   "metadata": {},
   "outputs": [],
   "source": [
    "from django.urls import path\n",
    "\n",
    "from . import views\n",
    "\n",
    "urlpatterns = [\n",
    "    path('', views.index, name='index'),\n",
    "]"
   ]
  },
  {
   "cell_type": "markdown",
   "id": "c6141d76",
   "metadata": {},
   "source": [
    "The next step is to point the root URLconf at the greeter.urls module. In `mysite/urls.py`, add an import for `django.urls.include` and insert an `include()` in the urlpatterns list, so you have:"
   ]
  },
  {
   "cell_type": "code",
   "execution_count": null,
   "id": "3e0fb42b",
   "metadata": {},
   "outputs": [],
   "source": [
    "from django.contrib import admin\n",
    "from django.urls import include, path\n",
    "\n",
    "urlpatterns = [\n",
    "    path('', include('greeter.urls')),\n",
    "    path('admin/', admin.site.urls),\n",
    "]"
   ]
  },
  {
   "cell_type": "markdown",
   "id": "01533bc7",
   "metadata": {},
   "source": [
    "The idea behind include() is to make it easy to plug-and-play URLs. Since greeter is in its own URLconf `greeter/urls.py`, they can be placed under “/greet/”, or under “/fun_greet/”, or under “/polite/greets/”, or any other path root, and the app will still work.\n",
    "\n",
    "It is now wired an index view into the URLconf. Verify it’s working with the following command:\n",
    "\n",
    "```\n",
    "python manage.py runserver\n",
    "```"
   ]
  },
  {
   "cell_type": "markdown",
   "id": "d22fdc21",
   "metadata": {},
   "source": [
    "## Database setup\n",
    "\n",
    "Now, open up `mysite/settings.py`. It’s a normal Python module with module-level variables representing Django settings.\n",
    "\n",
    "By default, the configuration uses SQLite. SQLite is included in Python, so you won’t need to install anything else to support your database.\n",
    "\n",
    "If you wish to use another database, install the appropriate database bindings and change the following keys in the DATABASES 'default' item to match your database connection settings:\n",
    "\n",
    "* **ENGINE** – Either `django.db.backends.sqlite3`, `django.db.backends.postgresql`, `django.db.backends.mysql`, or `django.db.backends.oracle`. Other backends are also available.\n",
    "* **NAME** – The name of your database. If you’re using SQLite, the database will be a file on your computer; in that case, NAME should be the full absolute path, including filename, of that file. The default value, BASE_DIR / 'db.sqlite3', will store the file in your project directory.\n",
    "\n",
    "In case of different databases than SQLite is ussed, additional settings such as USER, PASSWORD, and HOST must be added.\n",
    "\n",
    "### Application in `settings.py`\n",
    "\n",
    "By default, INSTALLED_APPS contains the following apps, all of which come with Django:\n",
    "\n",
    "* django.contrib.admin – The admin site. You’ll use it shortly.\n",
    "* django.contrib.auth – An authentication system.\n",
    "* django.contrib.contenttypes – A framework for content types.\n",
    "* django.contrib.sessions – A session framework.\n",
    "* django.contrib.messages – A messaging framework.\n",
    "* django.contrib.staticfiles – A framework for managing static files.\n",
    "\n",
    "These applications are included by default as a convenience for the common case.\n",
    "\n",
    "Some of these applications make use of at least one database table, though, so we need to create the tables in the database before we can use them. To do that, run the following command:\n",
    "\n",
    "```\n",
    "python manage.py migrate\n",
    "```\n",
    "\n",
    "The migrate command looks at the INSTALLED_APPS setting and creates any necessary database tables according to the database settings in your `mysite/settings.py` file and the database migrations shipped with the app (we’ll cover those later). You’ll see a message for each migration it applies:\n",
    "\n",
    "```\n",
    "Operations to perform:\n",
    "  Apply all migrations: admin, auth, contenttypes, sessions\n",
    "Running migrations:\n",
    "  Applying contenttypes.0001_initial... OK\n",
    "  Applying auth.0001_initial... OK\n",
    "  Applying admin.0001_initial... OK\n",
    "  Applying admin.0002_logentry_remove_auto_add... OK\n",
    "  Applying admin.0003_logentry_add_action_flag_choices... OK\n",
    "  Applying contenttypes.0002_remove_content_type_name... OK\n",
    "  Applying auth.0002_alter_permission_name_max_length... OK\n",
    "  Applying auth.0003_alter_user_email_max_length... OK\n",
    "  Applying auth.0004_alter_user_username_opts... OK\n",
    "  Applying auth.0005_alter_user_last_login_null... OK\n",
    "  Applying auth.0006_require_contenttypes_0002... OK\n",
    "  Applying auth.0007_alter_validators_add_error_messages... OK\n",
    "  Applying auth.0008_alter_user_username_max_length... OK\n",
    "  Applying auth.0009_alter_user_last_name_max_length... OK\n",
    "  Applying auth.0010_alter_group_name_max_length... OK\n",
    "  Applying auth.0011_update_proxy_permissions... OK\n",
    "  Applying auth.0012_alter_user_first_name_max_length... OK\n",
    "  Applying sessions.0001_initial... OK\n",
    "\n",
    "```\n",
    "\n",
    "### Creating models\n",
    "\n",
    "A model is the single, definitive source of information about your data. It contains the essential fields and behaviors of the data you’re storing. Django follows the [DRY Principle](https://wiki.c2.com/?DontRepeatYourself). The goal is to define your data model in one place and automatically derive things from it.\n",
    "\n",
    "This includes the migrations, for example, migrations are entirely derived from your models file, and are essentially a history that Django can roll through to update your database schema to match your current models.\n",
    "\n",
    "In the greeter app, users that want to be greeted will have to register first, using a name and an honorific way to reffer to them during the greeting process. So the app will contain one model: `User`. A `User` has a name and an honorific. \n",
    "\n",
    "Edit the `greeter/models.py` file so it looks like this:"
   ]
  },
  {
   "cell_type": "code",
   "execution_count": null,
   "id": "dee94b5f",
   "metadata": {},
   "outputs": [],
   "source": [
    "from django.db import models\n",
    "\n",
    "\n",
    "class User(models.Model):\n",
    "    name = models.CharField(max_length=200)\n",
    "    title = models.CharField(max_length=200, default='Mx')"
   ]
  },
  {
   "cell_type": "markdown",
   "id": "a08d76b4",
   "metadata": {},
   "source": [
    "* Each model is represented by a class that subclasses `django.db.models.Model`. Each model has a number of class variables, each of which represents a database field in the model.\n",
    "* Each field is represented by an instance of a Field class – e.g., CharField for character fields and DateTimeField for datetimes. This tells Django what type of data each field holds.\n",
    "* The name of each Field instance is the field’s name, in machine-friendly format. You’ll use this value in your Python code, and your database will use it as the column name.\n",
    "* A Field can also have various optional arguments; in this case, we’ve set the default value of honorific to \"Mx\".\n",
    "\n",
    "### Activating models\n",
    "\n",
    "That small bit of code gives Djando a los of information, with it Dango is able to: \n",
    "\n",
    "* Create a database schema for this app. \n",
    "* Create a Python database-access API for accessing `User` objects. \n",
    "\n",
    "But first we need to tell our project that the **greeter** app is installed. Since apps in Djando are \"pluggable\", you can use this app in multiple projects, and distribute it, because they don't have to be tied to a given Django installation. \n",
    "\n",
    "To install the app in the project is enough to add a reference to the app's configuration class in the `INSTALLED_APPS` setting on the `mysite/settings.py`. To do that, use the `GreeterConfig` class in the `greeter/apps.py` file, so its dotter path is `greeter.apps.GreeterConfig`."
   ]
  },
  {
   "cell_type": "code",
   "execution_count": 1,
   "id": "1100834b",
   "metadata": {},
   "outputs": [],
   "source": [
    "INSTALLED_APPS = [\n",
    "    'greeter.apps.GreeterConfig',\n",
    "    'django.contrib.admin',\n",
    "    'django.contrib.auth',\n",
    "    'django.contrib.contenttypes',\n",
    "    'django.contrib.sessions',\n",
    "    'django.contrib.messages',\n",
    "    'django.contrib.staticfiles',\n",
    "]"
   ]
  },
  {
   "cell_type": "markdown",
   "id": "155e075b",
   "metadata": {},
   "source": [
    "Now Django knows to include the greeter app. Let's run another command: \n",
    "\n",
    "```\n",
    "python manage.py makemigrations greeter\n",
    "```\n",
    "\n",
    "By running `makemigration` you are telling Djando that you've made some changes to your models. \n",
    "\n",
    "Migrations are how Djando stores changes to your models (and thus the database schema) - they are files on disk located inside the app's folder under the `migration` directory.\n",
    "\n",
    "There’s a command that will run the migrations for you and manage your database schema automatically - that’s called `migrate`, and we’ll come to it in a moment - but first, let’s see what SQL that migration would run. The `sqlmigrate` command takes migration names and returns their SQL:\n",
    "\n",
    "```\n",
    "python manage.py sqlmigrate greeter 0001\n",
    "```\n",
    "\n",
    "You can also run:\n",
    "\n",
    "```\n",
    "python manage.py check\n",
    "```\n",
    "\n",
    "This checks for any problems in your project without making migrations or touching the database.\n",
    "\n",
    "Now, run `migrate` again to create those model tables in your database:\n",
    "\n",
    "```\n",
    "python manage.py migrate\n",
    "```\n",
    "\n",
    "### Playing with the API\n",
    "\n",
    "Django provides you with an interactive shell session that you can use to play around with the databas API. To invoke the Python shell, use this command: \n",
    "\n",
    "```\n",
    "python manage.py shell\n",
    "```\n",
    "\n",
    "Once you are in the shell, you can explore the database API:"
   ]
  },
  {
   "cell_type": "code",
   "execution_count": null,
   "id": "1c1e2cf9",
   "metadata": {},
   "outputs": [],
   "source": [
    "from greeter.model import User"
   ]
  },
  {
   "cell_type": "markdown",
   "id": "05c5c521",
   "metadata": {},
   "source": [
    "List all users, but no users are in the system yet"
   ]
  },
  {
   "cell_type": "code",
   "execution_count": null,
   "id": "eb05aae3",
   "metadata": {},
   "outputs": [],
   "source": [
    "User.objects.all()"
   ]
  },
  {
   "cell_type": "markdown",
   "id": "b418877e",
   "metadata": {},
   "source": [
    "Create a new user, give it a name; we can ignore the title since it has a default value. You'd create a regular object:"
   ]
  },
  {
   "cell_type": "code",
   "execution_count": null,
   "id": "d790be49",
   "metadata": {},
   "outputs": [],
   "source": [
    "u = User(name='Samir')"
   ]
  },
  {
   "cell_type": "markdown",
   "id": "a45b1f0b",
   "metadata": {},
   "source": [
    "Save the object into the database. You have to call `save()` explicitly"
   ]
  },
  {
   "cell_type": "code",
   "execution_count": null,
   "id": "98f5a811",
   "metadata": {},
   "outputs": [],
   "source": [
    "u.save()"
   ]
  },
  {
   "cell_type": "markdown",
   "id": "65e93446",
   "metadata": {},
   "source": [
    "Now it has an id"
   ]
  },
  {
   "cell_type": "code",
   "execution_count": null,
   "id": "9393877b",
   "metadata": {},
   "outputs": [],
   "source": [
    "u.id, u.name, u.title"
   ]
  },
  {
   "cell_type": "markdown",
   "id": "d894fe38",
   "metadata": {},
   "source": [
    "Let's change the not so expressive representation as text the `User` object has `<User: User object (1)>`. Can be fixed by editing the `User` model and adding a `__str__()` method:"
   ]
  },
  {
   "cell_type": "code",
   "execution_count": null,
   "id": "ae5593e3",
   "metadata": {},
   "outputs": [],
   "source": [
    "from django.db import models\n",
    "\n",
    "\n",
    "class User(models.Model):\n",
    "    # ...\n",
    "    def __str__(self):\n",
    "        return ' '.join((self.title, self.name))"
   ]
  },
  {
   "cell_type": "markdown",
   "id": "587a65b5",
   "metadata": {},
   "source": [
    "It’s important to add `__str__()` methods to your models, not only for your own convenience when dealing with the interactive prompt, but also because objects’ representations are used throughout Django’s automatically-generated admin."
   ]
  },
  {
   "cell_type": "markdown",
   "id": "8c7203cb",
   "metadata": {},
   "source": [
    "Let's also all some custom method to this model:"
   ]
  },
  {
   "cell_type": "code",
   "execution_count": null,
   "id": "4bb09a6a",
   "metadata": {},
   "outputs": [],
   "source": [
    "from django.db import models\n",
    "\n",
    "\n",
    "class User(models.Model):\n",
    "    def is_male(self):\n",
    "        return self.title.lower() in ['mr', 'master']\n",
    "    \n",
    "    def is_female(self):\n",
    "        return self.title.lower() not in ['mx'] and not self.is_male()"
   ]
  },
  {
   "cell_type": "markdown",
   "id": "242258a7",
   "metadata": {},
   "source": [
    "Save these changes and start a new Python interactive shell again. \n",
    "\n",
    "Django provides a rich database lookup API that's entirely driven by keywords arguments:"
   ]
  },
  {
   "cell_type": "code",
   "execution_count": null,
   "id": "e919cdd5",
   "metadata": {},
   "outputs": [],
   "source": [
    "User.objects.filter(id=1)"
   ]
  },
  {
   "cell_type": "code",
   "execution_count": null,
   "id": "4585a75c",
   "metadata": {},
   "outputs": [],
   "source": [
    "User.object.filter(name__startswith='S')"
   ]
  },
  {
   "cell_type": "code",
   "execution_count": null,
   "id": "79f4a40a",
   "metadata": {},
   "outputs": [],
   "source": [
    "u = User.objects.get(name='Samir')\n",
    "u.is_male()\n",
    "u.is_female()"
   ]
  },
  {
   "cell_type": "code",
   "execution_count": null,
   "id": "190ee5e5",
   "metadata": {},
   "outputs": [],
   "source": [
    "u.delete()"
   ]
  },
  {
   "cell_type": "markdown",
   "id": "51f7ace4",
   "metadata": {},
   "source": [
    "## Introducing Django Admin\n",
    "\n",
    "Generating admin sites for your staff or clients to add, change, and delete content is tedious work that doesn’t require much creativity. For that reason, Django entirely automates creation of admin interfaces for models.\n",
    "\n",
    "Django was written in a newsroom environment, with a very clear separation between “content publishers” and the “public” site. Site managers use the system to add news stories, events, sports scores, etc., and that content is displayed on the public site. Django solves the problem of creating a unified interface for site administrators to edit content.\n",
    "\n",
    "The admin isn’t intended to be used by site visitors. It’s for site managers.\n",
    "\n",
    "### Creating an admin user\n",
    "\n",
    "First we’ll need to create a user who can login to the admin site. Run the following command:\n",
    "\n",
    "```\n",
    "python manage.py createsueruser\n",
    "```\n",
    "\n",
    "Enter your desired username, email address and the final step is to enter your password. \n",
    "\n",
    "The django admin site is activated by default. Start the development server end explore it. \n",
    "\n",
    "```\n",
    "python manage.py runserver\n",
    "```\n",
    "\n",
    "Now open the bowser and go to \"/admin/  on your locan domain - e.g., http://localhost:8000/admin\n",
    "\n",
    "\n",
    "## Make the greeter app modifiable in the admin\n",
    "\n",
    "As can be noticeable the greeter app is not displayed in the admin page. It is necesary to tell the admin that the `User` objects have an admin interface. To do that, open the `greeter/admin.py` file, and edit it to look like this:"
   ]
  },
  {
   "cell_type": "code",
   "execution_count": null,
   "id": "49c54111",
   "metadata": {},
   "outputs": [],
   "source": [
    "from django.contrib import admin \n",
    "\n",
    "from .models import User\n",
    "\n",
    "admin.site.register(User)"
   ]
  },
  {
   "cell_type": "markdown",
   "id": "f0fa9859",
   "metadata": {},
   "source": [
    "## More on views\n",
    "\n",
    "Each view is responsible for doing one of two things: returning an HttpResponse object containing the content for the requested page, or raising an exception such as Http404. The rest is up to you.\n",
    "\n",
    "Your view can read records from a database, or not. It can use a template system such as Django’s – or a third-party Python template system – or not. It can generate a PDF file, output XML, create a ZIP file on the fly, anything you want, using whatever Python libraries you want.\n",
    "\n",
    "All Django wants is that HttpResponse. Or an exception.\n",
    "\n",
    "Because it’s convenient, let’s use Django’s own database API, which was covered already. Here’s one stab at a new index() view, which displays 5 users registered in the system, separated by commas, ordered by their name:"
   ]
  },
  {
   "cell_type": "code",
   "execution_count": null,
   "id": "7f3f43d9",
   "metadata": {},
   "outputs": [],
   "source": [
    "from django.http import HttpResponse\n",
    "\n",
    "from .models import User\n",
    "\n",
    "\n",
    "def index(request):\n",
    "    users = User.objects.order_by('-name')[:5]\n",
    "    output = ', '.join([f'{u.title} {u.name}' for u in users])\n",
    "    return HttpResponse(output)"
   ]
  },
  {
   "cell_type": "markdown",
   "id": "f182ce33",
   "metadata": {},
   "source": [
    "There is a problem here, though: the page design is hard-coded in the view. If you want to change the way the page looks, you'll have to edir Python code. Django provides a **template system** to separate the design from Python by creating a template that the view can use. \n",
    "\n",
    "First, create a directory called `templates` in your `greeter` directory. Django will look for templates in there.\n",
    "\n",
    "Your project’s `TEMPLATES` setting describes how Django will load and render templates. The default settings file configures a DjangoTemplates backend whose `APP_DIRS` option is set to True. By convention DjangoTemplates looks for a “templates” subdirectory in each of the `INSTALLED_APPS`.\n",
    "\n",
    "Within the templates directory you have just created, create another directory called `greeter`, and within that create a file called index.html. In other words, your template should be at `greeter/templates/greeter/index.html`. Because of how the app_directories template loader works as described above, you can refer to this template within Django as `greeter/index.html`.\n",
    "\n",
    "Put the following code in that template:"
   ]
  },
  {
   "cell_type": "code",
   "execution_count": null,
   "id": "436ba5b3",
   "metadata": {},
   "outputs": [],
   "source": [
    "{% if users %}\n",
    "    <ul>\n",
    "    {% for user in users %}\n",
    "        <li>{{user.title}} {{user.name}}</li>\n",
    "    {% endfor %}\n",
    "    </ul>\n",
    "{% else %}\n",
    "    <p>No user registered</p>\n",
    "{% endif %}"
   ]
  },
  {
   "cell_type": "markdown",
   "id": "05c3d11e",
   "metadata": {},
   "source": [
    "Now let's update the index view to use the template:"
   ]
  },
  {
   "cell_type": "code",
   "execution_count": null,
   "id": "0871ec3f",
   "metadata": {},
   "outputs": [],
   "source": [
    "from django.http import HttpResponse\n",
    "from django.template import loader\n",
    "\n",
    "from .models import User\n",
    "\n",
    "\n",
    "def index(request):\n",
    "    users = User.objects.order_by('-name')[:5]\n",
    "    template = loader.get_template('greeter/index.html')\n",
    "    context = {\n",
    "        'users': users\n",
    "    }\n",
    "    return HttpResponse(template.render(context, request))"
   ]
  },
  {
   "cell_type": "markdown",
   "id": "98a2ae4e",
   "metadata": {},
   "source": [
    "## A shortcut: render()\n",
    "\n",
    "It's very common idiom to load a template, fill a context and return an HttpResponse object with the result of the template. Django provides a shortcut. Here's the full `index()` view, rewritten:"
   ]
  },
  {
   "cell_type": "code",
   "execution_count": null,
   "id": "5c6f3c73",
   "metadata": {},
   "outputs": [],
   "source": [
    "from django.shortcuts import render\n",
    "\n",
    "from .models import User\n",
    "\n",
    "\n",
    "def index(request):\n",
    "    users = User.objects.order_by('-name')[:5]\n",
    "    context = {\n",
    "        'users': users\n",
    "    }\n",
    "    return render(request, 'greeter/index.html', context)"
   ]
  },
  {
   "cell_type": "markdown",
   "source": [
    "## Working with Forms\n",
    "\n",
    "To accept new user registration, the application will need to provide an HTML form to capture the name and the title of the user. In a very simplified way, the required form should look something like this:\n",
    "\n",
    "```\n",
    "<form action=\"/register\" method=\"post\">\n",
    "    <label for=\"id_name\">Your name:</label>\n",
    "    <input type=\"text\" name=\"name\">\n",
    "    <label for=\"id_title\">Title:</label></th>\n",
    "    <input type=\"text\" name=\"title\" id=\"id_title\">\n",
    "    <input type=\"submit\" value=\"Register\">\n",
    "</form>\n",
    "```\n",
    "\n",
    "Once the \"Register\" button is pressed, the data will be sent to the `/register` URL for validation and then create the user in the database. Once the user is correctly registered, the application will redirect, finally, to the greeting view.\n",
    "\n",
    "The following is the new URLconf for the greeter app:"
   ],
   "metadata": {
    "collapsed": false
   }
  },
  {
   "cell_type": "code",
   "execution_count": null,
   "outputs": [],
   "source": [
    "from django.urls import path\n",
    "\n",
    "from . import views\n",
    "\n",
    "urlpatterns = [\n",
    "    path('', views.index, name='index'),\n",
    "    path('register', views.register, name='register'),\n",
    "    path('greet/<int:user_id>', views.greet, name='greet')\n",
    "]"
   ],
   "metadata": {
    "collapsed": false
   }
  },
  {
   "cell_type": "markdown",
   "source": [
    "The required form could be written in HTML as before, but that way the developer will be left with several functional and not functional work to do like implementing validations over the provided data or dealing with well known security issues. To deal with all this in a very transparent and declarative way, Django provides an way to define forms.\n",
    "\n",
    "Create a new Python module under the `greeter` directory of the app named `forms.py` and add the following code:"
   ],
   "metadata": {
    "collapsed": false
   }
  },
  {
   "cell_type": "code",
   "execution_count": null,
   "outputs": [],
   "source": [
    "from django import forms\n",
    "\n",
    "\n",
    "class RegistrationForm(forms.Form):\n",
    "    name = forms.CharField(label='Your name', min_length=2)\n",
    "    title = forms.CharField(label=\"Title\", help_text=\"Mx will be used if not provided\", required=False)\n"
   ],
   "metadata": {
    "collapsed": false
   }
  },
  {
   "cell_type": "markdown",
   "source": [
    "This defines a Form class with two fields `name` and `title`. Fields defined human friendly labels and some constrains:\n",
    "\n",
    "* `name` field should be at least 2 characters (min_length)\n",
    "* `name` field is implicitly required\n",
    "* `title` is not required\n",
    "\n",
    "Now let's create the views to handle form request and response. Add these views to the `greeter\\views.py` module:"
   ],
   "metadata": {
    "collapsed": false
   }
  },
  {
   "cell_type": "code",
   "execution_count": null,
   "outputs": [],
   "source": [
    "def register(request):\n",
    "    if request.method == 'POST':\n",
    "        form = RegistrationForm(request.POST)\n",
    "        if form.is_valid():\n",
    "            name = form.cleaned_data['name']\n",
    "            title = form.cleaned_data['title']\n",
    "            new_user = User(name=name)\n",
    "            if title:\n",
    "                new_user.title = title\n",
    "            new_user.save()\n",
    "            return HttpResponseRedirect(reverse('greet', args=(new_user.id,)))\n",
    "    else:\n",
    "        form = RegistrationForm()\n",
    "\n",
    "    context = {'form': form}\n",
    "    return render(request, 'greeter/register.html', context)\n",
    "\n",
    "\n",
    "def greet(request, user_id):\n",
    "    u = User.objects.get(pk=user_id)\n",
    "    return render(request, 'greeter/greet.html', {'user': u})"
   ],
   "metadata": {
    "collapsed": false
   }
  },
  {
   "cell_type": "markdown",
   "source": [
    "There is a lot to unpack in these views, let's see what's happening:\n",
    "\n",
    "* `register` view handles both HTTP POST and GET methods. Being POST the request with the form data, and GET the request to render the form\n",
    "* Notice the method `is_valid()` from the form. This will perform all the validations declared in the form definition\n",
    "* Notice the data is accessed via the `cleaned_data` attribute of the form (is a dict). Each field is responsible not only for its data validation but also \"cleaning\" it, resulting in a consistent output.\n",
    "* Once the user is correctly registered the `register` view will pass the control to the `geet` view. Notice the use of the `reverse()` function passed to the `HttpResponseRedirect`. This function will use the URLconf to locate the correct URL by name, avoiding hard coded URLs in the code.\n",
    "\n",
    "What's missing now are the templates to register and greet. Create a new `register.html` file inside the  `templates\\greeter` directory inside the greeter app with the following content:"
   ],
   "metadata": {
    "collapsed": false
   }
  },
  {
   "cell_type": "code",
   "execution_count": null,
   "outputs": [],
   "source": [
    "<!DOCTYPE html>\n",
    "<html lang=\"en\">\n",
    "<head>\n",
    "    <meta charset=\"UTF-8\">\n",
    "    <title>Registration form</title>\n",
    "</head>\n",
    "<body>\n",
    "<form action=\"{% url 'register' %}\" method=\"post\">\n",
    "    {% csrf_token %}\n",
    "    {{ form }}\n",
    "    <input type=\"submit\" value=\"Register\">\n",
    "</form>\n",
    "</body>\n",
    "</html>"
   ],
   "metadata": {
    "collapsed": false
   }
  },
  {
   "cell_type": "markdown",
   "source": [
    "To avoid hard coding URLs in the templates the `{% url <URL_NAME> %}` placeholder can be used to locate the URL named as `<URL_NAME>` in URLconf.\n",
    "\n",
    "The `{% csrf_token %}` is there to protect your application from [Cross Site Request Forgery](https://docs.djangoproject.com/en/4.1/ref/csrf/) attacks.\n",
    "\n",
    "Now create a new `greet.html` file in the same folder with the following content:"
   ],
   "metadata": {
    "collapsed": false
   }
  },
  {
   "cell_type": "code",
   "execution_count": null,
   "outputs": [],
   "source": [
    "<!DOCTYPE html>\n",
    "<html lang=\"en\">\n",
    "<head>\n",
    "    <meta charset=\"UTF-8\">\n",
    "    <title>Yo really want to be greeted right?</title>\n",
    "</head>\n",
    "<body>\n",
    "  <h1>Hello {{user.title}} {{user.name}}</h1>\n",
    "</body>\n",
    "</html>"
   ],
   "metadata": {
    "collapsed": false
   }
  },
  {
   "cell_type": "markdown",
   "source": [
    "This is the template that will finally greet the user upon registration"
   ],
   "metadata": {
    "collapsed": false
   }
  }
 ],
 "metadata": {
  "kernelspec": {
   "display_name": "Python 3 (ipykernel)",
   "language": "python",
   "name": "python3"
  },
  "language_info": {
   "codemirror_mode": {
    "name": "ipython",
    "version": 3
   },
   "file_extension": ".py",
   "mimetype": "text/x-python",
   "name": "python",
   "nbconvert_exporter": "python",
   "pygments_lexer": "ipython3",
   "version": "3.10.6"
  }
 },
 "nbformat": 4,
 "nbformat_minor": 5
}
